{
 "cells": [
  {
   "cell_type": "code",
   "execution_count": null,
   "metadata": {},
   "outputs": [],
   "source": [
    "import gensim\n",
    "from FeatureExtraction.SentencesIteratorForWV import SentencesIteratorForWV\n",
    "from gensim.models.word2vec import Word2Vec\n",
    "import numpy as np"
   ]
  },
  {
   "cell_type": "code",
   "execution_count": null,
   "metadata": {
    "collapsed": true
   },
   "outputs": [],
   "source": [
    "def create_word2vector_model(sentences, wv_size=150, min_count=0, num_iter=2):\n",
    "    model = Word2Vec(SentencesIteratorForWV(sentences), size=wv_size, min_count=min_count, workers=4, iter=num_iter)    \n",
    "    return model\n",
    "\n",
    "def create_embeddings_matrix(model, rev_vocab_dict):\n",
    "    embeddings_matrix = np.asarray([model.wv.__getitem__(rev_vocab_dict[vocab_id]) for vocab_id in range(len(rev_vocab_dict))])\n",
    "    return embeddings_matrix\n",
    "\n",
    "def save_word2vector_model(model, file_path_name):\n",
    "    model.save(file_path_name)\n",
    "\n",
    "def load_word2vector_model(file_path_name):\n",
    "    model = Word2Vec.load(file_path_name)   \n",
    "    return model"
   ]
  }
 ],
 "metadata": {
  "kernelspec": {
   "display_name": "multicourt_pol",
   "language": "python",
   "name": "multicourt_pol"
  },
  "language_info": {
   "codemirror_mode": {
    "name": "ipython",
    "version": 3
   },
   "file_extension": ".py",
   "mimetype": "text/x-python",
   "name": "python",
   "nbconvert_exporter": "python",
   "pygments_lexer": "ipython3",
   "version": "3.5.2"
  }
 },
 "nbformat": 4,
 "nbformat_minor": 1
}
