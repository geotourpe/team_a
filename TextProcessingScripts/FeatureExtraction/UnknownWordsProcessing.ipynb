{
 "cells": [
  {
   "cell_type": "code",
   "execution_count": null,
   "metadata": {
    "collapsed": true
   },
   "outputs": [],
   "source": [
    "class UnknownWordsProcessing(object):\n",
    "    def __init__(self, vocab_list, replace, replace_unknow_word_with='unk'):\n",
    "        self.vocab_list = vocab_list\n",
    "        self.replace = replace # Boolean\n",
    "        self.replace_unknow_word_with = replace_unknow_word_with #string\n",
    "        \n",
    "    def remove_or_replace_unkown_word_from_sentence(self, tokenized_sentence):    \n",
    "        if self.replace == False:\n",
    "            unknown_word_removed_sentence = [word for word in tokenized_sentence if word in self.vocab_list]\n",
    "            return unknown_word_removed_sentence\n",
    "        else:\n",
    "            unknown_word_replaced_sentence = [word if word in self.vocab_list else self.replace_unknow_word_with for word in tokenized_sentence]\n",
    "            return unknown_word_replaced_sentence\n",
    "\n",
    "    def remove_or_replace_unkown_word_from_sentences(self, tokenized_sentences_tokenized_words):    \n",
    "        unknown_word_removed_or_replaced_sentences = [self.remove_or_replace_unkown_word_from_sentence(tokenized_sentence) for tokenized_sentence in tokenized_sentences_tokenized_words]\n",
    "        return unknown_word_removed_or_replaced_sentences\n"
   ]
  }
 ],
 "metadata": {
  "kernelspec": {
   "display_name": "multicourt_pol",
   "language": "python",
   "name": "multicourt_pol"
  },
  "language_info": {
   "codemirror_mode": {
    "name": "ipython",
    "version": 3
   },
   "file_extension": ".py",
   "mimetype": "text/x-python",
   "name": "python",
   "nbconvert_exporter": "python",
   "pygments_lexer": "ipython3",
   "version": "3.5.2"
  }
 },
 "nbformat": 4,
 "nbformat_minor": 2
}
