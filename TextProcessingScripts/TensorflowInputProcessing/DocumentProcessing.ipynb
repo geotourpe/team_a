{
 "cells": [
  {
   "cell_type": "code",
   "execution_count": null,
   "metadata": {
    "collapsed": true
   },
   "outputs": [],
   "source": [
    "import numpy as np"
   ]
  },
  {
   "cell_type": "code",
   "execution_count": null,
   "metadata": {
    "collapsed": true
   },
   "outputs": [],
   "source": [
    "import sys\n",
    "sys.path.insert(0,'..')\n",
    "from CustomExceptions.CustomExceptions import SentenceLongerError, SentenceShorterError, DocumentLongerError, DocumentShorterError"
   ]
  },
  {
   "cell_type": "code",
   "execution_count": null,
   "metadata": {
    "collapsed": true
   },
   "outputs": [],
   "source": [
    "class DocumentProcessing(object):\n",
    "    \n",
    "    def pad_doc(self, preprocessed_sentences_of_document, chosen_doc_len, chosen_sent_len):\n",
    "        if len(preprocessed_sentences_of_document) <= chosen_doc_len:\n",
    "            return np.vstack((preprocessed_sentences_of_document, [[\"my_dummy\"]*chosen_sent_len]*(chosen_doc_len-len(preprocessed_sentences_of_document))))\n",
    "        else:\n",
    "            raise DocumentLongerError\n",
    "            \n",
    "    def truncate_doc(self, preprocessed_sentences_of_document, chosen_doc_len):\n",
    "        if len(preprocessed_sentences_of_document) >= chosen_doc_len:\n",
    "            return preprocessed_sentences_of_document[:chosen_doc_len]\n",
    "        else:\n",
    "            raise DocumentShorterError\n",
    "            \n",
    "    def pad_truncate_document(self, preprocessed_sentences_of_document, chosen_doc_len, chosen_sent_len):\n",
    "        if len(preprocessed_sentences_of_document) < chosen_doc_len:\n",
    "            preprocessed_document = self.pad_doc(preprocessed_sentences_of_document, chosen_doc_len, chosen_sent_len)\n",
    "        elif len(preprocessed_sentences_of_document) > chosen_doc_len:\n",
    "            preprocessed_document = self.truncate_doc(preprocessed_sentences_of_document, chosen_doc_len)\n",
    "        else:\n",
    "            preprocessed_document = preprocessed_sentences_of_document\n",
    "        return preprocessed_document\n",
    "    \n",
    "    "
   ]
  },
  {
   "cell_type": "code",
   "execution_count": null,
   "metadata": {
    "collapsed": true
   },
   "outputs": [],
   "source": []
  }
 ],
 "metadata": {
  "kernelspec": {
   "display_name": "multicourt_pol",
   "language": "python",
   "name": "multicourt_pol"
  },
  "language_info": {
   "codemirror_mode": {
    "name": "ipython",
    "version": 3
   },
   "file_extension": ".py",
   "mimetype": "text/x-python",
   "name": "python",
   "nbconvert_exporter": "python",
   "pygments_lexer": "ipython3",
   "version": "3.5.2"
  }
 },
 "nbformat": 4,
 "nbformat_minor": 1
}
