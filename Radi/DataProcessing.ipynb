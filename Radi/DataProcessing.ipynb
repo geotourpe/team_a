{
 "cells": [
  {
   "cell_type": "code",
   "execution_count": 23,
   "metadata": {},
   "outputs": [],
   "source": [
    "import pandas as pd"
   ]
  },
  {
   "cell_type": "code",
   "execution_count": 48,
   "metadata": {},
   "outputs": [],
   "source": [
    "dataset = pd.read_csv(\"../data/train.csv\")"
   ]
  },
  {
   "cell_type": "code",
   "execution_count": 49,
   "metadata": {},
   "outputs": [],
   "source": [
    "dataset.drop_duplicates(inplace=True)"
   ]
  },
  {
   "cell_type": "code",
   "execution_count": 50,
   "metadata": {},
   "outputs": [
    {
     "data": {
      "text/plain": [
       "(79383, 4)"
      ]
     },
     "execution_count": 50,
     "metadata": {},
     "output_type": "execute_result"
    }
   ],
   "source": [
    "dataset.shape"
   ]
  },
  {
   "cell_type": "code",
   "execution_count": 39,
   "metadata": {},
   "outputs": [
    {
     "data": {
      "text/html": [
       "<div>\n",
       "<style scoped>\n",
       "    .dataframe tbody tr th:only-of-type {\n",
       "        vertical-align: middle;\n",
       "    }\n",
       "\n",
       "    .dataframe tbody tr th {\n",
       "        vertical-align: top;\n",
       "    }\n",
       "\n",
       "    .dataframe thead th {\n",
       "        text-align: right;\n",
       "    }\n",
       "</style>\n",
       "<table border=\"1\" class=\"dataframe\">\n",
       "  <thead>\n",
       "    <tr style=\"text-align: right;\">\n",
       "      <th></th>\n",
       "      <th>company1</th>\n",
       "      <th>company2</th>\n",
       "      <th>is_parent</th>\n",
       "      <th>snippet</th>\n",
       "    </tr>\n",
       "  </thead>\n",
       "  <tbody>\n",
       "    <tr>\n",
       "      <th>0</th>\n",
       "      <td>Sprint_Corporation</td>\n",
       "      <td>Verizon_Communications</td>\n",
       "      <td>False</td>\n",
       "      <td>1 wireless carrier Verizon_Communications (NY...</td>\n",
       "    </tr>\n",
       "    <tr>\n",
       "      <th>1</th>\n",
       "      <td>Sprint_Corporation</td>\n",
       "      <td>Verizon_Communications</td>\n",
       "      <td>False</td>\n",
       "      <td>While AT&amp;T, Sprint_Corporation, and T-Mobile ...</td>\n",
       "    </tr>\n",
       "    <tr>\n",
       "      <th>2</th>\n",
       "      <td>Sprint_Corporation</td>\n",
       "      <td>Verizon_Communications</td>\n",
       "      <td>False</td>\n",
       "      <td>\\nAT&amp;T, Sprint_Corporation, and Verizon_Commun...</td>\n",
       "    </tr>\n",
       "    <tr>\n",
       "      <th>3</th>\n",
       "      <td>Alexa_Internet</td>\n",
       "      <td>Amazon.com</td>\n",
       "      <td>False</td>\n",
       "      <td>Logitech addsAmazon.comn'sAlexa_Interneta skil...</td>\n",
       "    </tr>\n",
       "    <tr>\n",
       "      <th>4</th>\n",
       "      <td>Alexa_Internet</td>\n",
       "      <td>Amazon.com</td>\n",
       "      <td>False</td>\n",
       "      <td>\\nLogitech has announced a new version of the ...</td>\n",
       "    </tr>\n",
       "  </tbody>\n",
       "</table>\n",
       "</div>"
      ],
      "text/plain": [
       "             company1                company2  is_parent  \\\n",
       "0  Sprint_Corporation  Verizon_Communications      False   \n",
       "1  Sprint_Corporation  Verizon_Communications      False   \n",
       "2  Sprint_Corporation  Verizon_Communications      False   \n",
       "3      Alexa_Internet              Amazon.com      False   \n",
       "4      Alexa_Internet              Amazon.com      False   \n",
       "\n",
       "                                             snippet  \n",
       "0   1 wireless carrier Verizon_Communications (NY...  \n",
       "1   While AT&T, Sprint_Corporation, and T-Mobile ...  \n",
       "2  \\nAT&T, Sprint_Corporation, and Verizon_Commun...  \n",
       "3  Logitech addsAmazon.comn'sAlexa_Interneta skil...  \n",
       "4  \\nLogitech has announced a new version of the ...  "
      ]
     },
     "execution_count": 39,
     "metadata": {},
     "output_type": "execute_result"
    }
   ],
   "source": [
    "dataset[:5]"
   ]
  },
  {
   "cell_type": "code",
   "execution_count": 71,
   "metadata": {},
   "outputs": [
    {
     "data": {
      "text/plain": [
       "Index(['YouTube', 'Google', 'Verizon_Communications', 'Amazon.com',\n",
       "       'Alexa_Internet'],\n",
       "      dtype='object')"
      ]
     },
     "execution_count": 71,
     "metadata": {},
     "output_type": "execute_result"
    }
   ],
   "source": [
    "companies = dataset[\"company1\"].append(dataset[\"company2\"]).value_counts().keys()\n",
    "companies[:5]"
   ]
  },
  {
   "cell_type": "code",
   "execution_count": 73,
   "metadata": {},
   "outputs": [
    {
     "data": {
      "text/plain": [
       "(451,)"
      ]
     },
     "execution_count": 73,
     "metadata": {},
     "output_type": "execute_result"
    }
   ],
   "source": [
    "companies.shape"
   ]
  },
  {
   "cell_type": "code",
   "execution_count": 74,
   "metadata": {},
   "outputs": [],
   "source": [
    "# using this strategy to fix the problem (stated in the paper) for pairs order\n",
    "aliased_snippet = []\n",
    "\n",
    "for i in range(dataset.shape[0]):\n",
    "    current_row = dataset.iloc[i]\n",
    "     # I am adding more spaces cuz in some samples the words and concatanated\n",
    "    for company in companies:\n",
    "        current_row[\"snippet\"].replace(company, ' ' + company +' ')\n",
    "        \n",
    "    aliased_snippet.append(current_row[\"snippet\"]\n",
    "                           .replace(current_row[\"company1\"],'company1')\n",
    "                           .replace(current_row[\"company2\"],'company2'))\n",
    "dataset['aliased_snippet'] = aliased_snippet\n",
    "\n",
    "dataset['aliased_snippet'] = dataset['aliased_snippet'].str.lower()"
   ]
  },
  {
   "cell_type": "code",
   "execution_count": 76,
   "metadata": {},
   "outputs": [
    {
     "data": {
      "text/html": [
       "<div>\n",
       "<style scoped>\n",
       "    .dataframe tbody tr th:only-of-type {\n",
       "        vertical-align: middle;\n",
       "    }\n",
       "\n",
       "    .dataframe tbody tr th {\n",
       "        vertical-align: top;\n",
       "    }\n",
       "\n",
       "    .dataframe thead th {\n",
       "        text-align: right;\n",
       "    }\n",
       "</style>\n",
       "<table border=\"1\" class=\"dataframe\">\n",
       "  <thead>\n",
       "    <tr style=\"text-align: right;\">\n",
       "      <th></th>\n",
       "      <th>company1</th>\n",
       "      <th>company2</th>\n",
       "      <th>is_parent</th>\n",
       "      <th>snippet</th>\n",
       "      <th>aliased_snippet</th>\n",
       "    </tr>\n",
       "  </thead>\n",
       "  <tbody>\n",
       "    <tr>\n",
       "      <th>0</th>\n",
       "      <td>Sprint_Corporation</td>\n",
       "      <td>Verizon_Communications</td>\n",
       "      <td>False</td>\n",
       "      <td>1 wireless carrier Verizon_Communications (NY...</td>\n",
       "      <td>1 wireless carrier company2 (nyse: vz). while...</td>\n",
       "    </tr>\n",
       "    <tr>\n",
       "      <th>1</th>\n",
       "      <td>Sprint_Corporation</td>\n",
       "      <td>Verizon_Communications</td>\n",
       "      <td>False</td>\n",
       "      <td>While AT&amp;T, Sprint_Corporation, and T-Mobile ...</td>\n",
       "      <td>while at&amp;t, company1, and t-mobile were trott...</td>\n",
       "    </tr>\n",
       "    <tr>\n",
       "      <th>2</th>\n",
       "      <td>Sprint_Corporation</td>\n",
       "      <td>Verizon_Communications</td>\n",
       "      <td>False</td>\n",
       "      <td>\\nAT&amp;T, Sprint_Corporation, and Verizon_Commun...</td>\n",
       "      <td>\\nat&amp;t, company1, and company2 quickly copied ...</td>\n",
       "    </tr>\n",
       "    <tr>\n",
       "      <th>3</th>\n",
       "      <td>Alexa_Internet</td>\n",
       "      <td>Amazon.com</td>\n",
       "      <td>False</td>\n",
       "      <td>Logitech addsAmazon.comn'sAlexa_Interneta skil...</td>\n",
       "      <td>logitech addscompany2n'scompany1a skills to it...</td>\n",
       "    </tr>\n",
       "    <tr>\n",
       "      <th>4</th>\n",
       "      <td>Alexa_Internet</td>\n",
       "      <td>Amazon.com</td>\n",
       "      <td>False</td>\n",
       "      <td>\\nLogitech has announced a new version of the ...</td>\n",
       "      <td>\\nlogitech has announced a new version of the ...</td>\n",
       "    </tr>\n",
       "  </tbody>\n",
       "</table>\n",
       "</div>"
      ],
      "text/plain": [
       "             company1                company2  is_parent  \\\n",
       "0  Sprint_Corporation  Verizon_Communications      False   \n",
       "1  Sprint_Corporation  Verizon_Communications      False   \n",
       "2  Sprint_Corporation  Verizon_Communications      False   \n",
       "3      Alexa_Internet              Amazon.com      False   \n",
       "4      Alexa_Internet              Amazon.com      False   \n",
       "\n",
       "                                             snippet  \\\n",
       "0   1 wireless carrier Verizon_Communications (NY...   \n",
       "1   While AT&T, Sprint_Corporation, and T-Mobile ...   \n",
       "2  \\nAT&T, Sprint_Corporation, and Verizon_Commun...   \n",
       "3  Logitech addsAmazon.comn'sAlexa_Interneta skil...   \n",
       "4  \\nLogitech has announced a new version of the ...   \n",
       "\n",
       "                                     aliased_snippet  \n",
       "0   1 wireless carrier company2 (nyse: vz). while...  \n",
       "1   while at&t, company1, and t-mobile were trott...  \n",
       "2  \\nat&t, company1, and company2 quickly copied ...  \n",
       "3  logitech addscompany2n'scompany1a skills to it...  \n",
       "4  \\nlogitech has announced a new version of the ...  "
      ]
     },
     "execution_count": 76,
     "metadata": {},
     "output_type": "execute_result"
    }
   ],
   "source": [
    "dataset[:5]"
   ]
  },
  {
   "cell_type": "code",
   "execution_count": 77,
   "metadata": {},
   "outputs": [],
   "source": [
    "from sklearn.model_selection import train_test_split"
   ]
  },
  {
   "cell_type": "code",
   "execution_count": 78,
   "metadata": {},
   "outputs": [
    {
     "data": {
      "text/plain": [
       "((55568, 5), (23815, 5))"
      ]
     },
     "execution_count": 78,
     "metadata": {},
     "output_type": "execute_result"
    }
   ],
   "source": [
    "# I will split the train data to train,dev,test in ratio 70/20/10\n",
    "\n",
    "train, other = train_test_split(dataset, stratify=dataset[\"is_parent\"],test_size=0.3,random_state=26)\n",
    "train.shape, other.shape"
   ]
  },
  {
   "cell_type": "code",
   "execution_count": 86,
   "metadata": {},
   "outputs": [
    {
     "data": {
      "text/plain": [
       "False    39038\n",
       "True     16530\n",
       "Name: is_parent, dtype: int64"
      ]
     },
     "execution_count": 86,
     "metadata": {},
     "output_type": "execute_result"
    }
   ],
   "source": [
    "train[\"is_parent\"].value_counts()"
   ]
  },
  {
   "cell_type": "code",
   "execution_count": 87,
   "metadata": {},
   "outputs": [
    {
     "data": {
      "text/plain": [
       "False    16730\n",
       "True      7085\n",
       "Name: is_parent, dtype: int64"
      ]
     },
     "execution_count": 87,
     "metadata": {},
     "output_type": "execute_result"
    }
   ],
   "source": [
    "other[\"is_parent\"].value_counts()"
   ]
  },
  {
   "cell_type": "code",
   "execution_count": 89,
   "metadata": {},
   "outputs": [
    {
     "data": {
      "text/plain": [
       "((15876, 5), (7939, 5))"
      ]
     },
     "execution_count": 89,
     "metadata": {},
     "output_type": "execute_result"
    }
   ],
   "source": [
    "dev,test = train_test_split(other, stratify=other[\"is_parent\"], test_size=(1/3), random_state=26)\n",
    "dev.shape, test.shape"
   ]
  },
  {
   "cell_type": "code",
   "execution_count": 80,
   "metadata": {},
   "outputs": [
    {
     "name": "stdout",
     "output_type": "stream",
     "text": [
      "69.99987402844438\n",
      "19.999244170666262\n",
      "10.00088180088936\n"
     ]
    }
   ],
   "source": [
    "def in_percent(ratio):\n",
    "    return ratio*100\n",
    "\n",
    "print(in_percent(train.shape[0]/dataset.shape[0]))\n",
    "print(in_percent(dev.shape[0]/dataset.shape[0]))\n",
    "print(in_percent(test.shape[0]/dataset.shape[0]))"
   ]
  },
  {
   "cell_type": "code",
   "execution_count": 81,
   "metadata": {},
   "outputs": [],
   "source": [
    "train.to_csv(\"split/train.csv\")\n",
    "dev.to_csv(\"split/dev.csv\")\n",
    "test.to_csv(\"split/test.csv\")"
   ]
  },
  {
   "cell_type": "code",
   "execution_count": 83,
   "metadata": {},
   "outputs": [
    {
     "data": {
      "text/plain": [
       "False    39038\n",
       "True     16530\n",
       "Name: is_parent, dtype: int64"
      ]
     },
     "execution_count": 83,
     "metadata": {},
     "output_type": "execute_result"
    }
   ],
   "source": [
    "train[\"is_parent\"].value_counts()"
   ]
  },
  {
   "cell_type": "code",
   "execution_count": 84,
   "metadata": {},
   "outputs": [
    {
     "data": {
      "text/plain": [
       "False    11153\n",
       "True      4723\n",
       "Name: is_parent, dtype: int64"
      ]
     },
     "execution_count": 84,
     "metadata": {},
     "output_type": "execute_result"
    }
   ],
   "source": [
    "dev[\"is_parent\"].value_counts()"
   ]
  },
  {
   "cell_type": "code",
   "execution_count": 85,
   "metadata": {},
   "outputs": [
    {
     "data": {
      "text/plain": [
       "False    5577\n",
       "True     2362\n",
       "Name: is_parent, dtype: int64"
      ]
     },
     "execution_count": 85,
     "metadata": {},
     "output_type": "execute_result"
    }
   ],
   "source": [
    "test[\"is_parent\"].value_counts()"
   ]
  },
  {
   "cell_type": "code",
   "execution_count": null,
   "metadata": {},
   "outputs": [],
   "source": []
  }
 ],
 "metadata": {
  "kernelspec": {
   "display_name": "Python 3",
   "language": "python",
   "name": "python3"
  },
  "language_info": {
   "codemirror_mode": {
    "name": "ipython",
    "version": 3
   },
   "file_extension": ".py",
   "mimetype": "text/x-python",
   "name": "python",
   "nbconvert_exporter": "python",
   "pygments_lexer": "ipython3",
   "version": "3.5.2"
  }
 },
 "nbformat": 4,
 "nbformat_minor": 2
}
