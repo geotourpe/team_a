{
 "cells": [
  {
   "cell_type": "code",
   "execution_count": 169,
   "metadata": {},
   "outputs": [],
   "source": [
    "import pandas as pd\n",
    "import numpy as np\n",
    "import matplotlib.pyplot as plt\n",
    "%matplotlib inline"
   ]
  },
  {
   "cell_type": "code",
   "execution_count": 170,
   "metadata": {},
   "outputs": [],
   "source": [
    "train = pd.read_csv(\"./split/train.csv\")"
   ]
  },
  {
   "cell_type": "code",
   "execution_count": 171,
   "metadata": {},
   "outputs": [],
   "source": [
    "dev = pd.read_csv(\"./split/dev.csv\")"
   ]
  },
  {
   "cell_type": "code",
   "execution_count": 172,
   "metadata": {},
   "outputs": [],
   "source": [
    "test = pd.read_csv(\"./split/test.csv\")"
   ]
  },
  {
   "cell_type": "code",
   "execution_count": 173,
   "metadata": {},
   "outputs": [],
   "source": [
    "dataset = pd.read_csv(\"../data/train.csv\")"
   ]
  },
  {
   "cell_type": "code",
   "execution_count": 174,
   "metadata": {},
   "outputs": [
    {
     "data": {
      "text/plain": [
       "0                   YouTube\n",
       "1                    Google\n",
       "2                Amazon.com\n",
       "3    Verizon_Communications\n",
       "4            Alexa_Internet\n",
       "dtype: object"
      ]
     },
     "execution_count": 174,
     "metadata": {},
     "output_type": "execute_result"
    }
   ],
   "source": [
    "companies = pd.Series(dataset[\"company1\"].append(dataset[\"company2\"]).value_counts().keys().values)\n",
    "companies[:5]"
   ]
  },
  {
   "cell_type": "code",
   "execution_count": 175,
   "metadata": {},
   "outputs": [],
   "source": [
    "TEXT = \"aliased_snippet\"\n",
    "RESULT = \"is_parent\"\n",
    "COMPANY1= \"company1\"\n",
    "COMPANY2 = \"company2\""
   ]
  },
  {
   "cell_type": "code",
   "execution_count": 176,
   "metadata": {},
   "outputs": [
    {
     "data": {
      "text/plain": [
       "(79834,)"
      ]
     },
     "execution_count": 176,
     "metadata": {},
     "output_type": "execute_result"
    }
   ],
   "source": [
    "corpus = train[TEXT].append(dev[TEXT]).append(test[TEXT]).append(companies)\n",
    "corpus.shape"
   ]
  },
  {
   "cell_type": "code",
   "execution_count": 177,
   "metadata": {},
   "outputs": [
    {
     "data": {
      "text/html": [
       "<div>\n",
       "<style scoped>\n",
       "    .dataframe tbody tr th:only-of-type {\n",
       "        vertical-align: middle;\n",
       "    }\n",
       "\n",
       "    .dataframe tbody tr th {\n",
       "        vertical-align: top;\n",
       "    }\n",
       "\n",
       "    .dataframe thead th {\n",
       "        text-align: right;\n",
       "    }\n",
       "</style>\n",
       "<table border=\"1\" class=\"dataframe\">\n",
       "  <thead>\n",
       "    <tr style=\"text-align: right;\">\n",
       "      <th></th>\n",
       "      <th>Unnamed: 0</th>\n",
       "      <th>company1</th>\n",
       "      <th>company2</th>\n",
       "      <th>is_parent</th>\n",
       "      <th>snippet</th>\n",
       "      <th>aliased_snippet</th>\n",
       "    </tr>\n",
       "  </thead>\n",
       "  <tbody>\n",
       "    <tr>\n",
       "      <th>0</th>\n",
       "      <td>51579</td>\n",
       "      <td>Pfizer</td>\n",
       "      <td>Medivation</td>\n",
       "      <td>True</td>\n",
       "      <td>What Will Pfizer Gain FromMedivationn Inc  Win...</td>\n",
       "      <td>what will  company1  gain from company2 n inc ...</td>\n",
       "    </tr>\n",
       "    <tr>\n",
       "      <th>1</th>\n",
       "      <td>40891</td>\n",
       "      <td>The_Walt_Disney_Company</td>\n",
       "      <td>NBCUniversal</td>\n",
       "      <td>False</td>\n",
       "      <td>One media executive said it may be difficult ...</td>\n",
       "      <td>one media executive said it may be difficult ...</td>\n",
       "    </tr>\n",
       "    <tr>\n",
       "      <th>2</th>\n",
       "      <td>30797</td>\n",
       "      <td>AT&amp;T</td>\n",
       "      <td>DirecTV</td>\n",
       "      <td>True</td>\n",
       "      <td>\\nFailure of Comcast?s merger could also press...</td>\n",
       "      <td>\\nfailure of comcast?s merger could also press...</td>\n",
       "    </tr>\n",
       "    <tr>\n",
       "      <th>3</th>\n",
       "      <td>70215</td>\n",
       "      <td>DStv</td>\n",
       "      <td>MultiChoice</td>\n",
       "      <td>False</td>\n",
       "      <td>MultiChoicee Ghana adds more local channels on...</td>\n",
       "      <td>company2 e ghana adds more local channels on ...</td>\n",
       "    </tr>\n",
       "    <tr>\n",
       "      <th>4</th>\n",
       "      <td>39242</td>\n",
       "      <td>Google</td>\n",
       "      <td>AT&amp;T</td>\n",
       "      <td>False</td>\n",
       "      <td>While Google won that battle, AT&amp;T filed a la...</td>\n",
       "      <td>while  company1  won that battle,  company2  ...</td>\n",
       "    </tr>\n",
       "  </tbody>\n",
       "</table>\n",
       "</div>"
      ],
      "text/plain": [
       "   Unnamed: 0                 company1      company2  is_parent  \\\n",
       "0       51579                   Pfizer    Medivation       True   \n",
       "1       40891  The_Walt_Disney_Company  NBCUniversal      False   \n",
       "2       30797                     AT&T       DirecTV       True   \n",
       "3       70215                     DStv   MultiChoice      False   \n",
       "4       39242                   Google          AT&T      False   \n",
       "\n",
       "                                             snippet  \\\n",
       "0  What Will Pfizer Gain FromMedivationn Inc  Win...   \n",
       "1   One media executive said it may be difficult ...   \n",
       "2  \\nFailure of Comcast?s merger could also press...   \n",
       "3  MultiChoicee Ghana adds more local channels on...   \n",
       "4   While Google won that battle, AT&T filed a la...   \n",
       "\n",
       "                                     aliased_snippet  \n",
       "0  what will  company1  gain from company2 n inc ...  \n",
       "1   one media executive said it may be difficult ...  \n",
       "2  \\nfailure of comcast?s merger could also press...  \n",
       "3   company2 e ghana adds more local channels on ...  \n",
       "4   while  company1  won that battle,  company2  ...  "
      ]
     },
     "execution_count": 177,
     "metadata": {},
     "output_type": "execute_result"
    }
   ],
   "source": [
    "train[:5]"
   ]
  },
  {
   "cell_type": "code",
   "execution_count": 178,
   "metadata": {},
   "outputs": [],
   "source": [
    "# the idea here is to add whether company1 is before company2\n",
    "def add_company_pos_ratio(company, row): \n",
    "    return row[TEXT].find(company) / len(row[TEXT])"
   ]
  },
  {
   "cell_type": "code",
   "execution_count": 179,
   "metadata": {},
   "outputs": [],
   "source": [
    "from sklearn.base import TransformerMixin,  BaseEstimator"
   ]
  },
  {
   "cell_type": "code",
   "execution_count": 180,
   "metadata": {},
   "outputs": [],
   "source": [
    "class RatioPos(TransformerMixin,BaseEstimator):\n",
    "    def __init__(self, company):\n",
    "        self.company = company\n",
    "    def transform(self, X, **kwargs):\n",
    "        return X.apply((lambda x: add_company_pos_ratio(self.company, x)), axis=1)\n",
    "    def fit(self, X, y=None, **kwargs):\n",
    "        return self"
   ]
  },
  {
   "cell_type": "code",
   "execution_count": 181,
   "metadata": {},
   "outputs": [],
   "source": [
    "train[\"company1_pos\"] = RatioPos(COMPANY1).fit_transform(train)\n",
    "train[\"company2_pos\"] = RatioPos(COMPANY2).fit_transform(train)"
   ]
  },
  {
   "cell_type": "code",
   "execution_count": 204,
   "metadata": {},
   "outputs": [
    {
     "data": {
      "text/plain": [
       "(49, 8)"
      ]
     },
     "execution_count": 204,
     "metadata": {},
     "output_type": "execute_result"
    }
   ],
   "source": [
    "train[train[\"company1_pos\"] < 0].shape"
   ]
  },
  {
   "cell_type": "code",
   "execution_count": 205,
   "metadata": {},
   "outputs": [
    {
     "data": {
      "text/plain": [
       "(146, 8)"
      ]
     },
     "execution_count": 205,
     "metadata": {},
     "output_type": "execute_result"
    }
   ],
   "source": [
    "train[train[\"company2_pos\"] < 0].shape"
   ]
  },
  {
   "cell_type": "code",
   "execution_count": 200,
   "metadata": {},
   "outputs": [
    {
     "data": {
      "text/html": [
       "<div>\n",
       "<style scoped>\n",
       "    .dataframe tbody tr th:only-of-type {\n",
       "        vertical-align: middle;\n",
       "    }\n",
       "\n",
       "    .dataframe tbody tr th {\n",
       "        vertical-align: top;\n",
       "    }\n",
       "\n",
       "    .dataframe thead th {\n",
       "        text-align: right;\n",
       "    }\n",
       "</style>\n",
       "<table border=\"1\" class=\"dataframe\">\n",
       "  <thead>\n",
       "    <tr style=\"text-align: right;\">\n",
       "      <th></th>\n",
       "      <th>Unnamed: 0</th>\n",
       "      <th>company1</th>\n",
       "      <th>company2</th>\n",
       "      <th>is_parent</th>\n",
       "      <th>snippet</th>\n",
       "      <th>aliased_snippet</th>\n",
       "      <th>company1_pos</th>\n",
       "      <th>company2_pos</th>\n",
       "    </tr>\n",
       "  </thead>\n",
       "  <tbody>\n",
       "    <tr>\n",
       "      <th>1696</th>\n",
       "      <td>18473</td>\n",
       "      <td>GMC_(automobile)</td>\n",
       "      <td>General_Motors</td>\n",
       "      <td>False</td>\n",
       "      <td>\\nJob security arose as an issue earlier this ...</td>\n",
       "      <td>\\njob security arose as an issue earlier this ...</td>\n",
       "      <td>-0.004878</td>\n",
       "      <td>0.273171</td>\n",
       "    </tr>\n",
       "    <tr>\n",
       "      <th>1969</th>\n",
       "      <td>77520</td>\n",
       "      <td>GMC_(automobile)</td>\n",
       "      <td>General_Motors</td>\n",
       "      <td>False</td>\n",
       "      <td>The company offers the connections across its...</td>\n",
       "      <td>the company offers the connections across its...</td>\n",
       "      <td>-0.003521</td>\n",
       "      <td>0.320423</td>\n",
       "    </tr>\n",
       "    <tr>\n",
       "      <th>2546</th>\n",
       "      <td>61158</td>\n",
       "      <td>GMC_(automobile)</td>\n",
       "      <td>General_Motors</td>\n",
       "      <td>False</td>\n",
       "      <td>But its Buick, Chevrolet and General_MotorsC_...</td>\n",
       "      <td>but its buick, chevrolet and  company2 c_(aut...</td>\n",
       "      <td>-0.004464</td>\n",
       "      <td>0.138393</td>\n",
       "    </tr>\n",
       "    <tr>\n",
       "      <th>2860</th>\n",
       "      <td>57009</td>\n",
       "      <td>GMC_(automobile)</td>\n",
       "      <td>General_Motors</td>\n",
       "      <td>False</td>\n",
       "      <td>General_MotorsM recalling about 700,000 Chevy ...</td>\n",
       "      <td>company2 m recalling about 700,000 chevy and ...</td>\n",
       "      <td>-0.004831</td>\n",
       "      <td>0.004831</td>\n",
       "    </tr>\n",
       "    <tr>\n",
       "      <th>3170</th>\n",
       "      <td>66822</td>\n",
       "      <td>GMC_(automobile)</td>\n",
       "      <td>General_Motors</td>\n",
       "      <td>False</td>\n",
       "      <td>General_MotorsC_(automobile), General_Motors'...</td>\n",
       "      <td>company2 c_(automobile),  company2 's truck-...</td>\n",
       "      <td>-0.009709</td>\n",
       "      <td>0.019417</td>\n",
       "    </tr>\n",
       "  </tbody>\n",
       "</table>\n",
       "</div>"
      ],
      "text/plain": [
       "      Unnamed: 0          company1        company2  is_parent  \\\n",
       "1696       18473  GMC_(automobile)  General_Motors      False   \n",
       "1969       77520  GMC_(automobile)  General_Motors      False   \n",
       "2546       61158  GMC_(automobile)  General_Motors      False   \n",
       "2860       57009  GMC_(automobile)  General_Motors      False   \n",
       "3170       66822  GMC_(automobile)  General_Motors      False   \n",
       "\n",
       "                                                snippet  \\\n",
       "1696  \\nJob security arose as an issue earlier this ...   \n",
       "1969   The company offers the connections across its...   \n",
       "2546   But its Buick, Chevrolet and General_MotorsC_...   \n",
       "2860  General_MotorsM recalling about 700,000 Chevy ...   \n",
       "3170   General_MotorsC_(automobile), General_Motors'...   \n",
       "\n",
       "                                        aliased_snippet  company1_pos  \\\n",
       "1696  \\njob security arose as an issue earlier this ...     -0.004878   \n",
       "1969   the company offers the connections across its...     -0.003521   \n",
       "2546   but its buick, chevrolet and  company2 c_(aut...     -0.004464   \n",
       "2860   company2 m recalling about 700,000 chevy and ...     -0.004831   \n",
       "3170    company2 c_(automobile),  company2 's truck-...     -0.009709   \n",
       "\n",
       "      company2_pos  \n",
       "1696      0.273171  \n",
       "1969      0.320423  \n",
       "2546      0.138393  \n",
       "2860      0.004831  \n",
       "3170      0.019417  "
      ]
     },
     "execution_count": 200,
     "metadata": {},
     "output_type": "execute_result"
    }
   ],
   "source": [
    "train[train[\"company1_pos\"] < 0][:5]"
   ]
  },
  {
   "cell_type": "code",
   "execution_count": 202,
   "metadata": {},
   "outputs": [
    {
     "data": {
      "text/plain": [
       "\"\\njob security arose as an issue earlier this year when  company2  said it would shift production of the equinox's  company2 c twin, the terrain, to mexico, leading to the elimination of 600 jobs. ###end###\""
      ]
     },
     "execution_count": 202,
     "metadata": {},
     "output_type": "execute_result"
    }
   ],
   "source": [
    "train.iloc[1696][TEXT]"
   ]
  },
  {
   "cell_type": "code",
   "execution_count": 203,
   "metadata": {},
   "outputs": [
    {
     "data": {
      "text/plain": [
       "\"\\nJob security arose as an issue earlier this year when General_Motors said it would shift production of the Equinox's General_MotorsC twin, the Terrain, to Mexico, leading to the elimination of 600 jobs. ###END###\""
      ]
     },
     "execution_count": 203,
     "metadata": {},
     "output_type": "execute_result"
    }
   ],
   "source": [
    "train.iloc[1696][\"snippet\"]"
   ]
  },
  {
   "cell_type": "code",
   "execution_count": 210,
   "metadata": {},
   "outputs": [
    {
     "ename": "KeyError",
     "evalue": "'[0.088      0.65296804 0.29069767 ... 0.66666667 0.33333333 0.19827586] not in index'",
     "output_type": "error",
     "traceback": [
      "\u001b[0;31m---------------------------------------------------------------------------\u001b[0m",
      "\u001b[0;31mKeyError\u001b[0m                                  Traceback (most recent call last)",
      "\u001b[0;32m<ipython-input-210-8c6b16f1954e>\u001b[0m in \u001b[0;36m<module>\u001b[0;34m()\u001b[0m\n\u001b[0;32m----> 1\u001b[0;31m \u001b[0mtrain\u001b[0m\u001b[0;34m[\u001b[0m\u001b[0mtrain\u001b[0m\u001b[0;34m[\u001b[0m\u001b[0;34m\"company1_pos\"\u001b[0m\u001b[0;34m]\u001b[0m\u001b[0;34m]\u001b[0m\u001b[0;34m[\u001b[0m\u001b[0mtrain\u001b[0m\u001b[0;34m[\u001b[0m\u001b[0mRESULT\u001b[0m\u001b[0;34m]\u001b[0m\u001b[0;34m==\u001b[0m\u001b[0;32mTrue\u001b[0m\u001b[0;34m]\u001b[0m\u001b[0;34m.\u001b[0m\u001b[0mshape\u001b[0m\u001b[0;34m\u001b[0m\u001b[0m\n\u001b[0m",
      "\u001b[0;32m/usr/local/lib/python3.5/dist-packages/pandas/core/frame.py\u001b[0m in \u001b[0;36m__getitem__\u001b[0;34m(self, key)\u001b[0m\n\u001b[1;32m   2131\u001b[0m         \u001b[0;32mif\u001b[0m \u001b[0misinstance\u001b[0m\u001b[0;34m(\u001b[0m\u001b[0mkey\u001b[0m\u001b[0;34m,\u001b[0m \u001b[0;34m(\u001b[0m\u001b[0mSeries\u001b[0m\u001b[0;34m,\u001b[0m \u001b[0mnp\u001b[0m\u001b[0;34m.\u001b[0m\u001b[0mndarray\u001b[0m\u001b[0;34m,\u001b[0m \u001b[0mIndex\u001b[0m\u001b[0;34m,\u001b[0m \u001b[0mlist\u001b[0m\u001b[0;34m)\u001b[0m\u001b[0;34m)\u001b[0m\u001b[0;34m:\u001b[0m\u001b[0;34m\u001b[0m\u001b[0m\n\u001b[1;32m   2132\u001b[0m             \u001b[0;31m# either boolean or fancy integer index\u001b[0m\u001b[0;34m\u001b[0m\u001b[0;34m\u001b[0m\u001b[0m\n\u001b[0;32m-> 2133\u001b[0;31m             \u001b[0;32mreturn\u001b[0m \u001b[0mself\u001b[0m\u001b[0;34m.\u001b[0m\u001b[0m_getitem_array\u001b[0m\u001b[0;34m(\u001b[0m\u001b[0mkey\u001b[0m\u001b[0;34m)\u001b[0m\u001b[0;34m\u001b[0m\u001b[0m\n\u001b[0m\u001b[1;32m   2134\u001b[0m         \u001b[0;32melif\u001b[0m \u001b[0misinstance\u001b[0m\u001b[0;34m(\u001b[0m\u001b[0mkey\u001b[0m\u001b[0;34m,\u001b[0m \u001b[0mDataFrame\u001b[0m\u001b[0;34m)\u001b[0m\u001b[0;34m:\u001b[0m\u001b[0;34m\u001b[0m\u001b[0m\n\u001b[1;32m   2135\u001b[0m             \u001b[0;32mreturn\u001b[0m \u001b[0mself\u001b[0m\u001b[0;34m.\u001b[0m\u001b[0m_getitem_frame\u001b[0m\u001b[0;34m(\u001b[0m\u001b[0mkey\u001b[0m\u001b[0;34m)\u001b[0m\u001b[0;34m\u001b[0m\u001b[0m\n",
      "\u001b[0;32m/usr/local/lib/python3.5/dist-packages/pandas/core/frame.py\u001b[0m in \u001b[0;36m_getitem_array\u001b[0;34m(self, key)\u001b[0m\n\u001b[1;32m   2175\u001b[0m             \u001b[0;32mreturn\u001b[0m \u001b[0mself\u001b[0m\u001b[0;34m.\u001b[0m\u001b[0m_take\u001b[0m\u001b[0;34m(\u001b[0m\u001b[0mindexer\u001b[0m\u001b[0;34m,\u001b[0m \u001b[0maxis\u001b[0m\u001b[0;34m=\u001b[0m\u001b[0;36m0\u001b[0m\u001b[0;34m,\u001b[0m \u001b[0mconvert\u001b[0m\u001b[0;34m=\u001b[0m\u001b[0;32mFalse\u001b[0m\u001b[0;34m)\u001b[0m\u001b[0;34m\u001b[0m\u001b[0m\n\u001b[1;32m   2176\u001b[0m         \u001b[0;32melse\u001b[0m\u001b[0;34m:\u001b[0m\u001b[0;34m\u001b[0m\u001b[0m\n\u001b[0;32m-> 2177\u001b[0;31m             \u001b[0mindexer\u001b[0m \u001b[0;34m=\u001b[0m \u001b[0mself\u001b[0m\u001b[0;34m.\u001b[0m\u001b[0mloc\u001b[0m\u001b[0;34m.\u001b[0m\u001b[0m_convert_to_indexer\u001b[0m\u001b[0;34m(\u001b[0m\u001b[0mkey\u001b[0m\u001b[0;34m,\u001b[0m \u001b[0maxis\u001b[0m\u001b[0;34m=\u001b[0m\u001b[0;36m1\u001b[0m\u001b[0;34m)\u001b[0m\u001b[0;34m\u001b[0m\u001b[0m\n\u001b[0m\u001b[1;32m   2178\u001b[0m             \u001b[0;32mreturn\u001b[0m \u001b[0mself\u001b[0m\u001b[0;34m.\u001b[0m\u001b[0m_take\u001b[0m\u001b[0;34m(\u001b[0m\u001b[0mindexer\u001b[0m\u001b[0;34m,\u001b[0m \u001b[0maxis\u001b[0m\u001b[0;34m=\u001b[0m\u001b[0;36m1\u001b[0m\u001b[0;34m,\u001b[0m \u001b[0mconvert\u001b[0m\u001b[0;34m=\u001b[0m\u001b[0;32mTrue\u001b[0m\u001b[0;34m)\u001b[0m\u001b[0;34m\u001b[0m\u001b[0m\n\u001b[1;32m   2179\u001b[0m \u001b[0;34m\u001b[0m\u001b[0m\n",
      "\u001b[0;32m/usr/local/lib/python3.5/dist-packages/pandas/core/indexing.py\u001b[0m in \u001b[0;36m_convert_to_indexer\u001b[0;34m(self, obj, axis, is_setter)\u001b[0m\n\u001b[1;32m   1267\u001b[0m                 \u001b[0;32mif\u001b[0m \u001b[0mmask\u001b[0m\u001b[0;34m.\u001b[0m\u001b[0many\u001b[0m\u001b[0;34m(\u001b[0m\u001b[0;34m)\u001b[0m\u001b[0;34m:\u001b[0m\u001b[0;34m\u001b[0m\u001b[0m\n\u001b[1;32m   1268\u001b[0m                     raise KeyError('{mask} not in index'\n\u001b[0;32m-> 1269\u001b[0;31m                                    .format(mask=objarr[mask]))\n\u001b[0m\u001b[1;32m   1270\u001b[0m \u001b[0;34m\u001b[0m\u001b[0m\n\u001b[1;32m   1271\u001b[0m                 \u001b[0;32mreturn\u001b[0m \u001b[0m_values_from_object\u001b[0m\u001b[0;34m(\u001b[0m\u001b[0mindexer\u001b[0m\u001b[0;34m)\u001b[0m\u001b[0;34m\u001b[0m\u001b[0m\n",
      "\u001b[0;31mKeyError\u001b[0m: '[0.088      0.65296804 0.29069767 ... 0.66666667 0.33333333 0.19827586] not in index'"
     ]
    }
   ],
   "source": [
    "train[train[\"company1_pos\"]][train[RESULT]==True].shape"
   ]
  },
  {
   "cell_type": "code",
   "execution_count": 183,
   "metadata": {},
   "outputs": [
    {
     "data": {
      "text/html": [
       "<div>\n",
       "<style scoped>\n",
       "    .dataframe tbody tr th:only-of-type {\n",
       "        vertical-align: middle;\n",
       "    }\n",
       "\n",
       "    .dataframe tbody tr th {\n",
       "        vertical-align: top;\n",
       "    }\n",
       "\n",
       "    .dataframe thead th {\n",
       "        text-align: right;\n",
       "    }\n",
       "</style>\n",
       "<table border=\"1\" class=\"dataframe\">\n",
       "  <thead>\n",
       "    <tr style=\"text-align: right;\">\n",
       "      <th></th>\n",
       "      <th>Unnamed: 0</th>\n",
       "      <th>company1</th>\n",
       "      <th>company2</th>\n",
       "      <th>is_parent</th>\n",
       "      <th>snippet</th>\n",
       "      <th>aliased_snippet</th>\n",
       "      <th>company1_pos</th>\n",
       "      <th>company2_pos</th>\n",
       "    </tr>\n",
       "  </thead>\n",
       "  <tbody>\n",
       "    <tr>\n",
       "      <th>0</th>\n",
       "      <td>51579</td>\n",
       "      <td>Pfizer</td>\n",
       "      <td>Medivation</td>\n",
       "      <td>True</td>\n",
       "      <td>What Will Pfizer Gain FromMedivationn Inc  Win...</td>\n",
       "      <td>what will  company1  gain from company2 n inc ...</td>\n",
       "      <td>0.088000</td>\n",
       "      <td>0.248000</td>\n",
       "    </tr>\n",
       "    <tr>\n",
       "      <th>2</th>\n",
       "      <td>30797</td>\n",
       "      <td>AT&amp;T</td>\n",
       "      <td>DirecTV</td>\n",
       "      <td>True</td>\n",
       "      <td>\\nFailure of Comcast?s merger could also press...</td>\n",
       "      <td>\\nfailure of comcast?s merger could also press...</td>\n",
       "      <td>0.290698</td>\n",
       "      <td>0.837209</td>\n",
       "    </tr>\n",
       "    <tr>\n",
       "      <th>13</th>\n",
       "      <td>46975</td>\n",
       "      <td>Khazanah_Nasional</td>\n",
       "      <td>Malaysia_Airlines</td>\n",
       "      <td>True</td>\n",
       "      <td>\\nSUBANG JAYA: The National Union of Flight At...</td>\n",
       "      <td>\\nsubang jaya: the national union of flight at...</td>\n",
       "      <td>0.418269</td>\n",
       "      <td>0.610577</td>\n",
       "    </tr>\n",
       "    <tr>\n",
       "      <th>16</th>\n",
       "      <td>9438</td>\n",
       "      <td>Google</td>\n",
       "      <td>YouTube</td>\n",
       "      <td>True</td>\n",
       "      <td>Since late 2016, viewers of Google's YouTube ...</td>\n",
       "      <td>since late 2016, viewers of  company1 's  com...</td>\n",
       "      <td>0.241935</td>\n",
       "      <td>0.346774</td>\n",
       "    </tr>\n",
       "    <tr>\n",
       "      <th>17</th>\n",
       "      <td>5185</td>\n",
       "      <td>Amazon.com</td>\n",
       "      <td>Alexa_Internet</td>\n",
       "      <td>True</td>\n",
       "      <td>First Alexa_Internet-enabled nonAmazon.comn de...</td>\n",
       "      <td>first  company2 -enabled non company1 n device...</td>\n",
       "      <td>0.290000</td>\n",
       "      <td>0.070000</td>\n",
       "    </tr>\n",
       "  </tbody>\n",
       "</table>\n",
       "</div>"
      ],
      "text/plain": [
       "    Unnamed: 0           company1           company2  is_parent  \\\n",
       "0        51579             Pfizer         Medivation       True   \n",
       "2        30797               AT&T            DirecTV       True   \n",
       "13       46975  Khazanah_Nasional  Malaysia_Airlines       True   \n",
       "16        9438             Google            YouTube       True   \n",
       "17        5185         Amazon.com     Alexa_Internet       True   \n",
       "\n",
       "                                              snippet  \\\n",
       "0   What Will Pfizer Gain FromMedivationn Inc  Win...   \n",
       "2   \\nFailure of Comcast?s merger could also press...   \n",
       "13  \\nSUBANG JAYA: The National Union of Flight At...   \n",
       "16   Since late 2016, viewers of Google's YouTube ...   \n",
       "17  First Alexa_Internet-enabled nonAmazon.comn de...   \n",
       "\n",
       "                                      aliased_snippet  company1_pos  \\\n",
       "0   what will  company1  gain from company2 n inc ...      0.088000   \n",
       "2   \\nfailure of comcast?s merger could also press...      0.290698   \n",
       "13  \\nsubang jaya: the national union of flight at...      0.418269   \n",
       "16   since late 2016, viewers of  company1 's  com...      0.241935   \n",
       "17  first  company2 -enabled non company1 n device...      0.290000   \n",
       "\n",
       "    company2_pos  \n",
       "0       0.248000  \n",
       "2       0.837209  \n",
       "13      0.610577  \n",
       "16      0.346774  \n",
       "17      0.070000  "
      ]
     },
     "execution_count": 183,
     "metadata": {},
     "output_type": "execute_result"
    }
   ],
   "source": [
    "train[train[RESULT]== True][:5]"
   ]
  },
  {
   "cell_type": "code",
   "execution_count": 184,
   "metadata": {},
   "outputs": [
    {
     "data": {
      "text/html": [
       "<div>\n",
       "<style scoped>\n",
       "    .dataframe tbody tr th:only-of-type {\n",
       "        vertical-align: middle;\n",
       "    }\n",
       "\n",
       "    .dataframe tbody tr th {\n",
       "        vertical-align: top;\n",
       "    }\n",
       "\n",
       "    .dataframe thead th {\n",
       "        text-align: right;\n",
       "    }\n",
       "</style>\n",
       "<table border=\"1\" class=\"dataframe\">\n",
       "  <thead>\n",
       "    <tr style=\"text-align: right;\">\n",
       "      <th></th>\n",
       "      <th>Unnamed: 0</th>\n",
       "      <th>company1</th>\n",
       "      <th>company2</th>\n",
       "      <th>is_parent</th>\n",
       "      <th>snippet</th>\n",
       "      <th>aliased_snippet</th>\n",
       "      <th>company1_pos</th>\n",
       "      <th>company2_pos</th>\n",
       "    </tr>\n",
       "  </thead>\n",
       "  <tbody>\n",
       "    <tr>\n",
       "      <th>1</th>\n",
       "      <td>40891</td>\n",
       "      <td>The_Walt_Disney_Company</td>\n",
       "      <td>NBCUniversal</td>\n",
       "      <td>False</td>\n",
       "      <td>One media executive said it may be difficult ...</td>\n",
       "      <td>one media executive said it may be difficult ...</td>\n",
       "      <td>0.652968</td>\n",
       "      <td>0.388128</td>\n",
       "    </tr>\n",
       "    <tr>\n",
       "      <th>3</th>\n",
       "      <td>70215</td>\n",
       "      <td>DStv</td>\n",
       "      <td>MultiChoice</td>\n",
       "      <td>False</td>\n",
       "      <td>MultiChoicee Ghana adds more local channels on...</td>\n",
       "      <td>company2 e ghana adds more local channels on ...</td>\n",
       "      <td>0.259887</td>\n",
       "      <td>0.005650</td>\n",
       "    </tr>\n",
       "    <tr>\n",
       "      <th>4</th>\n",
       "      <td>39242</td>\n",
       "      <td>Google</td>\n",
       "      <td>AT&amp;T</td>\n",
       "      <td>False</td>\n",
       "      <td>While Google won that battle, AT&amp;T filed a la...</td>\n",
       "      <td>while  company1  won that battle,  company2  ...</td>\n",
       "      <td>0.071429</td>\n",
       "      <td>0.321429</td>\n",
       "    </tr>\n",
       "    <tr>\n",
       "      <th>5</th>\n",
       "      <td>80117</td>\n",
       "      <td>Google</td>\n",
       "      <td>SmartThings</td>\n",
       "      <td>False</td>\n",
       "      <td>When you try to add a new smart home device u...</td>\n",
       "      <td>when you try to add a new smart home device u...</td>\n",
       "      <td>0.878151</td>\n",
       "      <td>0.495798</td>\n",
       "    </tr>\n",
       "    <tr>\n",
       "      <th>6</th>\n",
       "      <td>70336</td>\n",
       "      <td>YouTube</td>\n",
       "      <td>Google</td>\n",
       "      <td>False</td>\n",
       "      <td>owns Unruly, which competes with Google's You...</td>\n",
       "      <td>owns unruly, which competes with  company2 's...</td>\n",
       "      <td>0.500000</td>\n",
       "      <td>0.364583</td>\n",
       "    </tr>\n",
       "  </tbody>\n",
       "</table>\n",
       "</div>"
      ],
      "text/plain": [
       "   Unnamed: 0                 company1      company2  is_parent  \\\n",
       "1       40891  The_Walt_Disney_Company  NBCUniversal      False   \n",
       "3       70215                     DStv   MultiChoice      False   \n",
       "4       39242                   Google          AT&T      False   \n",
       "5       80117                   Google   SmartThings      False   \n",
       "6       70336                  YouTube        Google      False   \n",
       "\n",
       "                                             snippet  \\\n",
       "1   One media executive said it may be difficult ...   \n",
       "3  MultiChoicee Ghana adds more local channels on...   \n",
       "4   While Google won that battle, AT&T filed a la...   \n",
       "5   When you try to add a new smart home device u...   \n",
       "6   owns Unruly, which competes with Google's You...   \n",
       "\n",
       "                                     aliased_snippet  company1_pos  \\\n",
       "1   one media executive said it may be difficult ...      0.652968   \n",
       "3   company2 e ghana adds more local channels on ...      0.259887   \n",
       "4   while  company1  won that battle,  company2  ...      0.071429   \n",
       "5   when you try to add a new smart home device u...      0.878151   \n",
       "6   owns unruly, which competes with  company2 's...      0.500000   \n",
       "\n",
       "   company2_pos  \n",
       "1      0.388128  \n",
       "3      0.005650  \n",
       "4      0.321429  \n",
       "5      0.495798  \n",
       "6      0.364583  "
      ]
     },
     "execution_count": 184,
     "metadata": {},
     "output_type": "execute_result"
    }
   ],
   "source": [
    "train[train[RESULT]== False][:5]"
   ]
  },
  {
   "cell_type": "code",
   "execution_count": 185,
   "metadata": {},
   "outputs": [],
   "source": [
    "import itertools\n",
    "from sklearn.metrics import confusion_matrix, accuracy_score\n",
    "\n",
    "def plot_confusion_matrix(y_true, y_pred, classes,\n",
    "                          normalize=False,\n",
    "                          title='Confusion matrix',\n",
    "                          cmap=plt.cm.Blues,\n",
    "                          figsize=(9, 7)):\n",
    "    matrix = confusion_matrix(y_true, y_pred)\n",
    "\n",
    "    if normalize:\n",
    "        matrix = matrix.astype('float') / matrix.sum(axis=1)[:, np.newaxis]\n",
    "\n",
    "    plt.figure(figsize=figsize)\n",
    "    plt.imshow(matrix, interpolation='nearest', cmap=cmap)\n",
    "    plt.title(title)\n",
    "    plt.colorbar()\n",
    "\n",
    "    tick_marks = np.arange(len(classes))\n",
    "    plt.xticks(tick_marks, classes, rotation=45)\n",
    "    plt.yticks(tick_marks, classes)\n",
    "\n",
    "    fmt = '.2f' if normalize else 'd'\n",
    "    thresh = matrix.max() / 2.\n",
    "    for i, j in itertools.product(range(matrix.shape[0]), range(matrix.shape[1])):\n",
    "        plt.text(j, i, format(matrix[i, j], fmt),\n",
    "                 horizontalalignment=\"center\",\n",
    "                 size=int((figsize[0] / 10) * 38),\n",
    "                 color=\"white\" if matrix[i, j] > thresh else \"black\")\n",
    "\n",
    "    plt.tight_layout()\n",
    "    plt.ylabel('True label')\n",
    "    plt.xlabel('Predicted label')\n",
    "    plt.show()"
   ]
  },
  {
   "cell_type": "code",
   "execution_count": 186,
   "metadata": {},
   "outputs": [],
   "source": [
    "from sklearn.feature_extraction.text import TfidfVectorizer, CountVectorizer\n",
    "from sklearn.pipeline import Pipeline"
   ]
  },
  {
   "cell_type": "code",
   "execution_count": 187,
   "metadata": {},
   "outputs": [],
   "source": [
    "from sklearn.linear_model import LogisticRegression\n",
    "from sklearn.svm import LinearSVC\n",
    "from sklearn.naive_bayes import MultinomialNB"
   ]
  },
  {
   "cell_type": "code",
   "execution_count": 188,
   "metadata": {},
   "outputs": [],
   "source": [
    "from sklearn.metrics import log_loss"
   ]
  },
  {
   "cell_type": "code",
   "execution_count": 189,
   "metadata": {},
   "outputs": [],
   "source": [
    "\n",
    "# work in progress The idea is to train on the whole corpus and transofrm what is passed\n",
    "class VectFeed(TransformerMixin,BaseEstimator):\n",
    "    def __init__(self, vectorizer):\n",
    "        self.vectorizer = vectorizer\n",
    "        self.fitted = False\n",
    "    def transform(self, X, **kwargs):\n",
    "        text = X[TEXT]\n",
    "        self.vectorizer.set_params(**kwargs)\n",
    "        if not self.fitted:\n",
    "            self.vectorizer.fit(corpus)\n",
    "            self.fitted = True\n",
    "           \n",
    "        return self.vectorizer.transform(text)\n",
    "            \n",
    "        return vectorizer.transform(text)\n",
    "    def fit(self, X, y=None, **kwargs):\n",
    "        return self"
   ]
  },
  {
   "cell_type": "code",
   "execution_count": 190,
   "metadata": {},
   "outputs": [],
   "source": [
    "def try_pipeline(pipeline, X, y, X_test, y_test):\n",
    "    params = {\n",
    "        \"vect__input\": corpus\n",
    "    }\n",
    "    \n",
    "    pipeline.fit(X, y)\n",
    "    \n",
    "    predictions = pipeline.predict(X)\n",
    "    print(\"Score on train set is:{}\".format(pipeline.score(X,y)))\n",
    "    print(\"Log loss on train set is:{}\".format(log_loss(y, predictions)))\n",
    "    plot_confusion_matrix(y, predictions, classes=[0,1], normalize=True)\n",
    "    predictions = pipeline.predict(X_test)\n",
    "    print(\"Score on dev set is:{}\".format(pipeline.score(X_test, y_test)))\n",
    "    print(\"Log loss on dev setis:{}\".format(log_loss(y_test, predictions)))\n",
    "    plot_confusion_matrix(y_test, predictions, classes=[0,1],normalize=True)"
   ]
  },
  {
   "cell_type": "code",
   "execution_count": 191,
   "metadata": {},
   "outputs": [],
   "source": [
    "from sklearn.pipeline import FeatureUnion"
   ]
  },
  {
   "cell_type": "code",
   "execution_count": 192,
   "metadata": {},
   "outputs": [],
   "source": [
    "class ArrayCaster(BaseEstimator, TransformerMixin):\n",
    "    def __init__(self, transformer):\n",
    "        self.transformer = transformer\n",
    "        \n",
    "    def fit(self, x, y=None):\n",
    "        return self\n",
    "\n",
    "    def transform(self, data):\n",
    "        result = self.transformer.fit_transform(data)\n",
    "        return np.transpose(np.matrix(result))"
   ]
  },
  {
   "cell_type": "code",
   "execution_count": 193,
   "metadata": {},
   "outputs": [],
   "source": [
    "features = FeatureUnion([\n",
    "        (\"pos_company1\", ArrayCaster(RatioPos(COMPANY1))),\n",
    "        (\"pos_company2\", ArrayCaster(RatioPos(COMPANY2))),\n",
    "        (\"vect\", VectFeed(TfidfVectorizer())),\n",
    "    ])"
   ]
  },
  {
   "cell_type": "code",
   "execution_count": 194,
   "metadata": {},
   "outputs": [
    {
     "data": {
      "text/plain": [
       "(5, 32800)"
      ]
     },
     "execution_count": 194,
     "metadata": {},
     "output_type": "execute_result"
    }
   ],
   "source": [
    "features.fit_transform(train[:5]).shape"
   ]
  },
  {
   "cell_type": "code",
   "execution_count": 195,
   "metadata": {},
   "outputs": [
    {
     "data": {
      "text/plain": [
       "matrix([[0.088, 0.248, 0.   , ..., 0.   , 0.   , 0.   ]])"
      ]
     },
     "execution_count": 195,
     "metadata": {},
     "output_type": "execute_result"
    }
   ],
   "source": [
    "features.fit_transform(train[:5])[0].todense()[0]"
   ]
  },
  {
   "cell_type": "code",
   "execution_count": 196,
   "metadata": {},
   "outputs": [
    {
     "name": "stdout",
     "output_type": "stream",
     "text": [
      "Score on train set is:0.743125539879067\n",
      "Log loss on train set is:8.872167053186288\n"
     ]
    },
    {
     "data": {
      "image/png": "[encoded data removed]",
      "text/plain": [
       "<matplotlib.figure.Figure at 0x7f143a2030f0>"
      ]
     },
     "metadata": {},
     "output_type": "display_data"
    },
    {
     "name": "stdout",
     "output_type": "stream",
     "text": [
      "Score on dev set is:0.6882086167800453\n",
      "Log loss on dev setis:10.768953154001752\n"
     ]
    },
    {
     "data": {
      "image/png": "[encoded data removed]",
      "text/plain": [
       "<matplotlib.figure.Figure at 0x7f142a0658d0>"
      ]
     },
     "metadata": {},
     "output_type": "display_data"
    }
   ],
   "source": [
    "pipeline = Pipeline([\n",
    "    (\"union\", features),\n",
    "    (\"classifier\", LogisticRegression())\n",
    "])\n",
    "\n",
    "\n",
    "try_pipeline(pipeline, train, train[RESULT], dev, dev[RESULT])"
   ]
  },
  {
   "cell_type": "code",
   "execution_count": 197,
   "metadata": {},
   "outputs": [
    {
     "name": "stdout",
     "output_type": "stream",
     "text": [
      "Score on train set is:0.7758961992513677\n",
      "Log loss on train set is:7.7403208366925895\n"
     ]
    },
    {
     "data": {
      "image/png": "[encoded data removed]",
      "text/plain": [
       "<matplotlib.figure.Figure at 0x7f1439f99e80>"
      ]
     },
     "metadata": {},
     "output_type": "display_data"
    },
    {
     "name": "stdout",
     "output_type": "stream",
     "text": [
      "Score on dev set is:0.624023683547493\n",
      "Log loss on dev setis:12.985875900113781\n"
     ]
    },
    {
     "data": {
      "image/png": "[encoded data removed]",
      "text/plain": [
       "<matplotlib.figure.Figure at 0x7f143a0e67f0>"
      ]
     },
     "metadata": {},
     "output_type": "display_data"
    }
   ],
   "source": [
    "pipeline = Pipeline([\n",
    "    (\"union\", features),\n",
    "    (\"classifier\", LinearSVC())\n",
    "])\n",
    "\n",
    "try_pipeline(pipeline, train, train[RESULT], dev, dev[RESULT])"
   ]
  },
  {
   "cell_type": "code",
   "execution_count": 198,
   "metadata": {},
   "outputs": [
    {
     "ename": "ValueError",
     "evalue": "Input X must be non-negative",
     "output_type": "error",
     "traceback": [
      "\u001b[0;31m---------------------------------------------------------------------------\u001b[0m",
      "\u001b[0;31mValueError\u001b[0m                                Traceback (most recent call last)",
      "\u001b[0;32m<ipython-input-198-d81a90be6359>\u001b[0m in \u001b[0;36m<module>\u001b[0;34m()\u001b[0m\n\u001b[1;32m      4\u001b[0m ])\n\u001b[1;32m      5\u001b[0m \u001b[0;34m\u001b[0m\u001b[0m\n\u001b[0;32m----> 6\u001b[0;31m \u001b[0mtry_pipeline\u001b[0m\u001b[0;34m(\u001b[0m\u001b[0mpipeline\u001b[0m\u001b[0;34m,\u001b[0m \u001b[0mtrain\u001b[0m\u001b[0;34m,\u001b[0m \u001b[0mtrain\u001b[0m\u001b[0;34m[\u001b[0m\u001b[0mRESULT\u001b[0m\u001b[0;34m]\u001b[0m\u001b[0;34m,\u001b[0m \u001b[0mdev\u001b[0m\u001b[0;34m,\u001b[0m \u001b[0mdev\u001b[0m\u001b[0;34m[\u001b[0m\u001b[0mRESULT\u001b[0m\u001b[0;34m]\u001b[0m\u001b[0;34m)\u001b[0m\u001b[0;34m\u001b[0m\u001b[0m\n\u001b[0m",
      "\u001b[0;32m<ipython-input-190-8ceb24c877f9>\u001b[0m in \u001b[0;36mtry_pipeline\u001b[0;34m(pipeline, X, y, X_test, y_test)\u001b[0m\n\u001b[1;32m      4\u001b[0m     }\n\u001b[1;32m      5\u001b[0m \u001b[0;34m\u001b[0m\u001b[0m\n\u001b[0;32m----> 6\u001b[0;31m     \u001b[0mpipeline\u001b[0m\u001b[0;34m.\u001b[0m\u001b[0mfit\u001b[0m\u001b[0;34m(\u001b[0m\u001b[0mX\u001b[0m\u001b[0;34m,\u001b[0m \u001b[0my\u001b[0m\u001b[0;34m)\u001b[0m\u001b[0;34m\u001b[0m\u001b[0m\n\u001b[0m\u001b[1;32m      7\u001b[0m \u001b[0;34m\u001b[0m\u001b[0m\n\u001b[1;32m      8\u001b[0m     \u001b[0mpredictions\u001b[0m \u001b[0;34m=\u001b[0m \u001b[0mpipeline\u001b[0m\u001b[0;34m.\u001b[0m\u001b[0mpredict\u001b[0m\u001b[0;34m(\u001b[0m\u001b[0mX\u001b[0m\u001b[0;34m)\u001b[0m\u001b[0;34m\u001b[0m\u001b[0m\n",
      "\u001b[0;32m/usr/local/lib/python3.5/dist-packages/sklearn/pipeline.py\u001b[0m in \u001b[0;36mfit\u001b[0;34m(self, X, y, **fit_params)\u001b[0m\n\u001b[1;32m    248\u001b[0m         \u001b[0mXt\u001b[0m\u001b[0;34m,\u001b[0m \u001b[0mfit_params\u001b[0m \u001b[0;34m=\u001b[0m \u001b[0mself\u001b[0m\u001b[0;34m.\u001b[0m\u001b[0m_fit\u001b[0m\u001b[0;34m(\u001b[0m\u001b[0mX\u001b[0m\u001b[0;34m,\u001b[0m \u001b[0my\u001b[0m\u001b[0;34m,\u001b[0m \u001b[0;34m**\u001b[0m\u001b[0mfit_params\u001b[0m\u001b[0;34m)\u001b[0m\u001b[0;34m\u001b[0m\u001b[0m\n\u001b[1;32m    249\u001b[0m         \u001b[0;32mif\u001b[0m \u001b[0mself\u001b[0m\u001b[0;34m.\u001b[0m\u001b[0m_final_estimator\u001b[0m \u001b[0;32mis\u001b[0m \u001b[0;32mnot\u001b[0m \u001b[0;32mNone\u001b[0m\u001b[0;34m:\u001b[0m\u001b[0;34m\u001b[0m\u001b[0m\n\u001b[0;32m--> 250\u001b[0;31m             \u001b[0mself\u001b[0m\u001b[0;34m.\u001b[0m\u001b[0m_final_estimator\u001b[0m\u001b[0;34m.\u001b[0m\u001b[0mfit\u001b[0m\u001b[0;34m(\u001b[0m\u001b[0mXt\u001b[0m\u001b[0;34m,\u001b[0m \u001b[0my\u001b[0m\u001b[0;34m,\u001b[0m \u001b[0;34m**\u001b[0m\u001b[0mfit_params\u001b[0m\u001b[0;34m)\u001b[0m\u001b[0;34m\u001b[0m\u001b[0m\n\u001b[0m\u001b[1;32m    251\u001b[0m         \u001b[0;32mreturn\u001b[0m \u001b[0mself\u001b[0m\u001b[0;34m\u001b[0m\u001b[0m\n\u001b[1;32m    252\u001b[0m \u001b[0;34m\u001b[0m\u001b[0m\n",
      "\u001b[0;32m/usr/local/lib/python3.5/dist-packages/sklearn/naive_bayes.py\u001b[0m in \u001b[0;36mfit\u001b[0;34m(self, X, y, sample_weight)\u001b[0m\n\u001b[1;32m    602\u001b[0m         self.feature_count_ = np.zeros((n_effective_classes, n_features),\n\u001b[1;32m    603\u001b[0m                                        dtype=np.float64)\n\u001b[0;32m--> 604\u001b[0;31m         \u001b[0mself\u001b[0m\u001b[0;34m.\u001b[0m\u001b[0m_count\u001b[0m\u001b[0;34m(\u001b[0m\u001b[0mX\u001b[0m\u001b[0;34m,\u001b[0m \u001b[0mY\u001b[0m\u001b[0;34m)\u001b[0m\u001b[0;34m\u001b[0m\u001b[0m\n\u001b[0m\u001b[1;32m    605\u001b[0m         \u001b[0malpha\u001b[0m \u001b[0;34m=\u001b[0m \u001b[0mself\u001b[0m\u001b[0;34m.\u001b[0m\u001b[0m_check_alpha\u001b[0m\u001b[0;34m(\u001b[0m\u001b[0;34m)\u001b[0m\u001b[0;34m\u001b[0m\u001b[0m\n\u001b[1;32m    606\u001b[0m         \u001b[0mself\u001b[0m\u001b[0;34m.\u001b[0m\u001b[0m_update_feature_log_prob\u001b[0m\u001b[0;34m(\u001b[0m\u001b[0malpha\u001b[0m\u001b[0;34m)\u001b[0m\u001b[0;34m\u001b[0m\u001b[0m\n",
      "\u001b[0;32m/usr/local/lib/python3.5/dist-packages/sklearn/naive_bayes.py\u001b[0m in \u001b[0;36m_count\u001b[0;34m(self, X, Y)\u001b[0m\n\u001b[1;32m    706\u001b[0m         \u001b[0;34m\"\"\"Count and smooth feature occurrences.\"\"\"\u001b[0m\u001b[0;34m\u001b[0m\u001b[0m\n\u001b[1;32m    707\u001b[0m         \u001b[0;32mif\u001b[0m \u001b[0mnp\u001b[0m\u001b[0;34m.\u001b[0m\u001b[0many\u001b[0m\u001b[0;34m(\u001b[0m\u001b[0;34m(\u001b[0m\u001b[0mX\u001b[0m\u001b[0;34m.\u001b[0m\u001b[0mdata\u001b[0m \u001b[0;32mif\u001b[0m \u001b[0missparse\u001b[0m\u001b[0;34m(\u001b[0m\u001b[0mX\u001b[0m\u001b[0;34m)\u001b[0m \u001b[0;32melse\u001b[0m \u001b[0mX\u001b[0m\u001b[0;34m)\u001b[0m \u001b[0;34m<\u001b[0m \u001b[0;36m0\u001b[0m\u001b[0;34m)\u001b[0m\u001b[0;34m:\u001b[0m\u001b[0;34m\u001b[0m\u001b[0m\n\u001b[0;32m--> 708\u001b[0;31m             \u001b[0;32mraise\u001b[0m \u001b[0mValueError\u001b[0m\u001b[0;34m(\u001b[0m\u001b[0;34m\"Input X must be non-negative\"\u001b[0m\u001b[0;34m)\u001b[0m\u001b[0;34m\u001b[0m\u001b[0m\n\u001b[0m\u001b[1;32m    709\u001b[0m         \u001b[0mself\u001b[0m\u001b[0;34m.\u001b[0m\u001b[0mfeature_count_\u001b[0m \u001b[0;34m+=\u001b[0m \u001b[0msafe_sparse_dot\u001b[0m\u001b[0;34m(\u001b[0m\u001b[0mY\u001b[0m\u001b[0;34m.\u001b[0m\u001b[0mT\u001b[0m\u001b[0;34m,\u001b[0m \u001b[0mX\u001b[0m\u001b[0;34m)\u001b[0m\u001b[0;34m\u001b[0m\u001b[0m\n\u001b[1;32m    710\u001b[0m         \u001b[0mself\u001b[0m\u001b[0;34m.\u001b[0m\u001b[0mclass_count_\u001b[0m \u001b[0;34m+=\u001b[0m \u001b[0mY\u001b[0m\u001b[0;34m.\u001b[0m\u001b[0msum\u001b[0m\u001b[0;34m(\u001b[0m\u001b[0maxis\u001b[0m\u001b[0;34m=\u001b[0m\u001b[0;36m0\u001b[0m\u001b[0;34m)\u001b[0m\u001b[0;34m\u001b[0m\u001b[0m\n",
      "\u001b[0;31mValueError\u001b[0m: Input X must be non-negative"
     ]
    }
   ],
   "source": [
    "pipeline = Pipeline([\n",
    "    (\"union\", features),\n",
    "    (\"classifier\", MultinomialNB())\n",
    "])\n",
    "\n",
    "try_pipeline(pipeline, train, train[RESULT], dev, dev[RESULT])"
   ]
  },
  {
   "cell_type": "markdown",
   "metadata": {},
   "source": [
    "It seems the multinomial nb sucks for some reason (someone should check the pipeline)"
   ]
  },
  {
   "cell_type": "markdown",
   "metadata": {},
   "source": [
    "I will just check how count vectorizer changes the results when using LinearSVC for model"
   ]
  },
  {
   "cell_type": "code",
   "execution_count": 36,
   "metadata": {},
   "outputs": [
    {
     "name": "stdout",
     "output_type": "stream",
     "text": [
      "Score on train set is:0.7915706881658509\n",
      "Log loss on train set is:7.198946665626658\n"
     ]
    },
    {
     "data": {
      "image/png": "[encoded data removed]",
      "text/plain": [
       "<matplotlib.figure.Figure at 0x7f6a2903c5c0>"
      ]
     },
     "metadata": {},
     "output_type": "display_data"
    },
    {
     "name": "stdout",
     "output_type": "stream",
     "text": [
      "Score on dev set is:0.5577601410934744\n",
      "Log loss on dev setis:15.274586581377678\n"
     ]
    },
    {
     "data": {
      "image/png": "[encoded data removed]",
      "text/plain": [
       "<matplotlib.figure.Figure at 0x7f6a2b5d3d68>"
      ]
     },
     "metadata": {},
     "output_type": "display_data"
    }
   ],
   "source": [
    "pipeline = Pipeline([\n",
    "    (\"vect\", CountVectorizer()),\n",
    "    (\"classifier\", LinearSVC())\n",
    "])\n",
    "\n",
    "try_pipeline(pipeline, train, train[RESULT], dev, dev[RESULT])"
   ]
  },
  {
   "cell_type": "markdown",
   "metadata": {},
   "source": [
    "Lastly I will check what goes on when using linear naive b"
   ]
  },
  {
   "cell_type": "code",
   "execution_count": 39,
   "metadata": {},
   "outputs": [],
   "source": [
    "def pr(y_i, y):\n",
    "    p = x[y==y_i].sum(0)\n",
    "    return (p+1) / ((y==y_i).sum()+1)"
   ]
  },
  {
   "cell_type": "code",
   "execution_count": 40,
   "metadata": {},
   "outputs": [],
   "source": [
    "def get_mdl(train, y):\n",
    "    y = y.values\n",
    "    r = np.log(pr(1,y) / pr(0,y))\n",
    "    m = LogisticRegression(C=4, dual=True)\n",
    "    x_nb = train.multiply(r)\n",
    "    return m.fit(x_nb, y), r"
   ]
  },
  {
   "cell_type": "code",
   "execution_count": null,
   "metadata": {},
   "outputs": [],
   "source": [
    "# corpus = pd.read_csv(\"../data/train.csv\")\n",
    "# vec = TfidfVectorizer(ngram_range=(1,2),\n",
    "#                min_df=3, max_df=0.9, strip_accents='unicode', use_idf=1,\n",
    "#                smooth_idf=1, sublinear_tf=1 )\n",
    "# vec.fit(corpus)"
   ]
  }
 ],
 "metadata": {
  "kernelspec": {
   "display_name": "Python 3",
   "language": "python",
   "name": "python3"
  },
  "language_info": {
   "codemirror_mode": {
    "name": "ipython",
    "version": 3
   },
   "file_extension": ".py",
   "mimetype": "text/x-python",
   "name": "python",
   "nbconvert_exporter": "python",
   "pygments_lexer": "ipython3",
   "version": "3.5.2"
  }
 },
 "nbformat": 4,
 "nbformat_minor": 2
}
