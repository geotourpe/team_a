{
 "cells": [
  {
   "cell_type": "code",
   "execution_count": 1,
   "metadata": {},
   "outputs": [],
   "source": [
    "import pandas as pd\n",
    "import numpy as np\n",
    "import matplotlib.pyplot as plt"
   ]
  },
  {
   "cell_type": "code",
   "execution_count": 2,
   "metadata": {},
   "outputs": [],
   "source": [
    "import itertools\n",
    "from sklearn.metrics import confusion_matrix\n",
    "\n",
    "def plot_confusion_matrix(y_true, y_pred, classes,\n",
    "                          normalize=False,\n",
    "                          title='Confusion matrix',\n",
    "                          cmap=plt.cm.Blues,\n",
    "                          figsize=(9, 7)):\n",
    "    matrix = confusion_matrix(y_true, y_pred)\n",
    "\n",
    "    if normalize:\n",
    "        matrix = matrix.astype('float') / matrix.sum(axis=1)[:, np.newaxis]\n",
    "\n",
    "    plt.figure(figsize=figsize)\n",
    "    plt.imshow(matrix, interpolation='nearest', cmap=cmap)\n",
    "    plt.title(title)\n",
    "    plt.colorbar()\n",
    "\n",
    "    tick_marks = np.arange(len(classes))\n",
    "    plt.xticks(tick_marks, classes, rotation=45)\n",
    "    plt.yticks(tick_marks, classes)\n",
    "\n",
    "    fmt = '.2f' if normalize else 'd'\n",
    "    thresh = matrix.max() / 2.\n",
    "    for i, j in itertools.product(range(matrix.shape[0]), range(matrix.shape[1])):\n",
    "        plt.text(j, i, format(matrix[i, j], fmt),\n",
    "                 horizontalalignment=\"center\",\n",
    "                 size=int((figsize[0] / 10) * 38),\n",
    "                 color=\"white\" if matrix[i, j] > thresh else \"black\")\n",
    "\n",
    "    plt.tight_layout()\n",
    "    plt.ylabel('True label')\n",
    "    plt.xlabel('Predicted label')\n",
    "    plt.show()"
   ]
  },
  {
   "cell_type": "code",
   "execution_count": 3,
   "metadata": {},
   "outputs": [],
   "source": [
    "train = pd.read_csv(\"split/train.csv\")\n",
    "dev = pd.read_csv(\"split/dev.csv\")\n",
    "test = pd.read_csv(\"split/test.csv\")"
   ]
  },
  {
   "cell_type": "code",
   "execution_count": 4,
   "metadata": {},
   "outputs": [
    {
     "name": "stderr",
     "output_type": "stream",
     "text": [
      "/usr/local/lib/python3.5/dist-packages/h5py/__init__.py:36: FutureWarning: Conversion of the second argument of issubdtype from `float` to `np.floating` is deprecated. In future, it will be treated as `np.float64 == np.dtype(float).type`.\n",
      "  from ._conv import register_converters as _register_converters\n",
      "Using TensorFlow backend.\n"
     ]
    }
   ],
   "source": [
    "from keras.preprocessing.text import Tokenizer\n",
    "from keras.preprocessing.sequence import pad_sequences"
   ]
  },
  {
   "cell_type": "code",
   "execution_count": 5,
   "metadata": {},
   "outputs": [],
   "source": [
    "TEXT = \"aliased_snippet\"\n",
    "RESULT = \"is_parent\"\n",
    "COMPANY1= \"company1\"\n",
    "COMPANY2 = \"company2\""
   ]
  },
  {
   "cell_type": "code",
   "execution_count": 99,
   "metadata": {},
   "outputs": [],
   "source": [
    "onto_test = pd.read_csv(\"./processed/test.csv\")"
   ]
  },
  {
   "cell_type": "code",
   "execution_count": 101,
   "metadata": {},
   "outputs": [
    {
     "data": {
      "text/plain": [
       "(99974,)"
      ]
     },
     "execution_count": 101,
     "metadata": {},
     "output_type": "execute_result"
    }
   ],
   "source": [
    "corpus = train[TEXT].append(dev[TEXT]).append(test[TEXT]).append(onto_test[TEXT])\n",
    "corpus.shape"
   ]
  },
  {
   "cell_type": "code",
   "execution_count": 103,
   "metadata": {},
   "outputs": [],
   "source": [
    "num_words = 39000\n",
    "max_len = 40"
   ]
  },
  {
   "cell_type": "code",
   "execution_count": 104,
   "metadata": {},
   "outputs": [],
   "source": [
    "tokenizer  = Tokenizer(num_words=num_words)\n",
    "\n",
    "tokenizer.fit_on_texts(corpus)"
   ]
  },
  {
   "cell_type": "code",
   "execution_count": 105,
   "metadata": {},
   "outputs": [],
   "source": [
    "def tokenize(data):\n",
    "    tokenized = tokenizer.texts_to_sequences(data[TEXT])\n",
    "    tokenized = pad_sequences(tokenized,maxlen=max_len)\n",
    "    return tokenized"
   ]
  },
  {
   "cell_type": "code",
   "execution_count": 106,
   "metadata": {},
   "outputs": [],
   "source": [
    "train_tokenized = tokenize(train)"
   ]
  },
  {
   "cell_type": "code",
   "execution_count": 107,
   "metadata": {},
   "outputs": [
    {
     "data": {
      "text/plain": [
       "((55568, 40),\n",
       " array([   0,    0,    0,    0,    0,    0,    0,    0,    0,    0,    0,\n",
       "           0,    0,    0,    0,    0,    0,    0,    0,    0,  137,   23,\n",
       "           2, 1159,   19,    3,  106,   85, 1006,  137,   23,    2, 1159,\n",
       "          19,    3,  106,   85, 1006,    2,    5], dtype=int32))"
      ]
     },
     "execution_count": 107,
     "metadata": {},
     "output_type": "execute_result"
    }
   ],
   "source": [
    "train_tokenized.shape, train_tokenized[0]"
   ]
  },
  {
   "cell_type": "code",
   "execution_count": 108,
   "metadata": {},
   "outputs": [],
   "source": [
    "dev_tokenized = tokenize(dev)"
   ]
  },
  {
   "cell_type": "code",
   "execution_count": 109,
   "metadata": {},
   "outputs": [
    {
     "data": {
      "text/plain": [
       "(15876, 40)"
      ]
     },
     "execution_count": 109,
     "metadata": {},
     "output_type": "execute_result"
    }
   ],
   "source": [
    "dev_tokenized.shape"
   ]
  },
  {
   "cell_type": "code",
   "execution_count": 110,
   "metadata": {},
   "outputs": [],
   "source": [
    "from keras.models import Sequential\n",
    "from keras.layers import Embedding, Dense, Flatten, Dropout, Bidirectional, GlobalMaxPooling1D, LSTM\n",
    "from keras.callbacks import EarlyStopping, ModelCheckpoint"
   ]
  },
  {
   "cell_type": "code",
   "execution_count": 167,
   "metadata": {},
   "outputs": [],
   "source": [
    "model = Sequential([\n",
    "    Embedding(num_words,100, input_length=train_tokenized.shape[1]),\n",
    "    Bidirectional(LSTM(200, return_sequences=True)),\n",
    "    GlobalMaxPooling1D(),\n",
    "    Dropout(0.3),\n",
    "    Dense(128, activation=\"relu\"),\n",
    "    Dropout(0.4),\n",
    "    Dense(16, activation=\"relu\"),\n",
    "    Dropout(0.2),\n",
    "    Dense(1, activation=\"sigmoid\")\n",
    "])"
   ]
  },
  {
   "cell_type": "code",
   "execution_count": 168,
   "metadata": {},
   "outputs": [
    {
     "name": "stdout",
     "output_type": "stream",
     "text": [
      "_________________________________________________________________\n",
      "Layer (type)                 Output Shape              Param #   \n",
      "=================================================================\n",
      "embedding_19 (Embedding)     (None, 40, 100)           3900000   \n",
      "_________________________________________________________________\n",
      "bidirectional_18 (Bidirectio (None, 40, 400)           481600    \n",
      "_________________________________________________________________\n",
      "global_max_pooling1d_11 (Glo (None, 400)               0         \n",
      "_________________________________________________________________\n",
      "dropout_40 (Dropout)         (None, 400)               0         \n",
      "_________________________________________________________________\n",
      "dense_36 (Dense)             (None, 128)               51328     \n",
      "_________________________________________________________________\n",
      "dropout_41 (Dropout)         (None, 128)               0         \n",
      "_________________________________________________________________\n",
      "dense_37 (Dense)             (None, 16)                2064      \n",
      "_________________________________________________________________\n",
      "dropout_42 (Dropout)         (None, 16)                0         \n",
      "_________________________________________________________________\n",
      "dense_38 (Dense)             (None, 1)                 17        \n",
      "=================================================================\n",
      "Total params: 4,435,009\n",
      "Trainable params: 4,435,009\n",
      "Non-trainable params: 0\n",
      "_________________________________________________________________\n"
     ]
    }
   ],
   "source": [
    "model.summary()"
   ]
  },
  {
   "cell_type": "code",
   "execution_count": 169,
   "metadata": {},
   "outputs": [],
   "source": [
    "model.compile(optimizer=\"adam\", loss=\"binary_crossentropy\", metrics=[\"accuracy\"])"
   ]
  },
  {
   "cell_type": "code",
   "execution_count": 170,
   "metadata": {},
   "outputs": [],
   "source": [
    "early_stoping = EarlyStopping(patience=2)"
   ]
  },
  {
   "cell_type": "code",
   "execution_count": 171,
   "metadata": {},
   "outputs": [],
   "source": [
    "checkpoint = ModelCheckpoint(filepath=\"./models/bi_lstm.h5\")"
   ]
  },
  {
   "cell_type": "code",
   "execution_count": 172,
   "metadata": {},
   "outputs": [
    {
     "name": "stdout",
     "output_type": "stream",
     "text": [
      "Train on 55568 samples, validate on 15876 samples\n",
      "Epoch 1/10\n",
      "55568/55568 [==============================] - 39s 695us/step - loss: 0.5099 - acc: 0.7508 - val_loss: 0.3847 - val_acc: 0.8283\n",
      "Epoch 2/10\n",
      "55568/55568 [==============================] - 34s 605us/step - loss: 0.3145 - acc: 0.8705 - val_loss: 0.3380 - val_acc: 0.8592\n",
      "Epoch 3/10\n",
      "55568/55568 [==============================] - 34s 608us/step - loss: 0.1928 - acc: 0.9267 - val_loss: 0.3550 - val_acc: 0.8597\n",
      "Epoch 4/10\n",
      "55568/55568 [==============================] - 34s 605us/step - loss: 0.1175 - acc: 0.9567 - val_loss: 0.4738 - val_acc: 0.8638\n"
     ]
    },
    {
     "data": {
      "text/plain": [
       "<keras.callbacks.History at 0x7fc9445c9128>"
      ]
     },
     "execution_count": 172,
     "metadata": {},
     "output_type": "execute_result"
    }
   ],
   "source": [
    "model.fit(train_tokenized, train[RESULT],validation_data=(dev_tokenized, dev[RESULT]), batch_size=128, epochs=10, callbacks=[early_stoping, checkpoint])"
   ]
  },
  {
   "cell_type": "code",
   "execution_count": 140,
   "metadata": {},
   "outputs": [
    {
     "data": {
      "text/plain": [
       "(7939, 40)"
      ]
     },
     "execution_count": 140,
     "metadata": {},
     "output_type": "execute_result"
    }
   ],
   "source": [
    "test_tokenized = tokenize(test)\n",
    "test_tokenized.shape"
   ]
  },
  {
   "cell_type": "code",
   "execution_count": 141,
   "metadata": {},
   "outputs": [],
   "source": [
    "from keras.models import load_model"
   ]
  },
  {
   "cell_type": "code",
   "execution_count": 96,
   "metadata": {},
   "outputs": [],
   "source": [
    "model = load_model(\"./models/bi_lstm.h5\")"
   ]
  },
  {
   "cell_type": "code",
   "execution_count": 142,
   "metadata": {},
   "outputs": [],
   "source": [
    "from sklearn.metrics import f1_score"
   ]
  },
  {
   "cell_type": "code",
   "execution_count": 165,
   "metadata": {},
   "outputs": [],
   "source": [
    "def score_model(model):\n",
    "    predictions = model.predict(test_tokenized)    \n",
    "    predictions_binary = np.round(predictions)\n",
    "    plot_confusion_matrix(test[RESULT], predictions_binary,classes=[0,1], normalize=True) \n",
    "    print(\"F1 score of test is {}\".format(f1_score(test[RESULT], predictions_binary)))    "
   ]
  },
  {
   "cell_type": "code",
   "execution_count": 173,
   "metadata": {},
   "outputs": [
    {
     "data": {
      "image/png": "[encoded data removed]",
      "text/plain": [
       "<matplotlib.figure.Figure at 0x7fc94288fdd8>"
      ]
     },
     "metadata": {},
     "output_type": "display_data"
    },
    {
     "name": "stdout",
     "output_type": "stream",
     "text": [
      "F1 score of test is 0.7639315489249671\n"
     ]
    }
   ],
   "source": [
    "score_model(model)"
   ]
  },
  {
   "cell_type": "code",
   "execution_count": 174,
   "metadata": {},
   "outputs": [],
   "source": [
    "model.save(\"models/bi_lstm_100_200.h5\")"
   ]
  },
  {
   "cell_type": "code",
   "execution_count": 175,
   "metadata": {},
   "outputs": [
    {
     "data": {
      "text/plain": [
       "(20591, 5)"
      ]
     },
     "execution_count": 175,
     "metadata": {},
     "output_type": "execute_result"
    }
   ],
   "source": [
    "onto_test.shape"
   ]
  },
  {
   "cell_type": "code",
   "execution_count": 176,
   "metadata": {},
   "outputs": [
    {
     "data": {
      "text/html": [
       "<div>\n",
       "<style scoped>\n",
       "    .dataframe tbody tr th:only-of-type {\n",
       "        vertical-align: middle;\n",
       "    }\n",
       "\n",
       "    .dataframe tbody tr th {\n",
       "        vertical-align: top;\n",
       "    }\n",
       "\n",
       "    .dataframe thead th {\n",
       "        text-align: right;\n",
       "    }\n",
       "</style>\n",
       "<table border=\"1\" class=\"dataframe\">\n",
       "  <thead>\n",
       "    <tr style=\"text-align: right;\">\n",
       "      <th></th>\n",
       "      <th>company1</th>\n",
       "      <th>company2</th>\n",
       "      <th>is_parent</th>\n",
       "      <th>snippet</th>\n",
       "      <th>aliased_snippet</th>\n",
       "    </tr>\n",
       "  </thead>\n",
       "  <tbody>\n",
       "    <tr>\n",
       "      <th>0</th>\n",
       "      <td>Ford_Motor_Company</td>\n",
       "      <td>Holden</td>\n",
       "      <td>NaN</td>\n",
       "      <td>95s to top the sheets ahead of Kiwi Fabian Cou...</td>\n",
       "      <td>95s to top the sheets ahead of kiwi fabian cou...</td>\n",
       "    </tr>\n",
       "    <tr>\n",
       "      <th>1</th>\n",
       "      <td>Ford_Motor_Company</td>\n",
       "      <td>Holden</td>\n",
       "      <td>NaN</td>\n",
       "      <td>95s to top the sheets ahead of Kiwi Fabian Cou...</td>\n",
       "      <td>95s to top the sheets ahead of kiwi fabian cou...</td>\n",
       "    </tr>\n",
       "    <tr>\n",
       "      <th>2</th>\n",
       "      <td>Apple_Inc.</td>\n",
       "      <td>HBO</td>\n",
       "      <td>NaN</td>\n",
       "      <td>\\nGamers who want to access HBO Now on the Xbo...</td>\n",
       "      <td>\\ngamers who want to access  company2  now on ...</td>\n",
       "    </tr>\n",
       "    <tr>\n",
       "      <th>3</th>\n",
       "      <td>Apple_Inc.</td>\n",
       "      <td>HBO</td>\n",
       "      <td>NaN</td>\n",
       "      <td>\\nHBO first launched its standalone subscripti...</td>\n",
       "      <td>\\n company2  first launched its standalone sub...</td>\n",
       "    </tr>\n",
       "    <tr>\n",
       "      <th>4</th>\n",
       "      <td>Apple_Inc.</td>\n",
       "      <td>HBO</td>\n",
       "      <td>NaN</td>\n",
       "      <td>\\nHBO first launched its standalone subscripti...</td>\n",
       "      <td>\\n company2  first launched its standalone sub...</td>\n",
       "    </tr>\n",
       "  </tbody>\n",
       "</table>\n",
       "</div>"
      ],
      "text/plain": [
       "             company1 company2  is_parent  \\\n",
       "0  Ford_Motor_Company   Holden        NaN   \n",
       "1  Ford_Motor_Company   Holden        NaN   \n",
       "2          Apple_Inc.      HBO        NaN   \n",
       "3          Apple_Inc.      HBO        NaN   \n",
       "4          Apple_Inc.      HBO        NaN   \n",
       "\n",
       "                                             snippet  \\\n",
       "0  95s to top the sheets ahead of Kiwi Fabian Cou...   \n",
       "1  95s to top the sheets ahead of Kiwi Fabian Cou...   \n",
       "2  \\nGamers who want to access HBO Now on the Xbo...   \n",
       "3  \\nHBO first launched its standalone subscripti...   \n",
       "4  \\nHBO first launched its standalone subscripti...   \n",
       "\n",
       "                                     aliased_snippet  \n",
       "0  95s to top the sheets ahead of kiwi fabian cou...  \n",
       "1  95s to top the sheets ahead of kiwi fabian cou...  \n",
       "2  \\ngamers who want to access  company2  now on ...  \n",
       "3  \\n company2  first launched its standalone sub...  \n",
       "4  \\n company2  first launched its standalone sub...  "
      ]
     },
     "execution_count": 176,
     "metadata": {},
     "output_type": "execute_result"
    }
   ],
   "source": [
    "onto_test[:5]"
   ]
  },
  {
   "cell_type": "code",
   "execution_count": 177,
   "metadata": {},
   "outputs": [],
   "source": [
    "onto_test_tokenized = tokenize(onto_test)"
   ]
  },
  {
   "cell_type": "code",
   "execution_count": 163,
   "metadata": {},
   "outputs": [],
   "source": [
    "%mkdir onto-test"
   ]
  },
  {
   "cell_type": "code",
   "execution_count": 178,
   "metadata": {},
   "outputs": [],
   "source": [
    "def predict_onto(model, save_name):\n",
    "    pred = model.predict(onto_test_tokenized)\n",
    "    onto_test[RESULT] = pred\n",
    "    onto_test.to_csv(\"./onto-test/\"+save_name)"
   ]
  },
  {
   "cell_type": "markdown",
   "metadata": {},
   "source": [
    "This is the first baseline model for nn that's why I will save it"
   ]
  },
  {
   "cell_type": "code",
   "execution_count": 179,
   "metadata": {},
   "outputs": [],
   "source": [
    "predict_onto(model, \"bi_lstm.csv\")"
   ]
  },
  {
   "cell_type": "code",
   "execution_count": 180,
   "metadata": {},
   "outputs": [],
   "source": [
    "def show_onto(save_name):\n",
    "    return pd.read_csv(\"./onto-test/\"+save_name)"
   ]
  },
  {
   "cell_type": "code",
   "execution_count": 181,
   "metadata": {},
   "outputs": [],
   "source": [
    "pred = show_onto(\"bi_lstm.csv\")"
   ]
  },
  {
   "cell_type": "code",
   "execution_count": 182,
   "metadata": {},
   "outputs": [
    {
     "data": {
      "text/html": [
       "<div>\n",
       "<style scoped>\n",
       "    .dataframe tbody tr th:only-of-type {\n",
       "        vertical-align: middle;\n",
       "    }\n",
       "\n",
       "    .dataframe tbody tr th {\n",
       "        vertical-align: top;\n",
       "    }\n",
       "\n",
       "    .dataframe thead th {\n",
       "        text-align: right;\n",
       "    }\n",
       "</style>\n",
       "<table border=\"1\" class=\"dataframe\">\n",
       "  <thead>\n",
       "    <tr style=\"text-align: right;\">\n",
       "      <th></th>\n",
       "      <th>Unnamed: 0</th>\n",
       "      <th>company1</th>\n",
       "      <th>company2</th>\n",
       "      <th>is_parent</th>\n",
       "      <th>snippet</th>\n",
       "      <th>aliased_snippet</th>\n",
       "    </tr>\n",
       "  </thead>\n",
       "  <tbody>\n",
       "    <tr>\n",
       "      <th>311</th>\n",
       "      <td>311</td>\n",
       "      <td>Danaher_Corporation</td>\n",
       "      <td>Pall_Corporation</td>\n",
       "      <td>0.998158</td>\n",
       "      <td>Pall_Corporation is being acquired by Danaher...</td>\n",
       "      <td>company2  is being acquired by  company1  ( ...</td>\n",
       "    </tr>\n",
       "  </tbody>\n",
       "</table>\n",
       "</div>"
      ],
      "text/plain": [
       "     Unnamed: 0             company1          company2  is_parent  \\\n",
       "311         311  Danaher_Corporation  Pall_Corporation   0.998158   \n",
       "\n",
       "                                               snippet  \\\n",
       "311   Pall_Corporation is being acquired by Danaher...   \n",
       "\n",
       "                                       aliased_snippet  \n",
       "311    company2  is being acquired by  company1  ( ...  "
      ]
     },
     "execution_count": 182,
     "metadata": {},
     "output_type": "execute_result"
    }
   ],
   "source": [
    "pred[pred[\"company1\"] == \"Danaher_Corporation\"]"
   ]
  },
  {
   "cell_type": "markdown",
   "metadata": {},
   "source": [
    "### Whats next?\n",
    "The code above was just to clarify everything works as aspected, now lets expolore if adding some CNN filters will improve the score. My hipotesis is by adding convolutions the model will be able to filter only the most useful features and will improve the above score"
   ]
  },
  {
   "cell_type": "code",
   "execution_count": 39,
   "metadata": {},
   "outputs": [],
   "source": [
    "from keras.layers import Convolution1D,MaxPooling1D, GlobalAveragePooling1D,Flatten, AveragePooling1D\n",
    "from keras.regularizers import l1,l2"
   ]
  },
  {
   "cell_type": "code",
   "execution_count": 64,
   "metadata": {},
   "outputs": [],
   "source": [
    "model = Sequential([\n",
    "    Embedding(num_words,256, input_length=train_tokenized.shape[1]),\n",
    "    Bidirectional(LSTM(128, return_sequences=True)),\n",
    "    GlobalMaxPooling1D(),\n",
    "    Dropout(0.3),\n",
    "    Dense(128, activation=\"relu\"),\n",
    "    Dropout(0.2),\n",
    "    Dense(1, activation=\"sigmoid\")\n",
    "])"
   ]
  },
  {
   "cell_type": "code",
   "execution_count": 65,
   "metadata": {},
   "outputs": [
    {
     "name": "stdout",
     "output_type": "stream",
     "text": [
      "_________________________________________________________________\n",
      "Layer (type)                 Output Shape              Param #   \n",
      "=================================================================\n",
      "embedding_11 (Embedding)     (None, 50, 256)           12800000  \n",
      "_________________________________________________________________\n",
      "bidirectional_10 (Bidirectio (None, 50, 256)           394240    \n",
      "_________________________________________________________________\n",
      "global_max_pooling1d_3 (Glob (None, 256)               0         \n",
      "_________________________________________________________________\n",
      "dropout_21 (Dropout)         (None, 256)               0         \n",
      "_________________________________________________________________\n",
      "dense_17 (Dense)             (None, 128)               32896     \n",
      "_________________________________________________________________\n",
      "dropout_22 (Dropout)         (None, 128)               0         \n",
      "_________________________________________________________________\n",
      "dense_18 (Dense)             (None, 1)                 129       \n",
      "=================================================================\n",
      "Total params: 13,227,265\n",
      "Trainable params: 13,227,265\n",
      "Non-trainable params: 0\n",
      "_________________________________________________________________\n"
     ]
    }
   ],
   "source": [
    "model.summary()"
   ]
  },
  {
   "cell_type": "code",
   "execution_count": 66,
   "metadata": {},
   "outputs": [],
   "source": [
    "model.compile(optimizer=\"adam\", loss=\"binary_crossentropy\", metrics=[\"accuracy\"])"
   ]
  },
  {
   "cell_type": "code",
   "execution_count": 67,
   "metadata": {},
   "outputs": [
    {
     "name": "stdout",
     "output_type": "stream",
     "text": [
      "Train on 55568 samples, validate on 15876 samples\n",
      "Epoch 1/10\n",
      "55568/55568 [==============================] - 26s 460us/step - loss: 0.5275 - acc: 0.7332 - val_loss: 0.3941 - val_acc: 0.8250\n",
      "Epoch 2/10\n",
      "55568/55568 [==============================] - 23s 412us/step - loss: 0.3089 - acc: 0.8703 - val_loss: 0.3363 - val_acc: 0.8537\n",
      "Epoch 3/10\n",
      "55568/55568 [==============================] - 23s 413us/step - loss: 0.1760 - acc: 0.9318 - val_loss: 0.3739 - val_acc: 0.8638\n",
      "Epoch 4/10\n",
      "55568/55568 [==============================] - 23s 421us/step - loss: 0.0999 - acc: 0.9637 - val_loss: 0.3928 - val_acc: 0.8643\n"
     ]
    },
    {
     "data": {
      "text/plain": [
       "<keras.callbacks.History at 0x7fc95a198ba8>"
      ]
     },
     "execution_count": 67,
     "metadata": {},
     "output_type": "execute_result"
    }
   ],
   "source": [
    "checkpoint = ModelCheckpoint(filepath=\"./models/conv_bi_lstm.h5\")\n",
    "model.fit(train_tokenized, train[RESULT],validation_data=(dev_tokenized, dev[RESULT]), batch_size=256, epochs=10, callbacks=[early_stoping, checkpoint])"
   ]
  },
  {
   "cell_type": "code",
   "execution_count": 68,
   "metadata": {},
   "outputs": [
    {
     "data": {
      "image/png": "[encoded data removed]",
      "text/plain": [
       "<matplotlib.figure.Figure at 0x7fc95afcf860>"
      ]
     },
     "metadata": {},
     "output_type": "display_data"
    },
    {
     "name": "stdout",
     "output_type": "stream",
     "text": [
      "F1 score of test is 0.7788381742738589\n"
     ]
    }
   ],
   "source": [
    "score_model(model)"
   ]
  },
  {
   "cell_type": "code",
   "execution_count": null,
   "metadata": {},
   "outputs": [],
   "source": []
  }
 ],
 "metadata": {
  "kernelspec": {
   "display_name": "Python 3",
   "language": "python",
   "name": "python3"
  },
  "language_info": {
   "codemirror_mode": {
    "name": "ipython",
    "version": 3
   },
   "file_extension": ".py",
   "mimetype": "text/x-python",
   "name": "python",
   "nbconvert_exporter": "python",
   "pygments_lexer": "ipython3",
   "version": "3.5.2"
  }
 },
 "nbformat": 4,
 "nbformat_minor": 2
}
