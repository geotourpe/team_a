{
 "cells": [
  {
   "cell_type": "code",
   "execution_count": 1,
   "metadata": {},
   "outputs": [],
   "source": [
    "import pandas as pd"
   ]
  },
  {
   "cell_type": "code",
   "execution_count": 2,
   "metadata": {},
   "outputs": [
    {
     "data": {
      "text/html": [
       "<div>\n",
       "<style scoped>\n",
       "    .dataframe tbody tr th:only-of-type {\n",
       "        vertical-align: middle;\n",
       "    }\n",
       "\n",
       "    .dataframe tbody tr th {\n",
       "        vertical-align: top;\n",
       "    }\n",
       "\n",
       "    .dataframe thead th {\n",
       "        text-align: right;\n",
       "    }\n",
       "</style>\n",
       "<table border=\"1\" class=\"dataframe\">\n",
       "  <thead>\n",
       "    <tr style=\"text-align: right;\">\n",
       "      <th></th>\n",
       "      <th>entity1ID</th>\n",
       "      <th>entity2ID</th>\n",
       "      <th>label1</th>\n",
       "      <th>label2</th>\n",
       "      <th>relation</th>\n",
       "      <th>snippet</th>\n",
       "      <th>relation.1</th>\n",
       "    </tr>\n",
       "  </thead>\n",
       "  <tbody>\n",
       "    <tr>\n",
       "      <th>0</th>\n",
       "      <td>497</td>\n",
       "      <td>494</td>\n",
       "      <td>Ford_Motor_Company</td>\n",
       "      <td>Holden</td>\n",
       "      <td>NaN</td>\n",
       "      <td>95s to top the sheets ahead of Kiwi Fabian Cou...</td>\n",
       "      <td>False</td>\n",
       "    </tr>\n",
       "    <tr>\n",
       "      <th>1</th>\n",
       "      <td>497</td>\n",
       "      <td>494</td>\n",
       "      <td>Ford_Motor_Company</td>\n",
       "      <td>Holden</td>\n",
       "      <td>NaN</td>\n",
       "      <td>95s to top the sheets ahead of Kiwi Fabian Cou...</td>\n",
       "      <td>False</td>\n",
       "    </tr>\n",
       "    <tr>\n",
       "      <th>2</th>\n",
       "      <td>188</td>\n",
       "      <td>244</td>\n",
       "      <td>Apple_Inc.</td>\n",
       "      <td>HBO</td>\n",
       "      <td>NaN</td>\n",
       "      <td>\\nGamers who want to access HBO Now on the Xbo...</td>\n",
       "      <td>False</td>\n",
       "    </tr>\n",
       "    <tr>\n",
       "      <th>3</th>\n",
       "      <td>188</td>\n",
       "      <td>244</td>\n",
       "      <td>Apple_Inc.</td>\n",
       "      <td>HBO</td>\n",
       "      <td>NaN</td>\n",
       "      <td>\\nHBO first launched its standalone subscripti...</td>\n",
       "      <td>False</td>\n",
       "    </tr>\n",
       "    <tr>\n",
       "      <th>4</th>\n",
       "      <td>188</td>\n",
       "      <td>244</td>\n",
       "      <td>Apple_Inc.</td>\n",
       "      <td>HBO</td>\n",
       "      <td>NaN</td>\n",
       "      <td>\\nHBO first launched its standalone subscripti...</td>\n",
       "      <td>False</td>\n",
       "    </tr>\n",
       "  </tbody>\n",
       "</table>\n",
       "</div>"
      ],
      "text/plain": [
       "   entity1ID  entity2ID              label1  label2  relation  \\\n",
       "0        497        494  Ford_Motor_Company  Holden       NaN   \n",
       "1        497        494  Ford_Motor_Company  Holden       NaN   \n",
       "2        188        244          Apple_Inc.     HBO       NaN   \n",
       "3        188        244          Apple_Inc.     HBO       NaN   \n",
       "4        188        244          Apple_Inc.     HBO       NaN   \n",
       "\n",
       "                                             snippet  relation.1  \n",
       "0  95s to top the sheets ahead of Kiwi Fabian Cou...       False  \n",
       "1  95s to top the sheets ahead of Kiwi Fabian Cou...       False  \n",
       "2  \\nGamers who want to access HBO Now on the Xbo...       False  \n",
       "3  \\nHBO first launched its standalone subscripti...       False  \n",
       "4  \\nHBO first launched its standalone subscripti...       False  "
      ]
     },
     "execution_count": 2,
     "metadata": {},
     "output_type": "execute_result"
    }
   ],
   "source": [
    "test_golden = pd.read_csv(\"test/Test_Processed.csv\")\n",
    "test_golden.head()"
   ]
  },
  {
   "cell_type": "code",
   "execution_count": 3,
   "metadata": {},
   "outputs": [
    {
     "data": {
      "text/plain": [
       "(20591, 7)"
      ]
     },
     "execution_count": 3,
     "metadata": {},
     "output_type": "execute_result"
    }
   ],
   "source": [
    "test_golden.shape"
   ]
  },
  {
   "cell_type": "code",
   "execution_count": 56,
   "metadata": {},
   "outputs": [
    {
     "data": {
      "text/plain": [
       "(18002, 7)"
      ]
     },
     "execution_count": 56,
     "metadata": {},
     "output_type": "execute_result"
    }
   ],
   "source": [
    "test = test_golden.copy()\n",
    "test_golden.drop_duplicates(inplace=True, subset=[\"label1\", \"label2\", \"snippet\"])\n",
    "test_golden.shape"
   ]
  },
  {
   "cell_type": "code",
   "execution_count": 5,
   "metadata": {},
   "outputs": [
    {
     "data": {
      "text/html": [
       "<div>\n",
       "<style scoped>\n",
       "    .dataframe tbody tr th:only-of-type {\n",
       "        vertical-align: middle;\n",
       "    }\n",
       "\n",
       "    .dataframe tbody tr th {\n",
       "        vertical-align: top;\n",
       "    }\n",
       "\n",
       "    .dataframe thead th {\n",
       "        text-align: right;\n",
       "    }\n",
       "</style>\n",
       "<table border=\"1\" class=\"dataframe\">\n",
       "  <thead>\n",
       "    <tr style=\"text-align: right;\">\n",
       "      <th></th>\n",
       "      <th>entity1ID</th>\n",
       "      <th>entity2ID</th>\n",
       "      <th>label1</th>\n",
       "      <th>label2</th>\n",
       "      <th>relation</th>\n",
       "      <th>snippet</th>\n",
       "      <th>relation.1</th>\n",
       "    </tr>\n",
       "  </thead>\n",
       "  <tbody>\n",
       "    <tr>\n",
       "      <th>0</th>\n",
       "      <td>497</td>\n",
       "      <td>494</td>\n",
       "      <td>Ford_Motor_Company</td>\n",
       "      <td>Holden</td>\n",
       "      <td>NaN</td>\n",
       "      <td>95s to top the sheets ahead of Kiwi Fabian Cou...</td>\n",
       "      <td>False</td>\n",
       "    </tr>\n",
       "    <tr>\n",
       "      <th>2</th>\n",
       "      <td>188</td>\n",
       "      <td>244</td>\n",
       "      <td>Apple_Inc.</td>\n",
       "      <td>HBO</td>\n",
       "      <td>NaN</td>\n",
       "      <td>\\nGamers who want to access HBO Now on the Xbo...</td>\n",
       "      <td>False</td>\n",
       "    </tr>\n",
       "    <tr>\n",
       "      <th>3</th>\n",
       "      <td>188</td>\n",
       "      <td>244</td>\n",
       "      <td>Apple_Inc.</td>\n",
       "      <td>HBO</td>\n",
       "      <td>NaN</td>\n",
       "      <td>\\nHBO first launched its standalone subscripti...</td>\n",
       "      <td>False</td>\n",
       "    </tr>\n",
       "    <tr>\n",
       "      <th>5</th>\n",
       "      <td>456</td>\n",
       "      <td>314</td>\n",
       "      <td>Google</td>\n",
       "      <td>Verizon_Communications</td>\n",
       "      <td>NaN</td>\n",
       "      <td>\\nGoogle's business immediately took a hit : p...</td>\n",
       "      <td>False</td>\n",
       "    </tr>\n",
       "    <tr>\n",
       "      <th>6</th>\n",
       "      <td>522</td>\n",
       "      <td>178</td>\n",
       "      <td>Twitter</td>\n",
       "      <td>Beats_Electronics</td>\n",
       "      <td>NaN</td>\n",
       "      <td>His endorsement list ain't bad either, includ...</td>\n",
       "      <td>False</td>\n",
       "    </tr>\n",
       "  </tbody>\n",
       "</table>\n",
       "</div>"
      ],
      "text/plain": [
       "   entity1ID  entity2ID              label1                  label2  relation  \\\n",
       "0        497        494  Ford_Motor_Company                  Holden       NaN   \n",
       "2        188        244          Apple_Inc.                     HBO       NaN   \n",
       "3        188        244          Apple_Inc.                     HBO       NaN   \n",
       "5        456        314              Google  Verizon_Communications       NaN   \n",
       "6        522        178             Twitter       Beats_Electronics       NaN   \n",
       "\n",
       "                                             snippet  relation.1  \n",
       "0  95s to top the sheets ahead of Kiwi Fabian Cou...       False  \n",
       "2  \\nGamers who want to access HBO Now on the Xbo...       False  \n",
       "3  \\nHBO first launched its standalone subscripti...       False  \n",
       "5  \\nGoogle's business immediately took a hit : p...       False  \n",
       "6   His endorsement list ain't bad either, includ...       False  "
      ]
     },
     "execution_count": 5,
     "metadata": {},
     "output_type": "execute_result"
    }
   ],
   "source": [
    "test_golden.head()"
   ]
  },
  {
   "cell_type": "code",
   "execution_count": 6,
   "metadata": {},
   "outputs": [
    {
     "data": {
      "text/plain": [
       "(18002, 5)"
      ]
     },
     "execution_count": 6,
     "metadata": {},
     "output_type": "execute_result"
    }
   ],
   "source": [
    "lstm_result = pd.read_csv(\"onto-test/bi_lstm.csv\")\n",
    "lstm_result.shape"
   ]
  },
  {
   "cell_type": "code",
   "execution_count": 7,
   "metadata": {},
   "outputs": [],
   "source": [
    "from sklearn.metrics import f1_score"
   ]
  },
  {
   "cell_type": "code",
   "execution_count": 8,
   "metadata": {},
   "outputs": [
    {
     "data": {
      "text/html": [
       "<div>\n",
       "<style scoped>\n",
       "    .dataframe tbody tr th:only-of-type {\n",
       "        vertical-align: middle;\n",
       "    }\n",
       "\n",
       "    .dataframe tbody tr th {\n",
       "        vertical-align: top;\n",
       "    }\n",
       "\n",
       "    .dataframe thead th {\n",
       "        text-align: right;\n",
       "    }\n",
       "</style>\n",
       "<table border=\"1\" class=\"dataframe\">\n",
       "  <thead>\n",
       "    <tr style=\"text-align: right;\">\n",
       "      <th></th>\n",
       "      <th>company1</th>\n",
       "      <th>company2</th>\n",
       "      <th>is_parent</th>\n",
       "      <th>snippet</th>\n",
       "      <th>aliased_snippet</th>\n",
       "    </tr>\n",
       "  </thead>\n",
       "  <tbody>\n",
       "    <tr>\n",
       "      <th>0</th>\n",
       "      <td>Ford_Motor_Company</td>\n",
       "      <td>Holden</td>\n",
       "      <td>1.089333e-04</td>\n",
       "      <td>95s to top the sheets ahead of Kiwi Fabian Cou...</td>\n",
       "      <td>95s to top the sheets ahead of kiwi fabian cou...</td>\n",
       "    </tr>\n",
       "    <tr>\n",
       "      <th>1</th>\n",
       "      <td>Apple_Inc.</td>\n",
       "      <td>HBO</td>\n",
       "      <td>5.136681e-06</td>\n",
       "      <td>\\nGamers who want to access HBO Now on the Xbo...</td>\n",
       "      <td>\\ngamers who want to access  company2  now on ...</td>\n",
       "    </tr>\n",
       "    <tr>\n",
       "      <th>2</th>\n",
       "      <td>Apple_Inc.</td>\n",
       "      <td>HBO</td>\n",
       "      <td>3.838687e-03</td>\n",
       "      <td>\\nHBO first launched its standalone subscripti...</td>\n",
       "      <td>\\n company2  first launched its standalone sub...</td>\n",
       "    </tr>\n",
       "    <tr>\n",
       "      <th>3</th>\n",
       "      <td>Google</td>\n",
       "      <td>Verizon_Communications</td>\n",
       "      <td>3.283885e-06</td>\n",
       "      <td>\\nGoogle's business immediately took a hit : p...</td>\n",
       "      <td>\\n company1 's business immediately took a hit...</td>\n",
       "    </tr>\n",
       "    <tr>\n",
       "      <th>4</th>\n",
       "      <td>Twitter</td>\n",
       "      <td>Beats_Electronics</td>\n",
       "      <td>3.509106e-07</td>\n",
       "      <td>His endorsement list ain't bad either, includ...</td>\n",
       "      <td>his endorsement list ain't bad either, includ...</td>\n",
       "    </tr>\n",
       "  </tbody>\n",
       "</table>\n",
       "</div>"
      ],
      "text/plain": [
       "             company1                company2     is_parent  \\\n",
       "0  Ford_Motor_Company                  Holden  1.089333e-04   \n",
       "1          Apple_Inc.                     HBO  5.136681e-06   \n",
       "2          Apple_Inc.                     HBO  3.838687e-03   \n",
       "3              Google  Verizon_Communications  3.283885e-06   \n",
       "4             Twitter       Beats_Electronics  3.509106e-07   \n",
       "\n",
       "                                             snippet  \\\n",
       "0  95s to top the sheets ahead of Kiwi Fabian Cou...   \n",
       "1  \\nGamers who want to access HBO Now on the Xbo...   \n",
       "2  \\nHBO first launched its standalone subscripti...   \n",
       "3  \\nGoogle's business immediately took a hit : p...   \n",
       "4   His endorsement list ain't bad either, includ...   \n",
       "\n",
       "                                     aliased_snippet  \n",
       "0  95s to top the sheets ahead of kiwi fabian cou...  \n",
       "1  \\ngamers who want to access  company2  now on ...  \n",
       "2  \\n company2  first launched its standalone sub...  \n",
       "3  \\n company1 's business immediately took a hit...  \n",
       "4   his endorsement list ain't bad either, includ...  "
      ]
     },
     "execution_count": 8,
     "metadata": {},
     "output_type": "execute_result"
    }
   ],
   "source": [
    "lstm_result.head()"
   ]
  },
  {
   "cell_type": "code",
   "execution_count": 9,
   "metadata": {},
   "outputs": [
    {
     "data": {
      "text/html": [
       "<div>\n",
       "<style scoped>\n",
       "    .dataframe tbody tr th:only-of-type {\n",
       "        vertical-align: middle;\n",
       "    }\n",
       "\n",
       "    .dataframe tbody tr th {\n",
       "        vertical-align: top;\n",
       "    }\n",
       "\n",
       "    .dataframe thead th {\n",
       "        text-align: right;\n",
       "    }\n",
       "</style>\n",
       "<table border=\"1\" class=\"dataframe\">\n",
       "  <thead>\n",
       "    <tr style=\"text-align: right;\">\n",
       "      <th></th>\n",
       "      <th>company1</th>\n",
       "      <th>company2</th>\n",
       "      <th>is_parent</th>\n",
       "      <th>snippet</th>\n",
       "      <th>aliased_snippet</th>\n",
       "      <th>bin</th>\n",
       "    </tr>\n",
       "  </thead>\n",
       "  <tbody>\n",
       "    <tr>\n",
       "      <th>0</th>\n",
       "      <td>Ford_Motor_Company</td>\n",
       "      <td>Holden</td>\n",
       "      <td>1.089333e-04</td>\n",
       "      <td>95s to top the sheets ahead of Kiwi Fabian Cou...</td>\n",
       "      <td>95s to top the sheets ahead of kiwi fabian cou...</td>\n",
       "      <td>False</td>\n",
       "    </tr>\n",
       "    <tr>\n",
       "      <th>1</th>\n",
       "      <td>Apple_Inc.</td>\n",
       "      <td>HBO</td>\n",
       "      <td>5.136681e-06</td>\n",
       "      <td>\\nGamers who want to access HBO Now on the Xbo...</td>\n",
       "      <td>\\ngamers who want to access  company2  now on ...</td>\n",
       "      <td>False</td>\n",
       "    </tr>\n",
       "    <tr>\n",
       "      <th>2</th>\n",
       "      <td>Apple_Inc.</td>\n",
       "      <td>HBO</td>\n",
       "      <td>3.838687e-03</td>\n",
       "      <td>\\nHBO first launched its standalone subscripti...</td>\n",
       "      <td>\\n company2  first launched its standalone sub...</td>\n",
       "      <td>False</td>\n",
       "    </tr>\n",
       "    <tr>\n",
       "      <th>3</th>\n",
       "      <td>Google</td>\n",
       "      <td>Verizon_Communications</td>\n",
       "      <td>3.283885e-06</td>\n",
       "      <td>\\nGoogle's business immediately took a hit : p...</td>\n",
       "      <td>\\n company1 's business immediately took a hit...</td>\n",
       "      <td>False</td>\n",
       "    </tr>\n",
       "    <tr>\n",
       "      <th>4</th>\n",
       "      <td>Twitter</td>\n",
       "      <td>Beats_Electronics</td>\n",
       "      <td>3.509106e-07</td>\n",
       "      <td>His endorsement list ain't bad either, includ...</td>\n",
       "      <td>his endorsement list ain't bad either, includ...</td>\n",
       "      <td>False</td>\n",
       "    </tr>\n",
       "  </tbody>\n",
       "</table>\n",
       "</div>"
      ],
      "text/plain": [
       "             company1                company2     is_parent  \\\n",
       "0  Ford_Motor_Company                  Holden  1.089333e-04   \n",
       "1          Apple_Inc.                     HBO  5.136681e-06   \n",
       "2          Apple_Inc.                     HBO  3.838687e-03   \n",
       "3              Google  Verizon_Communications  3.283885e-06   \n",
       "4             Twitter       Beats_Electronics  3.509106e-07   \n",
       "\n",
       "                                             snippet  \\\n",
       "0  95s to top the sheets ahead of Kiwi Fabian Cou...   \n",
       "1  \\nGamers who want to access HBO Now on the Xbo...   \n",
       "2  \\nHBO first launched its standalone subscripti...   \n",
       "3  \\nGoogle's business immediately took a hit : p...   \n",
       "4   His endorsement list ain't bad either, includ...   \n",
       "\n",
       "                                     aliased_snippet    bin  \n",
       "0  95s to top the sheets ahead of kiwi fabian cou...  False  \n",
       "1  \\ngamers who want to access  company2  now on ...  False  \n",
       "2  \\n company2  first launched its standalone sub...  False  \n",
       "3  \\n company1 's business immediately took a hit...  False  \n",
       "4   his endorsement list ain't bad either, includ...  False  "
      ]
     },
     "execution_count": 9,
     "metadata": {},
     "output_type": "execute_result"
    }
   ],
   "source": [
    "lstm_result[\"bin\"]  = lstm_result[\"is_parent\"] > 0.5\n",
    "lstm_result.head()"
   ]
  },
  {
   "cell_type": "code",
   "execution_count": 10,
   "metadata": {},
   "outputs": [
    {
     "name": "stdout",
     "output_type": "stream",
     "text": [
      "0.1322604978627106\n"
     ]
    }
   ],
   "source": [
    "print(f1_score(test_golden[\"relation.1\"], lstm_result[\"bin\"]))"
   ]
  },
  {
   "cell_type": "code",
   "execution_count": 11,
   "metadata": {},
   "outputs": [
    {
     "data": {
      "text/plain": [
       "False    17473\n",
       "True       529\n",
       "Name: relation.1, dtype: int64"
      ]
     },
     "execution_count": 11,
     "metadata": {},
     "output_type": "execute_result"
    }
   ],
   "source": [
    "test_golden[\"relation.1\"].value_counts()"
   ]
  },
  {
   "cell_type": "code",
   "execution_count": 12,
   "metadata": {},
   "outputs": [
    {
     "data": {
      "text/html": [
       "<div>\n",
       "<style scoped>\n",
       "    .dataframe tbody tr th:only-of-type {\n",
       "        vertical-align: middle;\n",
       "    }\n",
       "\n",
       "    .dataframe tbody tr th {\n",
       "        vertical-align: top;\n",
       "    }\n",
       "\n",
       "    .dataframe thead th {\n",
       "        text-align: right;\n",
       "    }\n",
       "</style>\n",
       "<table border=\"1\" class=\"dataframe\">\n",
       "  <thead>\n",
       "    <tr style=\"text-align: right;\">\n",
       "      <th></th>\n",
       "      <th>entity1ID</th>\n",
       "      <th>entity2ID</th>\n",
       "      <th>label1</th>\n",
       "      <th>label2</th>\n",
       "      <th>relation</th>\n",
       "      <th>snippet</th>\n",
       "      <th>relation.1</th>\n",
       "    </tr>\n",
       "  </thead>\n",
       "  <tbody>\n",
       "    <tr>\n",
       "      <th>26</th>\n",
       "      <td>86</td>\n",
       "      <td>410</td>\n",
       "      <td>UniCredit</td>\n",
       "      <td>HypoVereinsbank</td>\n",
       "      <td>NaN</td>\n",
       "      <td>Commerzbank has around 8 percent of the Germa...</td>\n",
       "      <td>True</td>\n",
       "    </tr>\n",
       "    <tr>\n",
       "      <th>42</th>\n",
       "      <td>56</td>\n",
       "      <td>366</td>\n",
       "      <td>Rosneft</td>\n",
       "      <td>Yukos</td>\n",
       "      <td>NaN</td>\n",
       "      <td>\\nIn Russia, ExxonMobil's partner has been the...</td>\n",
       "      <td>True</td>\n",
       "    </tr>\n",
       "    <tr>\n",
       "      <th>188</th>\n",
       "      <td>357</td>\n",
       "      <td>503</td>\n",
       "      <td>Ingersoll_Rand</td>\n",
       "      <td>Trane</td>\n",
       "      <td>NaN</td>\n",
       "      <td>It is engaged in the design, manufacture, sal...</td>\n",
       "      <td>True</td>\n",
       "    </tr>\n",
       "    <tr>\n",
       "      <th>189</th>\n",
       "      <td>357</td>\n",
       "      <td>503</td>\n",
       "      <td>Ingersoll_Rand</td>\n",
       "      <td>Trane</td>\n",
       "      <td>NaN</td>\n",
       "      <td>It is engaged in the design, manufacture, sal...</td>\n",
       "      <td>True</td>\n",
       "    </tr>\n",
       "    <tr>\n",
       "      <th>311</th>\n",
       "      <td>285</td>\n",
       "      <td>268</td>\n",
       "      <td>Danaher_Corporation</td>\n",
       "      <td>Pall_Corporation</td>\n",
       "      <td>NaN</td>\n",
       "      <td>Pall_Corporation is being acquired by Danaher...</td>\n",
       "      <td>True</td>\n",
       "    </tr>\n",
       "  </tbody>\n",
       "</table>\n",
       "</div>"
      ],
      "text/plain": [
       "     entity1ID  entity2ID               label1            label2  relation  \\\n",
       "26          86        410            UniCredit   HypoVereinsbank       NaN   \n",
       "42          56        366              Rosneft             Yukos       NaN   \n",
       "188        357        503       Ingersoll_Rand             Trane       NaN   \n",
       "189        357        503       Ingersoll_Rand             Trane       NaN   \n",
       "311        285        268  Danaher_Corporation  Pall_Corporation       NaN   \n",
       "\n",
       "                                               snippet  relation.1  \n",
       "26    Commerzbank has around 8 percent of the Germa...        True  \n",
       "42   \\nIn Russia, ExxonMobil's partner has been the...        True  \n",
       "188   It is engaged in the design, manufacture, sal...        True  \n",
       "189   It is engaged in the design, manufacture, sal...        True  \n",
       "311   Pall_Corporation is being acquired by Danaher...        True  "
      ]
     },
     "execution_count": 12,
     "metadata": {},
     "output_type": "execute_result"
    }
   ],
   "source": [
    "golden_true = test_golden[ test_golden[\"relation.1\"] == True]\n",
    "golden_true.head()"
   ]
  },
  {
   "cell_type": "code",
   "execution_count": 13,
   "metadata": {},
   "outputs": [],
   "source": [
    "from sklearn.metrics import accuracy_score"
   ]
  },
  {
   "cell_type": "code",
   "execution_count": 14,
   "metadata": {},
   "outputs": [
    {
     "data": {
      "text/plain": [
       "0.8082990778802356"
      ]
     },
     "execution_count": 14,
     "metadata": {},
     "output_type": "execute_result"
    }
   ],
   "source": [
    "accuracy_score(test_golden[\"relation.1\"], lstm_result[\"bin\"])"
   ]
  },
  {
   "cell_type": "code",
   "execution_count": 15,
   "metadata": {},
   "outputs": [],
   "source": [
    "import numpy as np\n",
    "import matplotlib.pyplot as plt\n",
    "import itertools\n",
    "from sklearn.metrics import confusion_matrix\n",
    "\n",
    "def plot_confusion_matrix(y_true, y_pred, classes,\n",
    "                          normalize=False,\n",
    "                          title='Confusion matrix',\n",
    "                          cmap=plt.cm.Blues,\n",
    "                          figsize=(9, 7)):\n",
    "    matrix = confusion_matrix(y_true, y_pred)\n",
    "\n",
    "    if normalize:\n",
    "        matrix = matrix.astype('float') / matrix.sum(axis=1)[:, np.newaxis]\n",
    "\n",
    "    plt.figure(figsize=figsize)\n",
    "    plt.imshow(matrix, interpolation='nearest', cmap=cmap)\n",
    "    plt.title(title)\n",
    "    plt.colorbar()\n",
    "\n",
    "    tick_marks = np.arange(len(classes))\n",
    "    plt.xticks(tick_marks, classes, rotation=45)\n",
    "    plt.yticks(tick_marks, classes)\n",
    "\n",
    "    fmt = '.2f' if normalize else 'd'\n",
    "    thresh = matrix.max() / 2.\n",
    "    for i, j in itertools.product(range(matrix.shape[0]), range(matrix.shape[1])):\n",
    "        plt.text(j, i, format(matrix[i, j], fmt),\n",
    "                 horizontalalignment=\"center\",\n",
    "                 size=int((figsize[0] / 10) * 38),\n",
    "                 color=\"white\" if matrix[i, j] > thresh else \"black\")\n",
    "\n",
    "    plt.tight_layout()\n",
    "    plt.ylabel('True label')\n",
    "    plt.xlabel('Predicted label')\n",
    "    plt.show()"
   ]
  },
  {
   "cell_type": "code",
   "execution_count": 16,
   "metadata": {},
   "outputs": [
    {
     "data": {
      "image/png": "[encoded data removed]",
      "text/plain": [
       "<matplotlib.figure.Figure at 0x7f103c5bac88>"
      ]
     },
     "metadata": {},
     "output_type": "display_data"
    }
   ],
   "source": [
    "plot_confusion_matrix(test_golden[\"relation.1\"], lstm_result[\"bin\"], classes=[0,1])"
   ]
  },
  {
   "cell_type": "code",
   "execution_count": 63,
   "metadata": {},
   "outputs": [
    {
     "data": {
      "text/plain": [
       "0.07627610208816706"
      ]
     },
     "execution_count": 63,
     "metadata": {},
     "output_type": "execute_result"
    }
   ],
   "source": [
    "precision_score(test_golden[\"relation.1\"], lstm_result[\"bin\"])"
   ]
  },
  {
   "cell_type": "code",
   "execution_count": 17,
   "metadata": {},
   "outputs": [],
   "source": [
    "pairs = test.drop_duplicates(subset=[\"label1\", \"label2\"])"
   ]
  },
  {
   "cell_type": "code",
   "execution_count": 18,
   "metadata": {},
   "outputs": [
    {
     "data": {
      "text/html": [
       "<div>\n",
       "<style scoped>\n",
       "    .dataframe tbody tr th:only-of-type {\n",
       "        vertical-align: middle;\n",
       "    }\n",
       "\n",
       "    .dataframe tbody tr th {\n",
       "        vertical-align: top;\n",
       "    }\n",
       "\n",
       "    .dataframe thead th {\n",
       "        text-align: right;\n",
       "    }\n",
       "</style>\n",
       "<table border=\"1\" class=\"dataframe\">\n",
       "  <thead>\n",
       "    <tr style=\"text-align: right;\">\n",
       "      <th></th>\n",
       "      <th>entity1ID</th>\n",
       "      <th>entity2ID</th>\n",
       "      <th>label1</th>\n",
       "      <th>label2</th>\n",
       "      <th>relation</th>\n",
       "      <th>snippet</th>\n",
       "      <th>relation.1</th>\n",
       "    </tr>\n",
       "  </thead>\n",
       "  <tbody>\n",
       "    <tr>\n",
       "      <th>0</th>\n",
       "      <td>497</td>\n",
       "      <td>494</td>\n",
       "      <td>Ford_Motor_Company</td>\n",
       "      <td>Holden</td>\n",
       "      <td>NaN</td>\n",
       "      <td>95s to top the sheets ahead of Kiwi Fabian Cou...</td>\n",
       "      <td>False</td>\n",
       "    </tr>\n",
       "    <tr>\n",
       "      <th>2</th>\n",
       "      <td>188</td>\n",
       "      <td>244</td>\n",
       "      <td>Apple_Inc.</td>\n",
       "      <td>HBO</td>\n",
       "      <td>NaN</td>\n",
       "      <td>\\nGamers who want to access HBO Now on the Xbo...</td>\n",
       "      <td>False</td>\n",
       "    </tr>\n",
       "    <tr>\n",
       "      <th>5</th>\n",
       "      <td>456</td>\n",
       "      <td>314</td>\n",
       "      <td>Google</td>\n",
       "      <td>Verizon_Communications</td>\n",
       "      <td>NaN</td>\n",
       "      <td>\\nGoogle's business immediately took a hit : p...</td>\n",
       "      <td>False</td>\n",
       "    </tr>\n",
       "    <tr>\n",
       "      <th>6</th>\n",
       "      <td>522</td>\n",
       "      <td>178</td>\n",
       "      <td>Twitter</td>\n",
       "      <td>Beats_Electronics</td>\n",
       "      <td>NaN</td>\n",
       "      <td>His endorsement list ain't bad either, includ...</td>\n",
       "      <td>False</td>\n",
       "    </tr>\n",
       "    <tr>\n",
       "      <th>7</th>\n",
       "      <td>426</td>\n",
       "      <td>424</td>\n",
       "      <td>AT&amp;T</td>\n",
       "      <td>T-Mobile_US</td>\n",
       "      <td>NaN</td>\n",
       "      <td>\\nReplacement offers from AT&amp;T, Verizon, Sprin...</td>\n",
       "      <td>False</td>\n",
       "    </tr>\n",
       "  </tbody>\n",
       "</table>\n",
       "</div>"
      ],
      "text/plain": [
       "   entity1ID  entity2ID              label1                  label2  relation  \\\n",
       "0        497        494  Ford_Motor_Company                  Holden       NaN   \n",
       "2        188        244          Apple_Inc.                     HBO       NaN   \n",
       "5        456        314              Google  Verizon_Communications       NaN   \n",
       "6        522        178             Twitter       Beats_Electronics       NaN   \n",
       "7        426        424                AT&T             T-Mobile_US       NaN   \n",
       "\n",
       "                                             snippet  relation.1  \n",
       "0  95s to top the sheets ahead of Kiwi Fabian Cou...       False  \n",
       "2  \\nGamers who want to access HBO Now on the Xbo...       False  \n",
       "5  \\nGoogle's business immediately took a hit : p...       False  \n",
       "6   His endorsement list ain't bad either, includ...       False  \n",
       "7  \\nReplacement offers from AT&T, Verizon, Sprin...       False  "
      ]
     },
     "execution_count": 18,
     "metadata": {},
     "output_type": "execute_result"
    }
   ],
   "source": [
    "pairs.head()"
   ]
  },
  {
   "cell_type": "code",
   "execution_count": 19,
   "metadata": {},
   "outputs": [
    {
     "data": {
      "text/plain": [
       "(769, 7)"
      ]
     },
     "execution_count": 19,
     "metadata": {},
     "output_type": "execute_result"
    }
   ],
   "source": [
    "pairs.shape"
   ]
  },
  {
   "cell_type": "code",
   "execution_count": 20,
   "metadata": {},
   "outputs": [
    {
     "data": {
      "text/plain": [
       "False    727\n",
       "True      42\n",
       "Name: relation.1, dtype: int64"
      ]
     },
     "execution_count": 20,
     "metadata": {},
     "output_type": "execute_result"
    }
   ],
   "source": [
    "pairs[\"relation.1\"].value_counts()"
   ]
  },
  {
   "cell_type": "code",
   "execution_count": 21,
   "metadata": {},
   "outputs": [],
   "source": [
    "def check_pair_any(company1, company2):\n",
    "    return lstm_result[ (lstm_result[\"company1\"] == company1) & (lstm_result[\"company2\"] == company2) ][\"bin\"].any()"
   ]
  },
  {
   "cell_type": "code",
   "execution_count": 22,
   "metadata": {},
   "outputs": [],
   "source": [
    "def check_pair_all(company1, company2):\n",
    "    return lstm_result[ (lstm_result[\"company1\"] == company1) & (lstm_result[\"company2\"] == company2) ][\"bin\"].all()"
   ]
  },
  {
   "cell_type": "code",
   "execution_count": 23,
   "metadata": {},
   "outputs": [],
   "source": [
    "lstm_result[\"any\"] = lstm_result.apply(lambda x: check_pair_any(x[\"company1\"], x[\"company2\"]), axis=1)"
   ]
  },
  {
   "cell_type": "code",
   "execution_count": 24,
   "metadata": {},
   "outputs": [],
   "source": [
    "lstm_result[\"all\"] = lstm_result.apply(lambda x: check_pair_all(x[\"company1\"], x[\"company2\"]), axis=1)"
   ]
  },
  {
   "cell_type": "code",
   "execution_count": 25,
   "metadata": {},
   "outputs": [
    {
     "data": {
      "text/plain": [
       "False    17946\n",
       "True        56\n",
       "Name: all, dtype: int64"
      ]
     },
     "execution_count": 25,
     "metadata": {},
     "output_type": "execute_result"
    }
   ],
   "source": [
    "lstm_result[\"all\"].value_counts()"
   ]
  },
  {
   "cell_type": "code",
   "execution_count": 26,
   "metadata": {},
   "outputs": [
    {
     "data": {
      "text/plain": [
       "True     485\n",
       "False    284\n",
       "Name: any, dtype: int64"
      ]
     },
     "execution_count": 26,
     "metadata": {},
     "output_type": "execute_result"
    }
   ],
   "source": [
    "lstm_per_pair = lstm_result.drop_duplicates(subset=[\"company1\", \"company2\"])\n",
    "lstm_per_pair[\"any\"].value_counts()"
   ]
  },
  {
   "cell_type": "code",
   "execution_count": 27,
   "metadata": {},
   "outputs": [
    {
     "data": {
      "text/plain": [
       "False    736\n",
       "True      33\n",
       "Name: all, dtype: int64"
      ]
     },
     "execution_count": 27,
     "metadata": {},
     "output_type": "execute_result"
    }
   ],
   "source": [
    "lstm_per_pair[\"all\"].value_counts()"
   ]
  },
  {
   "cell_type": "code",
   "execution_count": 77,
   "metadata": {},
   "outputs": [
    {
     "data": {
      "text/plain": [
       "0.29347826086956524"
      ]
     },
     "execution_count": 77,
     "metadata": {},
     "output_type": "execute_result"
    }
   ],
   "source": [
    "f1_score(pairs[\"relation.1\"],lstm_per_pair[\"bin\"])"
   ]
  },
  {
   "cell_type": "code",
   "execution_count": 76,
   "metadata": {},
   "outputs": [
    {
     "data": {
      "image/png": "[encoded data removed]",
      "text/plain": [
       "<matplotlib.figure.Figure at 0x7f0ff9d67c88>"
      ]
     },
     "metadata": {},
     "output_type": "display_data"
    }
   ],
   "source": [
    "plot_confusion_matrix(pairs[\"relation.1\"], lstm_per_pair[\"bin\"], classes=[0,1])"
   ]
  },
  {
   "cell_type": "code",
   "execution_count": 31,
   "metadata": {},
   "outputs": [],
   "source": [
    "vicky_test = pd.read_csv(\"onto-test/vicky-test.csv\")"
   ]
  },
  {
   "cell_type": "code",
   "execution_count": 32,
   "metadata": {},
   "outputs": [
    {
     "data": {
      "text/html": [
       "<div>\n",
       "<style scoped>\n",
       "    .dataframe tbody tr th:only-of-type {\n",
       "        vertical-align: middle;\n",
       "    }\n",
       "\n",
       "    .dataframe tbody tr th {\n",
       "        vertical-align: top;\n",
       "    }\n",
       "\n",
       "    .dataframe thead th {\n",
       "        text-align: right;\n",
       "    }\n",
       "</style>\n",
       "<table border=\"1\" class=\"dataframe\">\n",
       "  <thead>\n",
       "    <tr style=\"text-align: right;\">\n",
       "      <th></th>\n",
       "      <th>Unnamed: 0</th>\n",
       "      <th>company1</th>\n",
       "      <th>company2</th>\n",
       "      <th>snippet</th>\n",
       "      <th>prob</th>\n",
       "      <th>imp_sent_num</th>\n",
       "    </tr>\n",
       "  </thead>\n",
       "  <tbody>\n",
       "    <tr>\n",
       "      <th>0</th>\n",
       "      <td>0</td>\n",
       "      <td>ALFA_(Mexico)</td>\n",
       "      <td>Axtel</td>\n",
       "      <td>[' assets of its energy unit newpek, but that ...</td>\n",
       "      <td>0.000216</td>\n",
       "      <td>0</td>\n",
       "    </tr>\n",
       "    <tr>\n",
       "      <th>1</th>\n",
       "      <td>1</td>\n",
       "      <td>ARIAD_Pharmaceuticals</td>\n",
       "      <td>Takeda_Pharmaceutical_Company</td>\n",
       "      <td>[\"japan's company2 a ready for fresh acquisiti...</td>\n",
       "      <td>0.000684</td>\n",
       "      <td>18</td>\n",
       "    </tr>\n",
       "    <tr>\n",
       "      <th>2</th>\n",
       "      <td>2</td>\n",
       "      <td>AT&amp;T</td>\n",
       "      <td>Boeing</td>\n",
       "      <td>[' \\xa0\\n\"immigrants or their children founded...</td>\n",
       "      <td>0.000106</td>\n",
       "      <td>17</td>\n",
       "    </tr>\n",
       "    <tr>\n",
       "      <th>3</th>\n",
       "      <td>3</td>\n",
       "      <td>AT&amp;T</td>\n",
       "      <td>Boost_Mobile</td>\n",
       "      <td>[\" they're on different carriers:  company1 , ...</td>\n",
       "      <td>0.000002</td>\n",
       "      <td>6</td>\n",
       "    </tr>\n",
       "    <tr>\n",
       "      <th>4</th>\n",
       "      <td>4</td>\n",
       "      <td>AT&amp;T</td>\n",
       "      <td>Bright_House_Networks</td>\n",
       "      <td>[\"o) purchase of time warner cable and  compan...</td>\n",
       "      <td>0.001734</td>\n",
       "      <td>0</td>\n",
       "    </tr>\n",
       "  </tbody>\n",
       "</table>\n",
       "</div>"
      ],
      "text/plain": [
       "   Unnamed: 0               company1                       company2  \\\n",
       "0           0          ALFA_(Mexico)                          Axtel   \n",
       "1           1  ARIAD_Pharmaceuticals  Takeda_Pharmaceutical_Company   \n",
       "2           2                   AT&T                         Boeing   \n",
       "3           3                   AT&T                   Boost_Mobile   \n",
       "4           4                   AT&T          Bright_House_Networks   \n",
       "\n",
       "                                             snippet      prob  imp_sent_num  \n",
       "0  [' assets of its energy unit newpek, but that ...  0.000216             0  \n",
       "1  [\"japan's company2 a ready for fresh acquisiti...  0.000684            18  \n",
       "2  [' \\xa0\\n\"immigrants or their children founded...  0.000106            17  \n",
       "3  [\" they're on different carriers:  company1 , ...  0.000002             6  \n",
       "4  [\"o) purchase of time warner cable and  compan...  0.001734             0  "
      ]
     },
     "execution_count": 32,
     "metadata": {},
     "output_type": "execute_result"
    }
   ],
   "source": [
    "vicky_test.head()"
   ]
  },
  {
   "cell_type": "code",
   "execution_count": 33,
   "metadata": {},
   "outputs": [
    {
     "data": {
      "text/html": [
       "<div>\n",
       "<style scoped>\n",
       "    .dataframe tbody tr th:only-of-type {\n",
       "        vertical-align: middle;\n",
       "    }\n",
       "\n",
       "    .dataframe tbody tr th {\n",
       "        vertical-align: top;\n",
       "    }\n",
       "\n",
       "    .dataframe thead th {\n",
       "        text-align: right;\n",
       "    }\n",
       "</style>\n",
       "<table border=\"1\" class=\"dataframe\">\n",
       "  <thead>\n",
       "    <tr style=\"text-align: right;\">\n",
       "      <th></th>\n",
       "      <th>entity1ID</th>\n",
       "      <th>entity2ID</th>\n",
       "      <th>label1</th>\n",
       "      <th>label2</th>\n",
       "      <th>relation</th>\n",
       "      <th>snippet</th>\n",
       "      <th>relation.1</th>\n",
       "    </tr>\n",
       "  </thead>\n",
       "  <tbody>\n",
       "    <tr>\n",
       "      <th>4872</th>\n",
       "      <td>70</td>\n",
       "      <td>324</td>\n",
       "      <td>ALFA_(Mexico)</td>\n",
       "      <td>Axtel</td>\n",
       "      <td>NaN</td>\n",
       "      <td>assets of its energy unit Newpek, but that it...</td>\n",
       "      <td>True</td>\n",
       "    </tr>\n",
       "    <tr>\n",
       "      <th>791</th>\n",
       "      <td>351</td>\n",
       "      <td>269</td>\n",
       "      <td>ARIAD_Pharmaceuticals</td>\n",
       "      <td>Takeda_Pharmaceutical_Company</td>\n",
       "      <td>NaN</td>\n",
       "      <td>Japan'sTakeda_Pharmaceutical_Companya ready fo...</td>\n",
       "      <td>False</td>\n",
       "    </tr>\n",
       "    <tr>\n",
       "      <th>267</th>\n",
       "      <td>426</td>\n",
       "      <td>122</td>\n",
       "      <td>AT&amp;T</td>\n",
       "      <td>Boeing</td>\n",
       "      <td>NaN</td>\n",
       "      <td>\\n\"Immigrants or their children founded more...</td>\n",
       "      <td>False</td>\n",
       "    </tr>\n",
       "    <tr>\n",
       "      <th>3725</th>\n",
       "      <td>426</td>\n",
       "      <td>500</td>\n",
       "      <td>AT&amp;T</td>\n",
       "      <td>Boost_Mobile</td>\n",
       "      <td>NaN</td>\n",
       "      <td>They're on different carriers: AT&amp;T, Verizon,...</td>\n",
       "      <td>False</td>\n",
       "    </tr>\n",
       "    <tr>\n",
       "      <th>1245</th>\n",
       "      <td>426</td>\n",
       "      <td>532</td>\n",
       "      <td>AT&amp;T</td>\n",
       "      <td>Bright_House_Networks</td>\n",
       "      <td>NaN</td>\n",
       "      <td>O) purchase of Time Warner Cable and Bright_Ho...</td>\n",
       "      <td>False</td>\n",
       "    </tr>\n",
       "  </tbody>\n",
       "</table>\n",
       "</div>"
      ],
      "text/plain": [
       "      entity1ID  entity2ID                 label1  \\\n",
       "4872         70        324          ALFA_(Mexico)   \n",
       "791         351        269  ARIAD_Pharmaceuticals   \n",
       "267         426        122                   AT&T   \n",
       "3725        426        500                   AT&T   \n",
       "1245        426        532                   AT&T   \n",
       "\n",
       "                             label2  relation  \\\n",
       "4872                          Axtel       NaN   \n",
       "791   Takeda_Pharmaceutical_Company       NaN   \n",
       "267                          Boeing       NaN   \n",
       "3725                   Boost_Mobile       NaN   \n",
       "1245          Bright_House_Networks       NaN   \n",
       "\n",
       "                                                snippet  relation.1  \n",
       "4872   assets of its energy unit Newpek, but that it...        True  \n",
       "791   Japan'sTakeda_Pharmaceutical_Companya ready fo...       False  \n",
       "267     \\n\"Immigrants or their children founded more...       False  \n",
       "3725   They're on different carriers: AT&T, Verizon,...       False  \n",
       "1245  O) purchase of Time Warner Cable and Bright_Ho...       False  "
      ]
     },
     "execution_count": 33,
     "metadata": {},
     "output_type": "execute_result"
    }
   ],
   "source": [
    "pairs_sorted = pairs.sort_values(by=[\"label1\", \"label2\"])\n",
    "pairs_sorted.head()"
   ]
  },
  {
   "cell_type": "code",
   "execution_count": 34,
   "metadata": {},
   "outputs": [],
   "source": [
    " vicky_test[\"bin\"]=vicky_test[\"prob\"] > 0.5"
   ]
  },
  {
   "cell_type": "code",
   "execution_count": 35,
   "metadata": {},
   "outputs": [
    {
     "data": {
      "text/plain": [
       "0.25862068965517243"
      ]
     },
     "execution_count": 35,
     "metadata": {},
     "output_type": "execute_result"
    }
   ],
   "source": [
    "f1_score(pairs_sorted[\"relation.1\"], vicky_test[\"bin\"])"
   ]
  },
  {
   "cell_type": "code",
   "execution_count": 36,
   "metadata": {},
   "outputs": [
    {
     "data": {
      "image/png": "[encoded data removed]",
      "text/plain": [
       "<matplotlib.figure.Figure at 0x7f0ffbb64160>"
      ]
     },
     "metadata": {},
     "output_type": "display_data"
    }
   ],
   "source": [
    "plot_confusion_matrix(pairs_sorted[\"relation.1\"], vicky_test[\"bin\"], classes=[0,1])"
   ]
  },
  {
   "cell_type": "code",
   "execution_count": 37,
   "metadata": {},
   "outputs": [],
   "source": [
    "from sklearn.metrics import precision_score"
   ]
  },
  {
   "cell_type": "code",
   "execution_count": 38,
   "metadata": {},
   "outputs": [
    {
     "data": {
      "text/plain": [
       "0.20270270270270271"
      ]
     },
     "execution_count": 38,
     "metadata": {},
     "output_type": "execute_result"
    }
   ],
   "source": [
    "precision_score(pairs_sorted[\"relation.1\"], vicky_test[\"bin\"])"
   ]
  },
  {
   "cell_type": "code",
   "execution_count": 40,
   "metadata": {},
   "outputs": [
    {
     "data": {
      "text/plain": [
       "0.42424242424242425"
      ]
     },
     "execution_count": 40,
     "metadata": {},
     "output_type": "execute_result"
    }
   ],
   "source": [
    "precision_score(pairs[\"relation.1\"], lstm_per_pair[\"all\"])"
   ]
  },
  {
   "cell_type": "code",
   "execution_count": 67,
   "metadata": {},
   "outputs": [
    {
     "data": {
      "image/png": "[encoded data removed]",
      "text/plain": [
       "<matplotlib.figure.Figure at 0x7f0ffa295f60>"
      ]
     },
     "metadata": {},
     "output_type": "display_data"
    }
   ],
   "source": [
    "plot_confusion_matrix(test_golden[\"relation.1\"], lstm_result[\"all\"], classes=[0,1])"
   ]
  },
  {
   "cell_type": "code",
   "execution_count": 47,
   "metadata": {},
   "outputs": [
    {
     "data": {
      "text/html": [
       "<div>\n",
       "<style scoped>\n",
       "    .dataframe tbody tr th:only-of-type {\n",
       "        vertical-align: middle;\n",
       "    }\n",
       "\n",
       "    .dataframe tbody tr th {\n",
       "        vertical-align: top;\n",
       "    }\n",
       "\n",
       "    .dataframe thead th {\n",
       "        text-align: right;\n",
       "    }\n",
       "</style>\n",
       "<table border=\"1\" class=\"dataframe\">\n",
       "  <thead>\n",
       "    <tr style=\"text-align: right;\">\n",
       "      <th></th>\n",
       "      <th>Unnamed: 0</th>\n",
       "      <th>company1</th>\n",
       "      <th>company2</th>\n",
       "      <th>is_parent</th>\n",
       "      <th>snippet</th>\n",
       "    </tr>\n",
       "  </thead>\n",
       "  <tbody>\n",
       "    <tr>\n",
       "      <th>0</th>\n",
       "      <td>0</td>\n",
       "      <td>Ford_Motor_Company</td>\n",
       "      <td>Holden</td>\n",
       "      <td>False</td>\n",
       "      <td>95s to top the sheets ahead of Kiwi Fabian Cou...</td>\n",
       "    </tr>\n",
       "    <tr>\n",
       "      <th>1</th>\n",
       "      <td>1</td>\n",
       "      <td>Ford_Motor_Company</td>\n",
       "      <td>Holden</td>\n",
       "      <td>False</td>\n",
       "      <td>95s to top the sheets ahead of Kiwi Fabian Cou...</td>\n",
       "    </tr>\n",
       "    <tr>\n",
       "      <th>2</th>\n",
       "      <td>2</td>\n",
       "      <td>Apple_Inc.</td>\n",
       "      <td>HBO</td>\n",
       "      <td>False</td>\n",
       "      <td>\\nGamers who want to access HBO Now on the Xbo...</td>\n",
       "    </tr>\n",
       "    <tr>\n",
       "      <th>3</th>\n",
       "      <td>3</td>\n",
       "      <td>Apple_Inc.</td>\n",
       "      <td>HBO</td>\n",
       "      <td>False</td>\n",
       "      <td>\\nHBO first launched its standalone subscripti...</td>\n",
       "    </tr>\n",
       "    <tr>\n",
       "      <th>4</th>\n",
       "      <td>4</td>\n",
       "      <td>Apple_Inc.</td>\n",
       "      <td>HBO</td>\n",
       "      <td>False</td>\n",
       "      <td>\\nHBO first launched its standalone subscripti...</td>\n",
       "    </tr>\n",
       "  </tbody>\n",
       "</table>\n",
       "</div>"
      ],
      "text/plain": [
       "   Unnamed: 0            company1 company2  is_parent  \\\n",
       "0           0  Ford_Motor_Company   Holden      False   \n",
       "1           1  Ford_Motor_Company   Holden      False   \n",
       "2           2          Apple_Inc.      HBO      False   \n",
       "3           3          Apple_Inc.      HBO      False   \n",
       "4           4          Apple_Inc.      HBO      False   \n",
       "\n",
       "                                             snippet  \n",
       "0  95s to top the sheets ahead of Kiwi Fabian Cou...  \n",
       "1  95s to top the sheets ahead of Kiwi Fabian Cou...  \n",
       "2  \\nGamers who want to access HBO Now on the Xbo...  \n",
       "3  \\nHBO first launched its standalone subscripti...  \n",
       "4  \\nHBO first launched its standalone subscripti...  "
      ]
     },
     "execution_count": 47,
     "metadata": {},
     "output_type": "execute_result"
    }
   ],
   "source": [
    "centroida = pd.read_csv(\"onto-test/final_csv_centroida.csv\")\n",
    "centroida.head()"
   ]
  },
  {
   "cell_type": "code",
   "execution_count": 52,
   "metadata": {},
   "outputs": [
    {
     "data": {
      "text/html": [
       "<div>\n",
       "<style scoped>\n",
       "    .dataframe tbody tr th:only-of-type {\n",
       "        vertical-align: middle;\n",
       "    }\n",
       "\n",
       "    .dataframe tbody tr th {\n",
       "        vertical-align: top;\n",
       "    }\n",
       "\n",
       "    .dataframe thead th {\n",
       "        text-align: right;\n",
       "    }\n",
       "</style>\n",
       "<table border=\"1\" class=\"dataframe\">\n",
       "  <thead>\n",
       "    <tr style=\"text-align: right;\">\n",
       "      <th></th>\n",
       "      <th>entity1ID</th>\n",
       "      <th>entity2ID</th>\n",
       "      <th>label1</th>\n",
       "      <th>label2</th>\n",
       "      <th>relation</th>\n",
       "      <th>snippet</th>\n",
       "      <th>relation.1</th>\n",
       "    </tr>\n",
       "  </thead>\n",
       "  <tbody>\n",
       "    <tr>\n",
       "      <th>0</th>\n",
       "      <td>497</td>\n",
       "      <td>494</td>\n",
       "      <td>Ford_Motor_Company</td>\n",
       "      <td>Holden</td>\n",
       "      <td>NaN</td>\n",
       "      <td>95s to top the sheets ahead of Kiwi Fabian Cou...</td>\n",
       "      <td>False</td>\n",
       "    </tr>\n",
       "    <tr>\n",
       "      <th>1</th>\n",
       "      <td>497</td>\n",
       "      <td>494</td>\n",
       "      <td>Ford_Motor_Company</td>\n",
       "      <td>Holden</td>\n",
       "      <td>NaN</td>\n",
       "      <td>95s to top the sheets ahead of Kiwi Fabian Cou...</td>\n",
       "      <td>False</td>\n",
       "    </tr>\n",
       "    <tr>\n",
       "      <th>2</th>\n",
       "      <td>188</td>\n",
       "      <td>244</td>\n",
       "      <td>Apple_Inc.</td>\n",
       "      <td>HBO</td>\n",
       "      <td>NaN</td>\n",
       "      <td>\\nGamers who want to access HBO Now on the Xbo...</td>\n",
       "      <td>False</td>\n",
       "    </tr>\n",
       "    <tr>\n",
       "      <th>3</th>\n",
       "      <td>188</td>\n",
       "      <td>244</td>\n",
       "      <td>Apple_Inc.</td>\n",
       "      <td>HBO</td>\n",
       "      <td>NaN</td>\n",
       "      <td>\\nHBO first launched its standalone subscripti...</td>\n",
       "      <td>False</td>\n",
       "    </tr>\n",
       "    <tr>\n",
       "      <th>4</th>\n",
       "      <td>188</td>\n",
       "      <td>244</td>\n",
       "      <td>Apple_Inc.</td>\n",
       "      <td>HBO</td>\n",
       "      <td>NaN</td>\n",
       "      <td>\\nHBO first launched its standalone subscripti...</td>\n",
       "      <td>False</td>\n",
       "    </tr>\n",
       "  </tbody>\n",
       "</table>\n",
       "</div>"
      ],
      "text/plain": [
       "   entity1ID  entity2ID              label1  label2  relation  \\\n",
       "0        497        494  Ford_Motor_Company  Holden       NaN   \n",
       "1        497        494  Ford_Motor_Company  Holden       NaN   \n",
       "2        188        244          Apple_Inc.     HBO       NaN   \n",
       "3        188        244          Apple_Inc.     HBO       NaN   \n",
       "4        188        244          Apple_Inc.     HBO       NaN   \n",
       "\n",
       "                                             snippet  relation.1  \n",
       "0  95s to top the sheets ahead of Kiwi Fabian Cou...       False  \n",
       "1  95s to top the sheets ahead of Kiwi Fabian Cou...       False  \n",
       "2  \\nGamers who want to access HBO Now on the Xbo...       False  \n",
       "3  \\nHBO first launched its standalone subscripti...       False  \n",
       "4  \\nHBO first launched its standalone subscripti...       False  "
      ]
     },
     "execution_count": 52,
     "metadata": {},
     "output_type": "execute_result"
    }
   ],
   "source": [
    "test.head()"
   ]
  },
  {
   "cell_type": "code",
   "execution_count": 51,
   "metadata": {},
   "outputs": [
    {
     "data": {
      "text/plain": [
       "0.11963882618510158"
      ]
     },
     "execution_count": 51,
     "metadata": {},
     "output_type": "execute_result"
    }
   ],
   "source": [
    "precision_score(test[\"relation.1\"],centroida[\"is_parent\"] )"
   ]
  },
  {
   "cell_type": "code",
   "execution_count": 53,
   "metadata": {},
   "outputs": [
    {
     "data": {
      "image/png": "[encoded data removed]",
      "text/plain": [
       "<matplotlib.figure.Figure at 0x7f0ffbb837b8>"
      ]
     },
     "metadata": {},
     "output_type": "display_data"
    }
   ],
   "source": [
    "plot_confusion_matrix(testte[\"relation.1\"], centroida[\"is_parent\"], classes=[0,1])"
   ]
  },
  {
   "cell_type": "code",
   "execution_count": 60,
   "metadata": {},
   "outputs": [
    {
     "data": {
      "text/plain": [
       "(18002, 5)"
      ]
     },
     "execution_count": 60,
     "metadata": {},
     "output_type": "execute_result"
    }
   ],
   "source": [
    "centroida = centroida.drop_duplicates(subset=[\"company1\", \"company2\", \"snippet\"])\n",
    "centroida.shape"
   ]
  },
  {
   "cell_type": "code",
   "execution_count": 61,
   "metadata": {},
   "outputs": [
    {
     "data": {
      "image/png": "[encoded data removed]",
      "text/plain": [
       "<matplotlib.figure.Figure at 0x7f0ffa34e588>"
      ]
     },
     "metadata": {},
     "output_type": "display_data"
    }
   ],
   "source": [
    "plot_confusion_matrix(test_golden[\"relation.1\"], centroida[\"is_parent\"], classes=[0,1])"
   ]
  },
  {
   "cell_type": "code",
   "execution_count": 62,
   "metadata": {},
   "outputs": [
    {
     "data": {
      "text/plain": [
       "0.08380053113012688"
      ]
     },
     "execution_count": 62,
     "metadata": {},
     "output_type": "execute_result"
    }
   ],
   "source": [
    "precision_score(test_golden[\"relation.1\"],centroida[\"is_parent\"] )"
   ]
  },
  {
   "cell_type": "code",
   "execution_count": 43,
   "metadata": {},
   "outputs": [
    {
     "data": {
      "text/plain": [
       "(769, 5)"
      ]
     },
     "execution_count": 43,
     "metadata": {},
     "output_type": "execute_result"
    }
   ],
   "source": [
    "centroida = centroida.drop_duplicates(subset=[\"company1\", \"company2\"])\n",
    "centroida.shape"
   ]
  },
  {
   "cell_type": "code",
   "execution_count": 44,
   "metadata": {},
   "outputs": [
    {
     "data": {
      "text/plain": [
       "0.17647058823529413"
      ]
     },
     "execution_count": 44,
     "metadata": {},
     "output_type": "execute_result"
    }
   ],
   "source": [
    "precision_score(pairs[\"relation.1\"], centroida[\"is_parent\"])"
   ]
  },
  {
   "cell_type": "code",
   "execution_count": 75,
   "metadata": {},
   "outputs": [
    {
     "data": {
      "image/png": "[encoded data removed]",
      "text/plain": [
       "<matplotlib.figure.Figure at 0x7f0ff9d67f60>"
      ]
     },
     "metadata": {},
     "output_type": "display_data"
    }
   ],
   "source": [
    "plot_confusion_matrix(pairs[\"relation.1\"], centroida[\"is_parent\"], classes=[0,1])"
   ]
  }
 ],
 "metadata": {
  "kernelspec": {
   "display_name": "Python 3",
   "language": "python",
   "name": "python3"
  },
  "language_info": {
   "codemirror_mode": {
    "name": "ipython",
    "version": 3
   },
   "file_extension": ".py",
   "mimetype": "text/x-python",
   "name": "python",
   "nbconvert_exporter": "python",
   "pygments_lexer": "ipython3",
   "version": "3.5.2"
  }
 },
 "nbformat": 4,
 "nbformat_minor": 2
}
