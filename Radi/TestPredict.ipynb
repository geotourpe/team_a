{
 "cells": [
  {
   "cell_type": "code",
   "execution_count": 37,
   "metadata": {},
   "outputs": [],
   "source": [
    "import pandas as pd"
   ]
  },
  {
   "cell_type": "code",
   "execution_count": 38,
   "metadata": {},
   "outputs": [],
   "source": [
    "result = pd.read_csv(\"./onto-test/bi_lstm.csv\")"
   ]
  },
  {
   "cell_type": "code",
   "execution_count": 39,
   "metadata": {},
   "outputs": [
    {
     "data": {
      "text/plain": [
       "(18002, 5)"
      ]
     },
     "execution_count": 39,
     "metadata": {},
     "output_type": "execute_result"
    }
   ],
   "source": [
    "result.shape"
   ]
  },
  {
   "cell_type": "markdown",
   "metadata": {},
   "source": [
    "### The RESULTS\n",
    "The top 20 subsidary groups are:"
   ]
  },
  {
   "cell_type": "code",
   "execution_count": 48,
   "metadata": {},
   "outputs": [
    {
     "data": {
      "text/html": [
       "<div>\n",
       "<style scoped>\n",
       "    .dataframe tbody tr th:only-of-type {\n",
       "        vertical-align: middle;\n",
       "    }\n",
       "\n",
       "    .dataframe tbody tr th {\n",
       "        vertical-align: top;\n",
       "    }\n",
       "\n",
       "    .dataframe thead th {\n",
       "        text-align: right;\n",
       "    }\n",
       "</style>\n",
       "<table border=\"1\" class=\"dataframe\">\n",
       "  <thead>\n",
       "    <tr style=\"text-align: right;\">\n",
       "      <th></th>\n",
       "      <th>company1</th>\n",
       "      <th>company2</th>\n",
       "    </tr>\n",
       "  </thead>\n",
       "  <tbody>\n",
       "    <tr>\n",
       "      <th>4045</th>\n",
       "      <td>UniCredit</td>\n",
       "      <td>HypoVereinsbank</td>\n",
       "    </tr>\n",
       "    <tr>\n",
       "      <th>239</th>\n",
       "      <td>Google</td>\n",
       "      <td>Dropcam</td>\n",
       "    </tr>\n",
       "    <tr>\n",
       "      <th>5923</th>\n",
       "      <td>Volkswagen_Group</td>\n",
       "      <td>Lamborghini</td>\n",
       "    </tr>\n",
       "    <tr>\n",
       "      <th>6101</th>\n",
       "      <td>Pfizer</td>\n",
       "      <td>Allergan</td>\n",
       "    </tr>\n",
       "    <tr>\n",
       "      <th>7128</th>\n",
       "      <td>AT&amp;T</td>\n",
       "      <td>Time_Warner</td>\n",
       "    </tr>\n",
       "    <tr>\n",
       "      <th>6960</th>\n",
       "      <td>Takeda_Pharmaceutical_Company</td>\n",
       "      <td>ARIAD_Pharmaceuticals</td>\n",
       "    </tr>\n",
       "    <tr>\n",
       "      <th>13628</th>\n",
       "      <td>British_American_Tobacco</td>\n",
       "      <td>Reynolds_American</td>\n",
       "    </tr>\n",
       "    <tr>\n",
       "      <th>3005</th>\n",
       "      <td>AT&amp;T</td>\n",
       "      <td>Time_Warner</td>\n",
       "    </tr>\n",
       "    <tr>\n",
       "      <th>16988</th>\n",
       "      <td>Bank_of_America</td>\n",
       "      <td>Jefferies_Group</td>\n",
       "    </tr>\n",
       "    <tr>\n",
       "      <th>16434</th>\n",
       "      <td>Google</td>\n",
       "      <td>Warner_Bros.</td>\n",
       "    </tr>\n",
       "    <tr>\n",
       "      <th>7086</th>\n",
       "      <td>Tesco</td>\n",
       "      <td>Ben_&amp;_Jerry's</td>\n",
       "    </tr>\n",
       "    <tr>\n",
       "      <th>12854</th>\n",
       "      <td>Amazon.com</td>\n",
       "      <td>Warner_Bros.</td>\n",
       "    </tr>\n",
       "    <tr>\n",
       "      <th>15946</th>\n",
       "      <td>Verizon_Communications</td>\n",
       "      <td>Tumblr</td>\n",
       "    </tr>\n",
       "    <tr>\n",
       "      <th>13977</th>\n",
       "      <td>Volkswagen_Group</td>\n",
       "      <td>Lamborghini</td>\n",
       "    </tr>\n",
       "    <tr>\n",
       "      <th>907</th>\n",
       "      <td>AT&amp;T</td>\n",
       "      <td>Time_Warner</td>\n",
       "    </tr>\n",
       "    <tr>\n",
       "      <th>17078</th>\n",
       "      <td>Berkshire_Hathaway</td>\n",
       "      <td>NV_Energy</td>\n",
       "    </tr>\n",
       "    <tr>\n",
       "      <th>11874</th>\n",
       "      <td>Facebook</td>\n",
       "      <td>Id_Software</td>\n",
       "    </tr>\n",
       "    <tr>\n",
       "      <th>8109</th>\n",
       "      <td>Oracle_Corporation</td>\n",
       "      <td>NetSuite</td>\n",
       "    </tr>\n",
       "    <tr>\n",
       "      <th>8954</th>\n",
       "      <td>Google</td>\n",
       "      <td>Alexa_Internet</td>\n",
       "    </tr>\n",
       "    <tr>\n",
       "      <th>4331</th>\n",
       "      <td>Molson_Coors_Brewing_Company</td>\n",
       "      <td>SABMiller</td>\n",
       "    </tr>\n",
       "  </tbody>\n",
       "</table>\n",
       "</div>"
      ],
      "text/plain": [
       "                            company1               company2\n",
       "4045                       UniCredit        HypoVereinsbank\n",
       "239                           Google                Dropcam\n",
       "5923                Volkswagen_Group            Lamborghini\n",
       "6101                          Pfizer               Allergan\n",
       "7128                            AT&T            Time_Warner\n",
       "6960   Takeda_Pharmaceutical_Company  ARIAD_Pharmaceuticals\n",
       "13628       British_American_Tobacco      Reynolds_American\n",
       "3005                            AT&T            Time_Warner\n",
       "16988                Bank_of_America        Jefferies_Group\n",
       "16434                         Google           Warner_Bros.\n",
       "7086                           Tesco          Ben_&_Jerry's\n",
       "12854                     Amazon.com           Warner_Bros.\n",
       "15946         Verizon_Communications                 Tumblr\n",
       "13977               Volkswagen_Group            Lamborghini\n",
       "907                             AT&T            Time_Warner\n",
       "17078             Berkshire_Hathaway              NV_Energy\n",
       "11874                       Facebook            Id_Software\n",
       "8109              Oracle_Corporation               NetSuite\n",
       "8954                          Google         Alexa_Internet\n",
       "4331    Molson_Coors_Brewing_Company              SABMiller"
      ]
     },
     "execution_count": 48,
     "metadata": {},
     "output_type": "execute_result"
    }
   ],
   "source": [
    "result[[\"company1\", \"company2\", \"is_parent\"]].sort_values(by=\"is_parent\", ascending=False).drop([\"is_parent\"], axis=1)[:20]"
   ]
  },
  {
   "cell_type": "code",
   "execution_count": null,
   "metadata": {},
   "outputs": [],
   "source": []
  }
 ],
 "metadata": {
  "kernelspec": {
   "display_name": "Python 3",
   "language": "python",
   "name": "python3"
  },
  "language_info": {
   "codemirror_mode": {
    "name": "ipython",
    "version": 3
   },
   "file_extension": ".py",
   "mimetype": "text/x-python",
   "name": "python",
   "nbconvert_exporter": "python",
   "pygments_lexer": "ipython3",
   "version": "3.5.2"
  }
 },
 "nbformat": 4,
 "nbformat_minor": 2
}
