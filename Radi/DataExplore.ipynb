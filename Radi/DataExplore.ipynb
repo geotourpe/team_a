{
 "cells": [
  {
   "cell_type": "code",
   "execution_count": 1,
   "metadata": {},
   "outputs": [],
   "source": [
    "import pandas as pd"
   ]
  },
  {
   "cell_type": "code",
   "execution_count": 2,
   "metadata": {},
   "outputs": [],
   "source": [
    "dataset = pd.read_csv(\"../data/train.csv\")"
   ]
  },
  {
   "cell_type": "code",
   "execution_count": 9,
   "metadata": {},
   "outputs": [
    {
     "data": {
      "text/html": [
       "<div>\n",
       "<style scoped>\n",
       "    .dataframe tbody tr th:only-of-type {\n",
       "        vertical-align: middle;\n",
       "    }\n",
       "\n",
       "    .dataframe tbody tr th {\n",
       "        vertical-align: top;\n",
       "    }\n",
       "\n",
       "    .dataframe thead th {\n",
       "        text-align: right;\n",
       "    }\n",
       "</style>\n",
       "<table border=\"1\" class=\"dataframe\">\n",
       "  <thead>\n",
       "    <tr style=\"text-align: right;\">\n",
       "      <th></th>\n",
       "      <th>company1</th>\n",
       "      <th>company2</th>\n",
       "      <th>is_parent</th>\n",
       "      <th>snippet</th>\n",
       "    </tr>\n",
       "  </thead>\n",
       "  <tbody>\n",
       "    <tr>\n",
       "      <th>0</th>\n",
       "      <td>Sprint_Corporation</td>\n",
       "      <td>Verizon_Communications</td>\n",
       "      <td>False</td>\n",
       "      <td>1 wireless carrier Verizon_Communications (NY...</td>\n",
       "    </tr>\n",
       "    <tr>\n",
       "      <th>1</th>\n",
       "      <td>Sprint_Corporation</td>\n",
       "      <td>Verizon_Communications</td>\n",
       "      <td>False</td>\n",
       "      <td>While AT&amp;T, Sprint_Corporation, and T-Mobile ...</td>\n",
       "    </tr>\n",
       "    <tr>\n",
       "      <th>2</th>\n",
       "      <td>Sprint_Corporation</td>\n",
       "      <td>Verizon_Communications</td>\n",
       "      <td>False</td>\n",
       "      <td>\\nAT&amp;T, Sprint_Corporation, and Verizon_Commun...</td>\n",
       "    </tr>\n",
       "    <tr>\n",
       "      <th>3</th>\n",
       "      <td>Alexa_Internet</td>\n",
       "      <td>Amazon.com</td>\n",
       "      <td>False</td>\n",
       "      <td>Logitech addsAmazon.comn'sAlexa_Interneta skil...</td>\n",
       "    </tr>\n",
       "    <tr>\n",
       "      <th>4</th>\n",
       "      <td>Alexa_Internet</td>\n",
       "      <td>Amazon.com</td>\n",
       "      <td>False</td>\n",
       "      <td>\\nLogitech has announced a new version of the ...</td>\n",
       "    </tr>\n",
       "    <tr>\n",
       "      <th>5</th>\n",
       "      <td>Alexa_Internet</td>\n",
       "      <td>Amazon.com</td>\n",
       "      <td>False</td>\n",
       "      <td>Say \"Alexa_Internet,\" and you can access any ...</td>\n",
       "    </tr>\n",
       "    <tr>\n",
       "      <th>6</th>\n",
       "      <td>Lufthansa</td>\n",
       "      <td>British_Airways</td>\n",
       "      <td>False</td>\n",
       "      <td>''\\nGary Leff, author of the blog, View From T...</td>\n",
       "    </tr>\n",
       "    <tr>\n",
       "      <th>7</th>\n",
       "      <td>Asda</td>\n",
       "      <td>Walmart</td>\n",
       "      <td>False</td>\n",
       "      <td>It is understood that B&amp;M has no knowledge of...</td>\n",
       "    </tr>\n",
       "    <tr>\n",
       "      <th>8</th>\n",
       "      <td>The_Walt_Disney_Company</td>\n",
       "      <td>Marvel_Comics</td>\n",
       "      <td>True</td>\n",
       "      <td>\"\\nSony spent a hefty $175 million to make the...</td>\n",
       "    </tr>\n",
       "    <tr>\n",
       "      <th>9</th>\n",
       "      <td>Comcast</td>\n",
       "      <td>Verizon_Communications</td>\n",
       "      <td>False</td>\n",
       "      <td>wireless industry to ease pricing pressure in...</td>\n",
       "    </tr>\n",
       "    <tr>\n",
       "      <th>10</th>\n",
       "      <td>Comcast</td>\n",
       "      <td>Verizon_Communications</td>\n",
       "      <td>False</td>\n",
       "      <td>O ) are also entering the market with wireless...</td>\n",
       "    </tr>\n",
       "    <tr>\n",
       "      <th>11</th>\n",
       "      <td>Comcast</td>\n",
       "      <td>Verizon_Communications</td>\n",
       "      <td>False</td>\n",
       "      <td>\\n\"With no merger of Sprint and T-Mobile, as w...</td>\n",
       "    </tr>\n",
       "    <tr>\n",
       "      <th>12</th>\n",
       "      <td>AOL</td>\n",
       "      <td>Verizon_Communications</td>\n",
       "      <td>False</td>\n",
       "      <td>The closure follows an acquisition of the par...</td>\n",
       "    </tr>\n",
       "    <tr>\n",
       "      <th>13</th>\n",
       "      <td>AOL</td>\n",
       "      <td>Verizon_Communications</td>\n",
       "      <td>False</td>\n",
       "      <td>\\nRead More: Will Verizon_Communications's Big...</td>\n",
       "    </tr>\n",
       "    <tr>\n",
       "      <th>14</th>\n",
       "      <td>AOL</td>\n",
       "      <td>Verizon_Communications</td>\n",
       "      <td>False</td>\n",
       "      <td>\"\\nThe company said AOL delivered \"strong reve...</td>\n",
       "    </tr>\n",
       "    <tr>\n",
       "      <th>15</th>\n",
       "      <td>PrimeSense</td>\n",
       "      <td>Apple_Inc.</td>\n",
       "      <td>False</td>\n",
       "      <td>Apple_Inc. made few acquisitions related to A...</td>\n",
       "    </tr>\n",
       "    <tr>\n",
       "      <th>16</th>\n",
       "      <td>PrimeSense</td>\n",
       "      <td>Apple_Inc.</td>\n",
       "      <td>False</td>\n",
       "      <td>Apple_Inc. made few acquisitions related to A...</td>\n",
       "    </tr>\n",
       "    <tr>\n",
       "      <th>17</th>\n",
       "      <td>Sprint_Corporation</td>\n",
       "      <td>T-Mobile_US</td>\n",
       "      <td>False</td>\n",
       "      <td>carriers lift fees to Belgium NEW YORK—AT&amp;T, ...</td>\n",
       "    </tr>\n",
       "    <tr>\n",
       "      <th>18</th>\n",
       "      <td>Google</td>\n",
       "      <td>YouTube</td>\n",
       "      <td>True</td>\n",
       "      <td>\\nGeofeedia also drew on information from Goog...</td>\n",
       "    </tr>\n",
       "    <tr>\n",
       "      <th>19</th>\n",
       "      <td>Google</td>\n",
       "      <td>YouTube</td>\n",
       "      <td>True</td>\n",
       "      <td>\\nGeofeedia also drew on information from Goog...</td>\n",
       "    </tr>\n",
       "  </tbody>\n",
       "</table>\n",
       "</div>"
      ],
      "text/plain": [
       "                   company1                company2  is_parent  \\\n",
       "0        Sprint_Corporation  Verizon_Communications      False   \n",
       "1        Sprint_Corporation  Verizon_Communications      False   \n",
       "2        Sprint_Corporation  Verizon_Communications      False   \n",
       "3            Alexa_Internet              Amazon.com      False   \n",
       "4            Alexa_Internet              Amazon.com      False   \n",
       "5            Alexa_Internet              Amazon.com      False   \n",
       "6                 Lufthansa         British_Airways      False   \n",
       "7                      Asda                 Walmart      False   \n",
       "8   The_Walt_Disney_Company           Marvel_Comics       True   \n",
       "9                   Comcast  Verizon_Communications      False   \n",
       "10                  Comcast  Verizon_Communications      False   \n",
       "11                  Comcast  Verizon_Communications      False   \n",
       "12                      AOL  Verizon_Communications      False   \n",
       "13                      AOL  Verizon_Communications      False   \n",
       "14                      AOL  Verizon_Communications      False   \n",
       "15               PrimeSense              Apple_Inc.      False   \n",
       "16               PrimeSense              Apple_Inc.      False   \n",
       "17       Sprint_Corporation             T-Mobile_US      False   \n",
       "18                   Google                 YouTube       True   \n",
       "19                   Google                 YouTube       True   \n",
       "\n",
       "                                              snippet  \n",
       "0    1 wireless carrier Verizon_Communications (NY...  \n",
       "1    While AT&T, Sprint_Corporation, and T-Mobile ...  \n",
       "2   \\nAT&T, Sprint_Corporation, and Verizon_Commun...  \n",
       "3   Logitech addsAmazon.comn'sAlexa_Interneta skil...  \n",
       "4   \\nLogitech has announced a new version of the ...  \n",
       "5    Say \"Alexa_Internet,\" and you can access any ...  \n",
       "6   ''\\nGary Leff, author of the blog, View From T...  \n",
       "7    It is understood that B&M has no knowledge of...  \n",
       "8   \"\\nSony spent a hefty $175 million to make the...  \n",
       "9    wireless industry to ease pricing pressure in...  \n",
       "10  O ) are also entering the market with wireless...  \n",
       "11  \\n\"With no merger of Sprint and T-Mobile, as w...  \n",
       "12   The closure follows an acquisition of the par...  \n",
       "13  \\nRead More: Will Verizon_Communications's Big...  \n",
       "14  \"\\nThe company said AOL delivered \"strong reve...  \n",
       "15   Apple_Inc. made few acquisitions related to A...  \n",
       "16   Apple_Inc. made few acquisitions related to A...  \n",
       "17   carriers lift fees to Belgium NEW YORK—AT&T, ...  \n",
       "18  \\nGeofeedia also drew on information from Goog...  \n",
       "19  \\nGeofeedia also drew on information from Goog...  "
      ]
     },
     "execution_count": 9,
     "metadata": {},
     "output_type": "execute_result"
    }
   ],
   "source": [
    "dataset[:20]"
   ]
  },
  {
   "cell_type": "code",
   "execution_count": 7,
   "metadata": {},
   "outputs": [
    {
     "data": {
      "text/plain": [
       "False    62881\n",
       "True     26571\n",
       "Name: is_parent, dtype: int64"
      ]
     },
     "execution_count": 7,
     "metadata": {},
     "output_type": "execute_result"
    }
   ],
   "source": [
    "dataset[\"is_parent\"].value_counts()"
   ]
  },
  {
   "cell_type": "code",
   "execution_count": 8,
   "metadata": {},
   "outputs": [
    {
     "data": {
      "text/html": [
       "<div>\n",
       "<style scoped>\n",
       "    .dataframe tbody tr th:only-of-type {\n",
       "        vertical-align: middle;\n",
       "    }\n",
       "\n",
       "    .dataframe tbody tr th {\n",
       "        vertical-align: top;\n",
       "    }\n",
       "\n",
       "    .dataframe thead th {\n",
       "        text-align: right;\n",
       "    }\n",
       "</style>\n",
       "<table border=\"1\" class=\"dataframe\">\n",
       "  <thead>\n",
       "    <tr style=\"text-align: right;\">\n",
       "      <th></th>\n",
       "      <th>company1</th>\n",
       "      <th>company2</th>\n",
       "      <th>is_parent</th>\n",
       "      <th>snippet</th>\n",
       "    </tr>\n",
       "  </thead>\n",
       "  <tbody>\n",
       "    <tr>\n",
       "      <th>count</th>\n",
       "      <td>89452</td>\n",
       "      <td>89452</td>\n",
       "      <td>89452</td>\n",
       "      <td>89452</td>\n",
       "    </tr>\n",
       "    <tr>\n",
       "      <th>unique</th>\n",
       "      <td>440</td>\n",
       "      <td>447</td>\n",
       "      <td>2</td>\n",
       "      <td>52175</td>\n",
       "    </tr>\n",
       "    <tr>\n",
       "      <th>top</th>\n",
       "      <td>Google</td>\n",
       "      <td>YouTube</td>\n",
       "      <td>False</td>\n",
       "      <td>\\nFollow Business Insider Australia on Faceboo...</td>\n",
       "    </tr>\n",
       "    <tr>\n",
       "      <th>freq</th>\n",
       "      <td>7348</td>\n",
       "      <td>13001</td>\n",
       "      <td>62881</td>\n",
       "      <td>271</td>\n",
       "    </tr>\n",
       "  </tbody>\n",
       "</table>\n",
       "</div>"
      ],
      "text/plain": [
       "       company1 company2 is_parent  \\\n",
       "count     89452    89452     89452   \n",
       "unique      440      447         2   \n",
       "top      Google  YouTube     False   \n",
       "freq       7348    13001     62881   \n",
       "\n",
       "                                                  snippet  \n",
       "count                                               89452  \n",
       "unique                                              52175  \n",
       "top     \\nFollow Business Insider Australia on Faceboo...  \n",
       "freq                                                  271  "
      ]
     },
     "execution_count": 8,
     "metadata": {},
     "output_type": "execute_result"
    }
   ],
   "source": [
    "dataset.describe()"
   ]
  },
  {
   "cell_type": "code",
   "execution_count": 42,
   "metadata": {},
   "outputs": [
    {
     "data": {
      "text/plain": [
       "Google        7348\n",
       "YouTube       5347\n",
       "Twitter       4836\n",
       "Amazon.com    4596\n",
       "Facebook      3604\n",
       "Name: company1, dtype: int64"
      ]
     },
     "execution_count": 42,
     "metadata": {},
     "output_type": "execute_result"
    }
   ],
   "source": [
    "dataset[\"company1\"].value_counts()[:5]"
   ]
  },
  {
   "cell_type": "code",
   "execution_count": 41,
   "metadata": {},
   "outputs": [
    {
     "data": {
      "text/plain": [
       "YouTube                   13001\n",
       "Google                     6079\n",
       "AT&T                       5074\n",
       "General_Motors             4655\n",
       "Verizon_Communications     4306\n",
       "Name: company2, dtype: int64"
      ]
     },
     "execution_count": 41,
     "metadata": {},
     "output_type": "execute_result"
    }
   ],
   "source": [
    "dataset[\"company2\"].value_counts()[:5]"
   ]
  },
  {
   "cell_type": "code",
   "execution_count": 13,
   "metadata": {},
   "outputs": [
    {
     "data": {
      "text/plain": [
       "'\\nGeofeedia also drew on information from Google-owned YouTube, as well as Picasa, which Google acquired in 2004 before discontinuing support this year. ###END###'"
      ]
     },
     "execution_count": 13,
     "metadata": {},
     "output_type": "execute_result"
    }
   ],
   "source": [
    "dataset.iloc[18].snippet"
   ]
  },
  {
   "cell_type": "code",
   "execution_count": 16,
   "metadata": {},
   "outputs": [
    {
     "data": {
      "text/plain": [
       "'\\nGeofeedia also drew on information from Google-owned YouTube, as well as Picasa, which Google acquired in 2004 before discontinuing support this year. ###END###'"
      ]
     },
     "execution_count": 16,
     "metadata": {},
     "output_type": "execute_result"
    }
   ],
   "source": [
    "dataset.iloc[19].snippet"
   ]
  },
  {
   "cell_type": "code",
   "execution_count": 15,
   "metadata": {},
   "outputs": [
    {
     "data": {
      "text/plain": [
       "True"
      ]
     },
     "execution_count": 15,
     "metadata": {},
     "output_type": "execute_result"
    }
   ],
   "source": [
    "dataset.iloc[18].snippet == dataset.iloc[19].snippet"
   ]
  },
  {
   "cell_type": "code",
   "execution_count": 20,
   "metadata": {},
   "outputs": [
    {
     "data": {
      "text/plain": [
       "(213.43939766578723, 103.86130501661721, 3146)"
      ]
     },
     "execution_count": 20,
     "metadata": {},
     "output_type": "execute_result"
    }
   ],
   "source": [
    "# its nice to see what is the len distribution of each snippet by chars\n",
    "\n",
    "lens = dataset[\"snippet\"].str.len()\n",
    "lens.mean(), lens.std(), lens.max()"
   ]
  },
  {
   "cell_type": "code",
   "execution_count": 21,
   "metadata": {},
   "outputs": [
    {
     "data": {
      "text/plain": [
       "<matplotlib.axes._subplots.AxesSubplot at 0x7fd3bab38128>"
      ]
     },
     "execution_count": 21,
     "metadata": {},
     "output_type": "execute_result"
    },
    {
     "data": {
      "image/png": "[encoded data removed]",
      "text/plain": [
       "<matplotlib.figure.Figure at 0x7fd3bab3dbe0>"
      ]
     },
     "metadata": {},
     "output_type": "display_data"
    }
   ],
   "source": [
    "%matplotlib inline\n",
    "lens.hist()"
   ]
  },
  {
   "cell_type": "code",
   "execution_count": 30,
   "metadata": {},
   "outputs": [
    {
     "data": {
      "text/plain": [
       "(32.42654160890757, 16.07548914992284, 452)"
      ]
     },
     "execution_count": 30,
     "metadata": {},
     "output_type": "execute_result"
    }
   ],
   "source": [
    "# and now by words\n",
    "lens = dataset[\"snippet\"].str.split(\" \").str.len()\n",
    "lens.mean(), lens.std(), lens.max()"
   ]
  },
  {
   "cell_type": "code",
   "execution_count": 32,
   "metadata": {},
   "outputs": [
    {
     "data": {
      "text/plain": [
       "' 1 wireless carrier Verizon_Communications (NYSE: VZ). While AT&T, Sprint_Corporation, and T-Mobile were trotting out impressive statistics, Verizon_Communications stated a few days after preorders began that the iPhone 7 launch was in line with typical numbers for a new iPhone model. ###END###'"
      ]
     },
     "execution_count": 32,
     "metadata": {},
     "output_type": "execute_result"
    }
   ],
   "source": [
    "dataset[\"snippet\"][0]"
   ]
  },
  {
   "cell_type": "code",
   "execution_count": 31,
   "metadata": {},
   "outputs": [
    {
     "data": {
      "text/plain": [
       "<matplotlib.axes._subplots.AxesSubplot at 0x7fd3a6931978>"
      ]
     },
     "execution_count": 31,
     "metadata": {},
     "output_type": "execute_result"
    },
    {
     "data": {
      "image/png": "[encoded data removed]",
      "text/plain": [
       "<matplotlib.figure.Figure at 0x7fd3bab438d0>"
      ]
     },
     "metadata": {},
     "output_type": "display_data"
    }
   ],
   "source": [
    "%matplotlib inline\n",
    "lens.hist()"
   ]
  },
  {
   "cell_type": "code",
   "execution_count": 40,
   "metadata": {},
   "outputs": [
    {
     "data": {
      "text/plain": [
       "35216"
      ]
     },
     "execution_count": 40,
     "metadata": {},
     "output_type": "execute_result"
    }
   ],
   "source": [
    "# now lets check how many words do we have\n",
    "from sklearn.feature_extraction.text import CountVectorizer\n",
    "\n",
    "count_vect = CountVectorizer().fit(dataset[\"snippet\"])\n",
    "len(count_vect.vocabulary_)"
   ]
  },
  {
   "cell_type": "code",
   "execution_count": null,
   "metadata": {},
   "outputs": [],
   "source": []
  }
 ],
 "metadata": {
  "kernelspec": {
   "display_name": "Python 3",
   "language": "python",
   "name": "python3"
  },
  "language_info": {
   "codemirror_mode": {
    "name": "ipython",
    "version": 3
   },
   "file_extension": ".py",
   "mimetype": "text/x-python",
   "name": "python",
   "nbconvert_exporter": "python",
   "pygments_lexer": "ipython3",
   "version": "3.5.2"
  }
 },
 "nbformat": 4,
 "nbformat_minor": 2
}
