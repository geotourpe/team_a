{
 "cells": [
  {
   "cell_type": "code",
   "execution_count": null,
   "metadata": {
    "collapsed": true
   },
   "outputs": [],
   "source": [
    "import os\n",
    "import sys\n",
    "import pandas as pd\n",
    "import numpy as np\n",
    "import warnings\n",
    "warnings.filterwarnings('ignore')"
   ]
  },
  {
   "cell_type": "code",
   "execution_count": null,
   "metadata": {
    "collapsed": true
   },
   "outputs": [],
   "source": [
    "text_processing_scripts_path = os.path.abspath('TextProcessingScripts')\n",
    "sys.path.append(text_processing_scripts_path)\n",
    "\n",
    "scripts_path = os.path.abspath('Scripts')\n",
    "sys.path.append(scripts_path)"
   ]
  },
  {
   "cell_type": "code",
   "execution_count": null,
   "metadata": {
    "collapsed": true
   },
   "outputs": [],
   "source": [
    "from FeatureExtraction.VocabDict import create_vocab_dict\n",
    "from FeatureExtraction.UnknownWordsProcessing import UnknownWordsProcessing\n",
    "from FeatureExtraction.Word2VecUtilities import create_word2vector_model, create_embeddings_matrix, save_word2vector_model, load_word2vector_model\n",
    "from TensorflowInputProcessing.SentenceProcessing import SentenceProcessing\n",
    "from TensorflowInputProcessing.DocumentProcessing import DocumentProcessing\n",
    "from TensorflowInputProcessing.MapWordToID  import MapWordToID \n",
    "from CommonUtilities.FileUtilities import return_file_content, save_pickle_file, load_pickle_file\n"
   ]
  },
  {
   "cell_type": "code",
   "execution_count": null,
   "metadata": {
    "collapsed": true
   },
   "outputs": [],
   "source": [
    "data_path = os.path.abspath('data')\n",
    "data = pd.read_csv(os.path.join(data_path, 'train.csv'))"
   ]
  },
  {
   "cell_type": "code",
   "execution_count": null,
   "metadata": {
    "collapsed": true
   },
   "outputs": [],
   "source": [
    "def preprocess_and_group_data(data):\n",
    "    data = data.drop_duplicates()\n",
    "    data.index = range(len(data))\n",
    "    aliased_snippet = []\n",
    "    for i in range(len(data)):\n",
    "        aliased_snippet.append(data['snippet'][i].replace(data['company1'][i],'company1').replace(data['company2'][i],'company2'))\n",
    "    data['snippet'] = aliased_snippet\n",
    "\n",
    "    data['snippet'] = data['snippet'].str.lower()\n",
    "\n",
    "    grouped_data = data.groupby(['company1','company2','is_parent'])['snippet'].apply(list)\n",
    "    grouped_data = grouped_data.to_frame().reset_index()\n",
    "    return data, grouped_data\n",
    "\n",
    "def word_tokenizer(string):\n",
    "    return string.split()"
   ]
  },
  {
   "cell_type": "code",
   "execution_count": null,
   "metadata": {},
   "outputs": [],
   "source": [
    "data, grouped_data = preprocess_and_group_data(data)"
   ]
  },
  {
   "cell_type": "code",
   "execution_count": null,
   "metadata": {
    "collapsed": true,
    "scrolled": true
   },
   "outputs": [],
   "source": [
    "all_documents_tokenized_words = [list(set(word_tokenizer(snippet))) for snippet in data['snippet']]\n",
    "all_documents_tokenized_sentences_tokenized_words = [word_tokenizer(snippet) for snippet in data['snippet']]"
   ]
  },
  {
   "cell_type": "code",
   "execution_count": null,
   "metadata": {},
   "outputs": [],
   "source": [
    "sent_lens = [len(sent) for sent in all_documents_tokenized_sentences_tokenized_words]\n",
    "sent_lens = sorted(sent_lens)\n",
    "estimated_sent_len = sent_lens[int(len(sent_lens)*0.90)]\n",
    "\n",
    "doc_lens = [len(snippet) for snippet in grouped_data['snippet']]\n",
    "doc_lens = sorted(doc_lens)\n",
    "estimated_doc_len = doc_lens[int(len(doc_lens)*0.90)]"
   ]
  },
  {
   "cell_type": "code",
   "execution_count": null,
   "metadata": {
    "collapsed": true
   },
   "outputs": [],
   "source": [
    "vocab_dict, rev_vocab_dict = create_vocab_dict(all_documents_tokenized_words, min_doc_count=50)"
   ]
  },
  {
   "cell_type": "code",
   "execution_count": null,
   "metadata": {
    "collapsed": true
   },
   "outputs": [],
   "source": [
    "# parent_subsidy_df = data[data['is_parent']][['company1','company2']].drop_duplicates()\n",
    "# subsidy_parent = zip(list(parent_subsidy_df['company2']), list(parent_subsidy_df['company1']))\n",
    "# subsidy_parent = [list(l) for l in subsidy_parent]   \n",
    "\n",
    "# all_documents_tokenized_sentences_tokenized_words_2 = [word_tokenizer(snippet) for snippet, company1, company2 in zip(data['snippet'],data['company1'],data['company2']) if [company1, company2] not in subsidy_parent]"
   ]
  },
  {
   "cell_type": "code",
   "execution_count": null,
   "metadata": {},
   "outputs": [],
   "source": [
    "unknown_words_processing = UnknownWordsProcessing(vocab_list=vocab_dict.keys(), replace=False)\n",
    "w2v_training_sentences = unknown_words_processing.remove_or_replace_unkown_word_from_sentences(all_documents_tokenized_sentences_tokenized_words)\n",
    "w2v_model = create_word2vector_model(w2v_training_sentences, wv_size=50)"
   ]
  },
  {
   "cell_type": "code",
   "execution_count": null,
   "metadata": {},
   "outputs": [],
   "source": [
    "embedding_matrix = create_embeddings_matrix(w2v_model, rev_vocab_dict)\n",
    "embedding_matrix = np.vstack((embedding_matrix, np.zeros((1, embedding_matrix.shape[1]))))\n",
    "\n",
    "vocab_dict['my_dummy']=len(vocab_dict)\n",
    "rev_vocab_dict[len(rev_vocab_dict)]='my_dummy'"
   ]
  },
  {
   "cell_type": "code",
   "execution_count": null,
   "metadata": {
    "collapsed": true
   },
   "outputs": [],
   "source": [
    "sentence_processing = SentenceProcessing()\n",
    "document_processing = DocumentProcessing()\n",
    "map_word_to_id = MapWordToID(vocab_dict)"
   ]
  },
  {
   "cell_type": "code",
   "execution_count": null,
   "metadata": {},
   "outputs": [],
   "source": [
    "def return_X(grouped_snippets):\n",
    "    tokenized_sentences_tokenized_words = [word_tokenizer(sent) for sent in grouped_snippets]\n",
    "    tokenized_sentences_tokenized_words = unknown_words_processing.remove_or_replace_unkown_word_from_sentences(tokenized_sentences_tokenized_words)\n",
    "    preprocessed_sentences_of_document = sentence_processing.pad_truncate_sent(tokenized_sentences_tokenized_words, estimated_sent_len,  dummy_token='my_dummy')\n",
    "    preprocessed_document = document_processing.pad_truncate_document(preprocessed_sentences_of_document, estimated_doc_len, estimated_sent_len)\n",
    "    id_array = np.asarray(map_word_to_id.word_lists_to_id_lists(preprocessed_document))\n",
    "    return id_array"
   ]
  },
  {
   "cell_type": "code",
   "execution_count": null,
   "metadata": {},
   "outputs": [],
   "source": [
    "grouped_data = grouped_data.sample(frac=1)\n",
    "grouped_data.index = range(len(grouped_data))"
   ]
  },
  {
   "cell_type": "code",
   "execution_count": null,
   "metadata": {
    "collapsed": true
   },
   "outputs": [],
   "source": [
    "grouped_train_data = grouped_data[:750]\n",
    "grouped_train_data.index = range(len(grouped_train_data))\n",
    "grouped_validation_data = grouped_data[750:]\n",
    "grouped_validation_data.index = range(len(grouped_validation_data))"
   ]
  },
  {
   "cell_type": "code",
   "execution_count": null,
   "metadata": {},
   "outputs": [],
   "source": [
    "# grouped_train_data['is_parent'].value_counts(), grouped_validation_data['is_parent'].value_counts()"
   ]
  },
  {
   "cell_type": "code",
   "execution_count": null,
   "metadata": {
    "scrolled": true
   },
   "outputs": [],
   "source": [
    "X_train = []\n",
    "y_train = []\n",
    "for index , row in grouped_train_data.iterrows():\n",
    "    grouped_snippets = row['snippet']\n",
    "    id_array = return_X(grouped_snippets)\n",
    "    X_train.append(id_array)\n",
    "    y_train.append(row['is_parent'])"
   ]
  },
  {
   "cell_type": "code",
   "execution_count": null,
   "metadata": {},
   "outputs": [],
   "source": [
    "X_valid = []\n",
    "y_valid = []\n",
    "for index , row in grouped_validation_data.iterrows():\n",
    "    grouped_snippets = row['snippet']\n",
    "    id_array = return_X(grouped_snippets)\n",
    "    X_valid.append(id_array)\n",
    "    y_valid.append(row['is_parent'])"
   ]
  },
  {
   "cell_type": "code",
   "execution_count": null,
   "metadata": {
    "collapsed": true
   },
   "outputs": [],
   "source": [
    "training_data = {}\n",
    "training_params = {}\n",
    "\n",
    "training_data['X_train'] = X_train\n",
    "training_data['y_train'] = y_train\n",
    "\n",
    "training_params['vocab_dict'] = vocab_dict\n",
    "training_params['rev_vocab_dict'] = rev_vocab_dict\n",
    "training_params['estimated_sent_len'] = estimated_sent_len\n",
    "training_params['estimated_doc_len'] = estimated_doc_len\n",
    "training_params['embedding_matrix'] = embedding_matrix"
   ]
  },
  {
   "cell_type": "code",
   "execution_count": null,
   "metadata": {
    "collapsed": true
   },
   "outputs": [],
   "source": [
    "validation_data = {}\n",
    "\n",
    "validation_data['X_valid'] = X_valid\n",
    "validation_data['y_valid'] = y_valid"
   ]
  },
  {
   "cell_type": "code",
   "execution_count": null,
   "metadata": {
    "collapsed": true
   },
   "outputs": [],
   "source": []
  },
  {
   "cell_type": "code",
   "execution_count": null,
   "metadata": {},
   "outputs": [],
   "source": [
    "save_pickle_file(training_data, os.path.join(data_path, 'training_data.p'))\n",
    "save_pickle_file(training_params, os.path.join(data_path, 'training_params.p'))\n",
    "save_pickle_file(validation_data, os.path.join(data_path, 'validation_data.p'))\n"
   ]
  },
  {
   "cell_type": "code",
   "execution_count": null,
   "metadata": {
    "collapsed": true
   },
   "outputs": [],
   "source": []
  }
 ],
 "metadata": {
  "kernelspec": {
   "display_name": "hackathon",
   "language": "python",
   "name": "hackathon"
  },
  "language_info": {
   "codemirror_mode": {
    "name": "ipython",
    "version": 3
   },
   "file_extension": ".py",
   "mimetype": "text/x-python",
   "name": "python",
   "nbconvert_exporter": "python",
   "pygments_lexer": "ipython3",
   "version": "3.5.2"
  }
 },
 "nbformat": 4,
 "nbformat_minor": 2
}
