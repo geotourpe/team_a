{
 "cells": [
  {
   "cell_type": "code",
   "execution_count": null,
   "metadata": {
    "collapsed": true
   },
   "outputs": [],
   "source": [
    "import tensorflow as tf"
   ]
  },
  {
   "cell_type": "code",
   "execution_count": null,
   "metadata": {
    "collapsed": true
   },
   "outputs": [],
   "source": [
    "class CustomRNN(tf.contrib.rnn.GRUCell):\n",
    "    def __init__(self, *args, **kwargs):\n",
    "        returns = super(CustomRNN, self).__init__(*args, **kwargs) # create an lstm cell\n",
    "        return returns\n",
    "    def __call__(self, inputs, state):\n",
    "        output, next_state = super(CustomRNN, self).__call__(inputs, state)\n",
    "        return next_state, next_state # return two copies of the state, instead of the output and the state"
   ]
  }
 ],
 "metadata": {
  "kernelspec": {
   "display_name": "multicourt_pol",
   "language": "python",
   "name": "multicourt_pol"
  },
  "language_info": {
   "codemirror_mode": {
    "name": "ipython",
    "version": 3
   },
   "file_extension": ".py",
   "mimetype": "text/x-python",
   "name": "python",
   "nbconvert_exporter": "python",
   "pygments_lexer": "ipython3",
   "version": "3.5.2"
  }
 },
 "nbformat": 4,
 "nbformat_minor": 2
}
