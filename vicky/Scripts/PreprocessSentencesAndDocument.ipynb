{
 "cells": [
  {
   "cell_type": "code",
   "execution_count": null,
   "metadata": {
    "collapsed": true
   },
   "outputs": [],
   "source": [
    "from Tokenizer import Tokenizer\n",
    "from TensorflowInputProcessing.SentenceProcessing import SentenceProcessing\n",
    "from TensorflowInputProcessing.DocumentProcessing import DocumentProcessing\n",
    "from FeatureExtraction.UnknownWordsProcessing import UnknownWordsProcessing\n"
   ]
  },
  {
   "cell_type": "code",
   "execution_count": null,
   "metadata": {
    "collapsed": true
   },
   "outputs": [],
   "source": [
    "class PreprocessSentencesAndDocument(object):\n",
    "    def __init__(self, vocab_dict, estimated_sent_len, estimated_doc_len):\n",
    "        self.vocab_dict = vocab_dict\n",
    "        self.estimated_sent_len = estimated_sent_len\n",
    "        self.estimated_doc_len = estimated_doc_len\n",
    "        self.tokenizer = Tokenizer()\n",
    "\n",
    "        self.sentence_processing = SentenceProcessing()\n",
    "        self.document_processing = DocumentProcessing()\n",
    "        self.unknown_words_processing = UnknownWordsProcessing(vocab_list=vocab_dict.keys(), replace=False)\n",
    "\n",
    "    def preprocess_sentences_and_document(self, textdata):\n",
    "        tokenized_sentences = self.tokenizer.sentence_tokenizer(textdata)\n",
    "        tokenized_sentences_tokenized_words = [self.tokenizer.word_tokenizer(sent) for sent in tokenized_sentences]\n",
    "        tokenized_sentences_tokenized_words = self.unknown_words_processing.remove_or_replace_unkown_word_from_sentences(tokenized_sentences_tokenized_words)\n",
    "        small_sentences_merged_tokenized_sentences_tokenized_words = self.sentence_processing.merge_small_sentences(tokenized_sentences_tokenized_words, min_len=4)\n",
    "        preprocessed_sentences_of_document = self.sentence_processing.pad_truncate_sent(small_sentences_merged_tokenized_sentences_tokenized_words, self.estimated_sent_len,  dummy_token='my_dummy')\n",
    "        preprocessed_document = self.document_processing.pad_truncate_document(preprocessed_sentences_of_document, self.estimated_doc_len, self.estimated_sent_len)\n",
    "        return preprocessed_document\n"
   ]
  }
 ],
 "metadata": {
  "kernelspec": {
   "display_name": "multicourt_pol",
   "language": "python",
   "name": "multicourt_pol"
  },
  "language_info": {
   "codemirror_mode": {
    "name": "ipython",
    "version": 3
   },
   "file_extension": ".py",
   "mimetype": "text/x-python",
   "name": "python",
   "nbconvert_exporter": "python",
   "pygments_lexer": "ipython3",
   "version": "3.5.2"
  }
 },
 "nbformat": 4,
 "nbformat_minor": 2
}
