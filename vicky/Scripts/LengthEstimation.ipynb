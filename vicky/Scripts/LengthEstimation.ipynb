{
 "cells": [
  {
   "cell_type": "code",
   "execution_count": null,
   "metadata": {
    "collapsed": true
   },
   "outputs": [],
   "source": [
    "from TensorflowInputProcessing.SequenceProcessing import SequenceProcessing\n",
    "import numpy as np"
   ]
  },
  {
   "cell_type": "code",
   "execution_count": null,
   "metadata": {
    "collapsed": true
   },
   "outputs": [],
   "source": [
    "def estimate_sentences_and_document_lengths(X_samples, dummy_word_id):\n",
    "    sequence_processing = SequenceProcessing()\n",
    "\n",
    "    sentences_length = []\n",
    "    for X_sample in X_samples:\n",
    "        sentences_length += sequence_processing.estimate_actual_sequences_length(X_sample, dummy_word_id)\n",
    "\n",
    "    documents_length = np.asarray([np.sum(np.asarray([len(set(sent)) for sent in X_sample])>1) for X_sample in X_samples])\n",
    "    return sentences_length, documents_length"
   ]
  }
 ],
 "metadata": {
  "kernelspec": {
   "display_name": "multicourt_pol",
   "language": "python",
   "name": "multicourt_pol"
  },
  "language_info": {
   "codemirror_mode": {
    "name": "ipython",
    "version": 3
   },
   "file_extension": ".py",
   "mimetype": "text/x-python",
   "name": "python",
   "nbconvert_exporter": "python",
   "pygments_lexer": "ipython3",
   "version": "3.5.2"
  }
 },
 "nbformat": 4,
 "nbformat_minor": 2
}
