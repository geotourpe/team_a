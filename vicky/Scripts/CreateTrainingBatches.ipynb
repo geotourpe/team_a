{
 "cells": [
  {
   "cell_type": "code",
   "execution_count": null,
   "metadata": {
    "collapsed": true
   },
   "outputs": [],
   "source": [
    "import numpy as np"
   ]
  },
  {
   "cell_type": "code",
   "execution_count": null,
   "metadata": {
    "collapsed": true
   },
   "outputs": [],
   "source": [
    "from CommonUtilities.NumpyArrayUtilities import sample_from_array"
   ]
  },
  {
   "cell_type": "code",
   "execution_count": null,
   "metadata": {
    "collapsed": true
   },
   "outputs": [],
   "source": [
    "class CreateTrainingBatches(object):\n",
    "    def __init__(self, X_train, y_train, X_valid, y_valid):\n",
    "        self.X_train = X_train\n",
    "        self.y_train = y_train\n",
    "        self.X_valid = X_valid\n",
    "        self.y_valid = y_valid\n",
    "        \n",
    "    def create_data(self, X, y, num_pos, num_neg):\n",
    "        X = np.asarray(X)\n",
    "        y = np.asarray(y)\n",
    "        pos_X = X[y==1]\n",
    "        neg_X = X[y==0]\n",
    "\n",
    "        pos_X_samples = sample_from_array(pos_X, num_pos, num_rows=True)\n",
    "        pos_y_samples = np.asarray([1]*num_pos)\n",
    "\n",
    "        neg_X_samples = sample_from_array(neg_X, num_neg, num_rows=True)\n",
    "        neg_y_samples = np.asarray([0]*num_neg)\n",
    "\n",
    "        X_samples = np.vstack((pos_X_samples, neg_X_samples))\n",
    "        y_samples = np.hstack((pos_y_samples, neg_y_samples)).T.reshape(-1,1)\n",
    "        return X_samples, y_samples\n",
    "\n",
    "    def create_training_data(self, num_pos, num_neg):\n",
    "        X_train_samples, y_train_samples = self.create_data(self.X_train, self.y_train, num_pos, num_neg)\n",
    "        return X_train_samples, y_train_samples\n",
    "\n",
    "    def create_validation_data(self, num_pos, num_neg):\n",
    "        X_valid_samples, y_valid_samples = self.create_data(self.X_valid, self.y_valid, num_pos, num_neg)\n",
    "        return X_valid_samples, y_valid_samples"
   ]
  }
 ],
 "metadata": {
  "kernelspec": {
   "display_name": "multicourt_pol",
   "language": "python",
   "name": "multicourt_pol"
  },
  "language_info": {
   "codemirror_mode": {
    "name": "ipython",
    "version": 3
   },
   "file_extension": ".py",
   "mimetype": "text/x-python",
   "name": "python",
   "nbconvert_exporter": "python",
   "pygments_lexer": "ipython3",
   "version": "3.5.2"
  }
 },
 "nbformat": 4,
 "nbformat_minor": 2
}
