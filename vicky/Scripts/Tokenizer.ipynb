{
 "cells": [
  {
   "cell_type": "code",
   "execution_count": null,
   "metadata": {
    "collapsed": true
   },
   "outputs": [],
   "source": [
    "from segtok.segmenter import split_single, split_multi"
   ]
  },
  {
   "cell_type": "code",
   "execution_count": null,
   "metadata": {
    "collapsed": true
   },
   "outputs": [],
   "source": [
    "class Tokenizer(object):\n",
    "    \n",
    "    def sentence_tokenizer(self, string):\n",
    "        tokenized_sentences = list(split_multi(string))\n",
    "        return tokenized_sentences\n",
    "\n",
    "    def word_tokenizer(self, string):\n",
    "        tokenized_words = string.split()\n",
    "        return tokenized_words\n",
    "\n",
    "    def tokenize_sentences_and_words(textdata):\n",
    "        tokenized_sentences = self.sentence_tokenizer(textdata)\n",
    "        tokenized_sentences_tokenized_words = [self.word_tokenizer(sentence) for sentence in tokenized_sentences]\n",
    "        return tokenized_sentences_tokenized_words"
   ]
  }
 ],
 "metadata": {
  "kernelspec": {
   "display_name": "multicourt_pol",
   "language": "python",
   "name": "multicourt_pol"
  },
  "language_info": {
   "codemirror_mode": {
    "name": "ipython",
    "version": 3
   },
   "file_extension": ".py",
   "mimetype": "text/x-python",
   "name": "python",
   "nbconvert_exporter": "python",
   "pygments_lexer": "ipython3",
   "version": "3.5.2"
  }
 },
 "nbformat": 4,
 "nbformat_minor": 2
}
