{
 "cells": [
  {
   "cell_type": "code",
   "execution_count": null,
   "metadata": {
    "collapsed": true
   },
   "outputs": [],
   "source": [
    "import os\n",
    "import sys\n",
    "import pandas as pd\n",
    "import numpy as np\n",
    "import warnings\n",
    "warnings.filterwarnings('ignore')"
   ]
  },
  {
   "cell_type": "code",
   "execution_count": null,
   "metadata": {
    "collapsed": true
   },
   "outputs": [],
   "source": [
    "text_processing_scripts_path = os.path.abspath('TextProcessingScripts')\n",
    "sys.path.append(text_processing_scripts_path)\n",
    "\n",
    "scripts_path = os.path.abspath('Scripts')\n",
    "sys.path.append(scripts_path)"
   ]
  },
  {
   "cell_type": "code",
   "execution_count": null,
   "metadata": {
    "collapsed": true
   },
   "outputs": [],
   "source": [
    "from FeatureExtraction.VocabDict import create_vocab_dict\n",
    "from FeatureExtraction.UnknownWordsProcessing import UnknownWordsProcessing\n",
    "from FeatureExtraction.Word2VecUtilities import create_word2vector_model, create_embeddings_matrix, save_word2vector_model, load_word2vector_model\n",
    "from TensorflowInputProcessing.SentenceProcessing import SentenceProcessing\n",
    "from TensorflowInputProcessing.DocumentProcessing import DocumentProcessing\n",
    "from TensorflowInputProcessing.MapWordToID  import MapWordToID "
   ]
  },
  {
   "cell_type": "code",
   "execution_count": null,
   "metadata": {
    "collapsed": true
   },
   "outputs": [],
   "source": [
    "data_path = os.path.abspath('data')\n",
    "test_data = pd.read_csv(os.path.join(data_path, 'test.csv'))"
   ]
  },
  {
   "cell_type": "code",
   "execution_count": null,
   "metadata": {
    "collapsed": true
   },
   "outputs": [],
   "source": [
    "def preprocess_and_group_data(data):\n",
    "    data = data.drop_duplicates()\n",
    "    data.index = range(len(data))\n",
    "    aliased_snippet = []\n",
    "    for i in range(len(data)):\n",
    "        aliased_snippet.append(data['snippet'][i].replace(data['company1'][i],'company1').replace(data['company2'][i],'company2'))\n",
    "    data['snippet'] = aliased_snippet\n",
    "\n",
    "    data['snippet'] = data['snippet'].str.lower()\n",
    "\n",
    "    grouped_data = data.groupby(['company1','company2'])['snippet'].apply(list)\n",
    "    grouped_data = grouped_data.to_frame().reset_index()\n",
    "    return data, grouped_data\n",
    "\n",
    "def word_tokenizer(string):\n",
    "    return string.split()"
   ]
  },
  {
   "cell_type": "code",
   "execution_count": null,
   "metadata": {
    "collapsed": true
   },
   "outputs": [],
   "source": [
    "test_data, grouped_test_data = preprocess_and_group_data(test_data)"
   ]
  },
  {
   "cell_type": "code",
   "execution_count": null,
   "metadata": {
    "collapsed": true
   },
   "outputs": [],
   "source": [
    "from CommonUtilities.FileUtilities import return_file_content, save_pickle_file, load_pickle_file"
   ]
  },
  {
   "cell_type": "code",
   "execution_count": null,
   "metadata": {},
   "outputs": [],
   "source": [
    "training_params = load_pickle_file(os.path.join(data_path, 'training_params.p'))"
   ]
  },
  {
   "cell_type": "code",
   "execution_count": null,
   "metadata": {
    "collapsed": true
   },
   "outputs": [],
   "source": [
    "vocab_dict = training_params['vocab_dict'] \n",
    "rev_vocab_dict = training_params['rev_vocab_dict']\n",
    "estimated_sent_len = training_params['estimated_sent_len']\n",
    "estimated_doc_len = training_params['estimated_doc_len']\n",
    "embedding_matrix = training_params['embedding_matrix']"
   ]
  },
  {
   "cell_type": "code",
   "execution_count": null,
   "metadata": {
    "collapsed": true
   },
   "outputs": [],
   "source": [
    "sentence_processing = SentenceProcessing()\n",
    "document_processing = DocumentProcessing()\n",
    "map_word_to_id = MapWordToID(vocab_dict)\n",
    "unknown_words_processing = UnknownWordsProcessing(vocab_list=vocab_dict.keys(), replace=False)\n"
   ]
  },
  {
   "cell_type": "code",
   "execution_count": null,
   "metadata": {
    "collapsed": true
   },
   "outputs": [],
   "source": [
    "def return_X(grouped_snippets):\n",
    "    tokenized_sentences_tokenized_words = [word_tokenizer(sent) for sent in grouped_snippets]\n",
    "    tokenized_sentences_tokenized_words = unknown_words_processing.remove_or_replace_unkown_word_from_sentences(tokenized_sentences_tokenized_words)\n",
    "    preprocessed_sentences_of_document = sentence_processing.pad_truncate_sent(tokenized_sentences_tokenized_words, estimated_sent_len,  dummy_token='my_dummy')\n",
    "    preprocessed_document = document_processing.pad_truncate_document(preprocessed_sentences_of_document, estimated_doc_len, estimated_sent_len)\n",
    "    id_array = np.asarray(map_word_to_id.word_lists_to_id_lists(preprocessed_document))\n",
    "    return id_array"
   ]
  },
  {
   "cell_type": "code",
   "execution_count": null,
   "metadata": {},
   "outputs": [],
   "source": [
    "X_test = []\n",
    "y_test = []\n",
    "for index , row in grouped_test_data.iterrows():\n",
    "    grouped_snippets = row['snippet']\n",
    "    id_array = return_X(grouped_snippets)\n",
    "    X_test.append(id_array)\n",
    "    y_test.append(0)"
   ]
  },
  {
   "cell_type": "code",
   "execution_count": null,
   "metadata": {},
   "outputs": [],
   "source": [
    "import tensorflow as tf\n",
    "from tensorflow.contrib.layers import fully_connected"
   ]
  },
  {
   "cell_type": "code",
   "execution_count": null,
   "metadata": {
    "collapsed": true
   },
   "outputs": [],
   "source": [
    "tf.reset_default_graph()"
   ]
  },
  {
   "cell_type": "code",
   "execution_count": null,
   "metadata": {},
   "outputs": [],
   "source": [
    "sess = tf.Session()\n",
    "saver = tf.train.import_meta_graph(os.path.join(data_path,\"consent.ckpt.meta\"))\n",
    "saver.restore(sess, os.path.join(data_path,\"consent.ckpt\"))\n",
    "graph = tf.get_default_graph()\n",
    "\n",
    "X = graph.get_operation_by_name('Inputs/X').outputs[0]\n",
    "y = graph.get_operation_by_name('Inputs/y').outputs[0]\n",
    "tf_sentences_length = graph.get_operation_by_name('Inputs/sentences_length').outputs[0]\n",
    "tf_documents_length = graph.get_operation_by_name('Inputs/documents_length').outputs[0]\n",
    "normalized_sentence_attentions = graph.get_operation_by_name('Attention-2/ExpandDims').outputs[0]\n",
    "prob = graph.get_operation_by_name('Prediction/prob').outputs[0]\n"
   ]
  },
  {
   "cell_type": "code",
   "execution_count": null,
   "metadata": {},
   "outputs": [],
   "source": [
    "from CustomNN import create_RNN, create_attention\n",
    "from CustomRNN import CustomRNN\n",
    "from LengthEstimation import estimate_sentences_and_document_lengths"
   ]
  },
  {
   "cell_type": "code",
   "execution_count": null,
   "metadata": {},
   "outputs": [],
   "source": [
    "X_valid_samples, y_valid_samples = np.asarray(X_test), np.asarray(y_test).reshape(len(y_test),1)\n",
    "valid_sentences_length, valid_documents_length = estimate_sentences_and_document_lengths(X_valid_samples, vocab_dict['my_dummy'])"
   ]
  },
  {
   "cell_type": "code",
   "execution_count": null,
   "metadata": {},
   "outputs": [],
   "source": [
    "np_normalized_sentence_attentions, np_prob = sess.run([normalized_sentence_attentions, prob],\n",
    "                                                            feed_dict={X:X_valid_samples, y:y_valid_samples,\n",
    "                                                                       tf_sentences_length:valid_sentences_length,\n",
    "                                                                       tf_documents_length:valid_documents_length})\n",
    "attention_scores = np.squeeze(np_normalized_sentence_attentions)\n",
    "#np_y = y_valid_samples\n",
    "#accuracy = sum((np_prob>0.5)==(np_y>0.5))/len(np_y)"
   ]
  },
  {
   "cell_type": "code",
   "execution_count": null,
   "metadata": {},
   "outputs": [],
   "source": [
    "grouped_test_data['prob'] = np_prob\n",
    "grouped_test_data = grouped_test_data[np_prob>0.5]"
   ]
  },
  {
   "cell_type": "code",
   "execution_count": null,
   "metadata": {
    "collapsed": true
   },
   "outputs": [],
   "source": [
    "grouped_test_data.index= range(len(grouped_test_data))"
   ]
  },
  {
   "cell_type": "code",
   "execution_count": null,
   "metadata": {},
   "outputs": [],
   "source": [
    "grouped_test_data"
   ]
  }
 ],
 "metadata": {
  "kernelspec": {
   "display_name": "hackathon",
   "language": "python",
   "name": "hackathon"
  },
  "language_info": {
   "codemirror_mode": {
    "name": "ipython",
    "version": 3
   },
   "file_extension": ".py",
   "mimetype": "text/x-python",
   "name": "python",
   "nbconvert_exporter": "python",
   "pygments_lexer": "ipython3",
   "version": "3.5.2"
  }
 },
 "nbformat": 4,
 "nbformat_minor": 2
}
