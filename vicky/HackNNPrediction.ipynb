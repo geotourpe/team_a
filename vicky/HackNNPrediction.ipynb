{
 "cells": [
  {
   "cell_type": "code",
   "execution_count": null,
   "metadata": {
    "collapsed": true
   },
   "outputs": [],
   "source": [
    "import os\n",
    "import sys\n",
    "import pandas as pd\n",
    "import numpy as np\n",
    "import warnings\n",
    "warnings.filterwarnings('ignore')"
   ]
  },
  {
   "cell_type": "code",
   "execution_count": null,
   "metadata": {
    "collapsed": true
   },
   "outputs": [],
   "source": [
    "text_processing_scripts_path = os.path.abspath('TextProcessingScripts')\n",
    "sys.path.append(text_processing_scripts_path)\n",
    "\n",
    "scripts_path = os.path.abspath('Scripts')\n",
    "sys.path.append(scripts_path)"
   ]
  },
  {
   "cell_type": "code",
   "execution_count": null,
   "metadata": {
    "collapsed": true
   },
   "outputs": [],
   "source": [
    "from FeatureExtraction.VocabDict import create_vocab_dict\n",
    "from FeatureExtraction.UnknownWordsProcessing import UnknownWordsProcessing\n",
    "from FeatureExtraction.Word2VecUtilities import create_word2vector_model, create_embeddings_matrix, save_word2vector_model, load_word2vector_model\n",
    "from TensorflowInputProcessing.SentenceProcessing import SentenceProcessing\n",
    "from TensorflowInputProcessing.DocumentProcessing import DocumentProcessing\n",
    "from TensorflowInputProcessing.MapWordToID  import MapWordToID "
   ]
  },
  {
   "cell_type": "code",
   "execution_count": null,
   "metadata": {
    "collapsed": true
   },
   "outputs": [],
   "source": [
    "data_path = os.path.abspath('data')\n",
    "train_data = pd.read_csv(os.path.join(data_path, 'train.csv'))"
   ]
  },
  {
   "cell_type": "code",
   "execution_count": null,
   "metadata": {
    "collapsed": true
   },
   "outputs": [],
   "source": [
    "def preprocess_and_group_data(data):\n",
    "    data = data.drop_duplicates()\n",
    "    data.index = range(len(data))\n",
    "    aliased_snippet = []\n",
    "    for i in range(len(data)):\n",
    "        aliased_snippet.append(data['snippet'][i].replace(data['company1'][i],'company1').replace(data['company2'][i],'company2'))\n",
    "    data['snippet'] = aliased_snippet\n",
    "\n",
    "    data['snippet'] = data['snippet'].str.lower()\n",
    "\n",
    "    grouped_data = data.groupby(['company1','company2','is_parent'])['snippet'].apply(list)\n",
    "    grouped_data = grouped_data.to_frame().reset_index()\n",
    "    return data, grouped_data\n",
    "\n",
    "def word_tokenizer(string):\n",
    "    return string.split()"
   ]
  },
  {
   "cell_type": "code",
   "execution_count": null,
   "metadata": {
    "collapsed": true
   },
   "outputs": [],
   "source": [
    "train_data, grouped_train_data = preprocess_and_group_data(train_data)"
   ]
  },
  {
   "cell_type": "code",
   "execution_count": null,
   "metadata": {
    "collapsed": true
   },
   "outputs": [],
   "source": [
    "sentence_processing = SentenceProcessing()\n",
    "document_processing = DocumentProcessing()\n",
    "map_word_to_id = MapWordToID(vocab_dict)"
   ]
  },
  {
   "cell_type": "code",
   "execution_count": null,
   "metadata": {
    "collapsed": true
   },
   "outputs": [],
   "source": [
    "i = 30\n",
    "tokenized_sentences_tokenized_words = [word_tokenizer(sent) for sent in grouped_train_data['snippet'][i]]\n",
    "tokenized_sentences_tokenized_words = unknown_words_processing.remove_or_replace_unkown_word_from_sentences(tokenized_sentences_tokenized_words)\n",
    "preprocessed_sentences_of_document = sentence_processing.pad_truncate_sent(tokenized_sentences_tokenized_words, estimated_sent_len,  dummy_token='my_dummy')\n",
    "preprocessed_document = document_processing.pad_truncate_document(preprocessed_sentences_of_document, estimated_doc_len, estimated_sent_len)\n",
    "id_array = np.asarray(map_word_to_id.word_lists_to_id_lists(preprocessed_document))\n"
   ]
  }
 ],
 "metadata": {
  "kernelspec": {
   "display_name": "hackathon",
   "language": "python",
   "name": "hackathon"
  },
  "language_info": {
   "codemirror_mode": {
    "name": "ipython",
    "version": 3
   },
   "file_extension": ".py",
   "mimetype": "text/x-python",
   "name": "python",
   "nbconvert_exporter": "python",
   "pygments_lexer": "ipython3",
   "version": "3.5.2"
  }
 },
 "nbformat": 4,
 "nbformat_minor": 2
}
