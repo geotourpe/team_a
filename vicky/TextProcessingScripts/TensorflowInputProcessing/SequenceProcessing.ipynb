{
  "nbformat": 4, 
  "nbformat_minor": 0, 
  "cells": [
    {
      "execution_count": 1, 
      "cell_type": "code", 
      "source": [
        "class SequenceProcessing(object):\n", 
        "    def remove_item_from_list(self, the_list, item_to_remove):\n", 
        "        return [item for item in the_list if item != item_to_remove]\n", 
        "\n", 
        "    def estimate_actual_sequence_length(self, the_list, dummy_word):\n", 
        "        # Estimate actual length of a sequence padded with dummy word at the end\n", 
        "        return len(self.remove_item_from_list(the_list, dummy_word))\n", 
        "\n", 
        "    def estimate_actual_sequences_length(self, the_lists, dummy_word):\n", 
        "        sequence_lengths=[]\n", 
        "        for the_list in the_lists:\n", 
        "            sequence_lengths.append(self.estimate_actual_sequence_length(the_list, dummy_word))\n", 
        "        return sequence_lengths"
      ], 
      "outputs": [], 
      "metadata": {
        "collapsed": false
      }
    }
  ], 
  "metadata": {
    "kernelspec": {
      "display_name": "Python 2", 
      "name": "python2", 
      "language": "python"
    }, 
    "language_info": {
      "mimetype": "text/x-python", 
      "nbconvert_exporter": "python", 
      "name": "python", 
      "file_extension": ".py", 
      "version": "2.7.10", 
      "pygments_lexer": "ipython2", 
      "codemirror_mode": {
        "version": 2, 
        "name": "ipython"
      }
    }
  }
}