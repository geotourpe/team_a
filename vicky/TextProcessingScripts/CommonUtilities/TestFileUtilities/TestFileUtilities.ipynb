{
 "cells": [
  {
   "cell_type": "code",
   "execution_count": null,
   "metadata": {
    "collapsed": true
   },
   "outputs": [],
   "source": [
    "import os\n",
    "import sys\n",
    "import unittest"
   ]
  },
  {
   "cell_type": "code",
   "execution_count": null,
   "metadata": {},
   "outputs": [],
   "source": [
    "scripts_path = os.path.abspath('..')\n",
    "sys.path.append(scripts_path)"
   ]
  },
  {
   "cell_type": "code",
   "execution_count": null,
   "metadata": {},
   "outputs": [],
   "source": [
    "from FileUtilities import *"
   ]
  },
  {
   "cell_type": "code",
   "execution_count": null,
   "metadata": {
    "collapsed": true
   },
   "outputs": [],
   "source": [
    "class TestFileUtilities(unittest.TestCase):\n",
    "    \n",
    "    def test_return_file_content(self):\n",
    "        test_file_content = return_file_content('test_text_file.txt')\n",
    "        self.assertEqual(test_file_content, 'This is a textfile used to test the Darts Processing modules.')\n",
    "        \n",
    "    def test_save_and_load_pickle_file(self):\n",
    "        test_var = 'This is a test string'\n",
    "        save_pickle_file(test_var, \"test_variable.p\")\n",
    "        check_test_var = load_pickle_file(\"test_variable.p\")\n",
    "        self.assertEqual(test_var, check_test_var)\n"
   ]
  },
  {
   "cell_type": "code",
   "execution_count": null,
   "metadata": {
    "collapsed": true
   },
   "outputs": [],
   "source": [
    "if __name__ == '__main__':\n",
    "    unittest.main()"
   ]
  }
 ],
 "metadata": {
  "kernelspec": {
   "display_name": "DartsProcessing",
   "language": "python",
   "name": "dartsprocessing"
  },
  "language_info": {
   "codemirror_mode": {
    "name": "ipython",
    "version": 3
   },
   "file_extension": ".py",
   "mimetype": "text/x-python",
   "name": "python",
   "nbconvert_exporter": "python",
   "pygments_lexer": "ipython3",
   "version": "3.5.2"
  }
 },
 "nbformat": 4,
 "nbformat_minor": 2
}
