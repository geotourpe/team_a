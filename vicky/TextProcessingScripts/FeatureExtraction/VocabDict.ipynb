{
 "cells": [
  {
   "cell_type": "code",
   "execution_count": null,
   "metadata": {
    "collapsed": true
   },
   "outputs": [],
   "source": [
    "def create_vocab_dict(all_documents_tokenized_words, min_doc_count=30):\n",
    "    # all_documents_tokenized_words is a list of list of strings. Each document is word tokenized resulting in a list of strings.\n",
    "    # All these list of strings is concatentated into one single list\n",
    "    vocab_dict = {}\n",
    "    for one_document_tokenized_words in all_documents_tokenized_words:\n",
    "        for word in one_document_tokenized_words:\n",
    "            if word not in vocab_dict.keys():\n",
    "                vocab_dict[word] = 1\n",
    "            else:\n",
    "                vocab_dict[word] += 1\n",
    "\n",
    "    vocab_dict = dict((k, v) for k, v in vocab_dict.items() if v >= min_doc_count)\n",
    "    vocab_dict = dict((k, i) for k, i in zip(vocab_dict.keys(), range(len(vocab_dict))))\n",
    "    rev_vocab_dict = dict(zip(vocab_dict.values(), vocab_dict.keys()))\n",
    "    return vocab_dict, rev_vocab_dict"
   ]
  }
 ],
 "metadata": {
  "kernelspec": {
   "display_name": "multicourt_pol",
   "language": "python",
   "name": "multicourt_pol"
  },
  "language_info": {
   "codemirror_mode": {
    "name": "ipython",
    "version": 3
   },
   "file_extension": ".py",
   "mimetype": "text/x-python",
   "name": "python",
   "nbconvert_exporter": "python",
   "pygments_lexer": "ipython3",
   "version": "3.5.2"
  }
 },
 "nbformat": 4,
 "nbformat_minor": 2
}
