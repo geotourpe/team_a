{
 "cells": [
  {
   "cell_type": "code",
   "execution_count": 1,
   "metadata": {
    "collapsed": true
   },
   "outputs": [],
   "source": [
    "import pandas as pd\n",
    "import numpy as np\n",
    "import matplotlib.pyplot as plt\n",
    "%matplotlib inline"
   ]
  },
  {
   "cell_type": "code",
   "execution_count": 2,
   "metadata": {
    "collapsed": true
   },
   "outputs": [],
   "source": [
    "pathSplit = \"C:\\\\Users\\\\Rent91\\\\Documents\\\\GitHub\\\\team_a\\\\Radi\\\\split\\\\\""
   ]
  },
  {
   "cell_type": "code",
   "execution_count": 3,
   "metadata": {
    "collapsed": true
   },
   "outputs": [],
   "source": [
    "pathData = \"C:\\\\Users\\\\Rent91\\\\Documents\\\\GitHub\\\\team_a\\\\data\\\\\""
   ]
  },
  {
   "cell_type": "code",
   "execution_count": 4,
   "metadata": {},
   "outputs": [],
   "source": [
    "train = pd.read_csv(pathSplit + \"train.csv\")"
   ]
  },
  {
   "cell_type": "code",
   "execution_count": 5,
   "metadata": {},
   "outputs": [],
   "source": [
    "dev = pd.read_csv(pathSplit + \"dev.csv\")"
   ]
  },
  {
   "cell_type": "code",
   "execution_count": 6,
   "metadata": {
    "collapsed": true
   },
   "outputs": [],
   "source": [
    "test = pd.read_csv(pathSplit + \"test.csv\")"
   ]
  },
  {
   "cell_type": "code",
   "execution_count": 7,
   "metadata": {
    "collapsed": true
   },
   "outputs": [],
   "source": [
    "dataset = pd.read_csv(pathData + \"train.csv\")"
   ]
  },
  {
   "cell_type": "code",
   "execution_count": 8,
   "metadata": {},
   "outputs": [
    {
     "data": {
      "text/plain": [
       "0                   YouTube\n",
       "1                    Google\n",
       "2                Amazon.com\n",
       "3    Verizon_Communications\n",
       "4            Alexa_Internet\n",
       "dtype: object"
      ]
     },
     "execution_count": 8,
     "metadata": {},
     "output_type": "execute_result"
    }
   ],
   "source": [
    "companies = pd.Series(dataset[\"company1\"].append(dataset[\"company2\"]).value_counts().keys().values)\n",
    "companies[:5]"
   ]
  },
  {
   "cell_type": "code",
   "execution_count": 9,
   "metadata": {
    "collapsed": true
   },
   "outputs": [],
   "source": [
    "TEXT = \"aliased_snippet\"\n",
    "RESULT = \"is_parent\"\n",
    "COMPANY1= \"company1\"\n",
    "COMPANY2 = \"company2\""
   ]
  },
  {
   "cell_type": "code",
   "execution_count": 10,
   "metadata": {},
   "outputs": [
    {
     "data": {
      "text/plain": [
       "(79834,)"
      ]
     },
     "execution_count": 10,
     "metadata": {},
     "output_type": "execute_result"
    }
   ],
   "source": [
    "corpus = train[TEXT].append(dev[TEXT]).append(test[TEXT]).append(companies)\n",
    "corpus.shape"
   ]
  },
  {
   "cell_type": "code",
   "execution_count": 11,
   "metadata": {},
   "outputs": [
    {
     "data": {
      "text/html": [
       "<div>\n",
       "<style>\n",
       "    .dataframe thead tr:only-child th {\n",
       "        text-align: right;\n",
       "    }\n",
       "\n",
       "    .dataframe thead th {\n",
       "        text-align: left;\n",
       "    }\n",
       "\n",
       "    .dataframe tbody tr th {\n",
       "        vertical-align: top;\n",
       "    }\n",
       "</style>\n",
       "<table border=\"1\" class=\"dataframe\">\n",
       "  <thead>\n",
       "    <tr style=\"text-align: right;\">\n",
       "      <th></th>\n",
       "      <th>Unnamed: 0</th>\n",
       "      <th>company1</th>\n",
       "      <th>company2</th>\n",
       "      <th>is_parent</th>\n",
       "      <th>snippet</th>\n",
       "      <th>aliased_snippet</th>\n",
       "    </tr>\n",
       "  </thead>\n",
       "  <tbody>\n",
       "    <tr>\n",
       "      <th>0</th>\n",
       "      <td>51579</td>\n",
       "      <td>Pfizer</td>\n",
       "      <td>Medivation</td>\n",
       "      <td>True</td>\n",
       "      <td>What Will Pfizer Gain FromMedivationn Inc  Win...</td>\n",
       "      <td>what will  company1  gain from company2 n inc ...</td>\n",
       "    </tr>\n",
       "    <tr>\n",
       "      <th>1</th>\n",
       "      <td>40891</td>\n",
       "      <td>The_Walt_Disney_Company</td>\n",
       "      <td>NBCUniversal</td>\n",
       "      <td>False</td>\n",
       "      <td>One media executive said it may be difficult ...</td>\n",
       "      <td>one media executive said it may be difficult ...</td>\n",
       "    </tr>\n",
       "    <tr>\n",
       "      <th>2</th>\n",
       "      <td>30797</td>\n",
       "      <td>AT&amp;T</td>\n",
       "      <td>DirecTV</td>\n",
       "      <td>True</td>\n",
       "      <td>\\r\\nFailure of Comcast?s merger could also pre...</td>\n",
       "      <td>\\r\\nfailure of comcast?s merger could also pre...</td>\n",
       "    </tr>\n",
       "    <tr>\n",
       "      <th>3</th>\n",
       "      <td>70215</td>\n",
       "      <td>DStv</td>\n",
       "      <td>MultiChoice</td>\n",
       "      <td>False</td>\n",
       "      <td>MultiChoicee Ghana adds more local channels on...</td>\n",
       "      <td>company2 e ghana adds more local channels on ...</td>\n",
       "    </tr>\n",
       "    <tr>\n",
       "      <th>4</th>\n",
       "      <td>39242</td>\n",
       "      <td>Google</td>\n",
       "      <td>AT&amp;T</td>\n",
       "      <td>False</td>\n",
       "      <td>While Google won that battle, AT&amp;T filed a la...</td>\n",
       "      <td>while  company1  won that battle,  company2  ...</td>\n",
       "    </tr>\n",
       "  </tbody>\n",
       "</table>\n",
       "</div>"
      ],
      "text/plain": [
       "   Unnamed: 0                 company1      company2  is_parent  \\\n",
       "0       51579                   Pfizer    Medivation       True   \n",
       "1       40891  The_Walt_Disney_Company  NBCUniversal      False   \n",
       "2       30797                     AT&T       DirecTV       True   \n",
       "3       70215                     DStv   MultiChoice      False   \n",
       "4       39242                   Google          AT&T      False   \n",
       "\n",
       "                                             snippet  \\\n",
       "0  What Will Pfizer Gain FromMedivationn Inc  Win...   \n",
       "1   One media executive said it may be difficult ...   \n",
       "2  \\r\\nFailure of Comcast?s merger could also pre...   \n",
       "3  MultiChoicee Ghana adds more local channels on...   \n",
       "4   While Google won that battle, AT&T filed a la...   \n",
       "\n",
       "                                     aliased_snippet  \n",
       "0  what will  company1  gain from company2 n inc ...  \n",
       "1   one media executive said it may be difficult ...  \n",
       "2  \\r\\nfailure of comcast?s merger could also pre...  \n",
       "3   company2 e ghana adds more local channels on ...  \n",
       "4   while  company1  won that battle,  company2  ...  "
      ]
     },
     "execution_count": 11,
     "metadata": {},
     "output_type": "execute_result"
    }
   ],
   "source": [
    "train[:5]"
   ]
  },
  {
   "cell_type": "code",
   "execution_count": 12,
   "metadata": {
    "collapsed": true
   },
   "outputs": [],
   "source": [
    "# the idea here is to add whether company1 is before company2\n",
    "def add_company_pos_ratio(company, row): \n",
    "    index= row[TEXT].find(company)\n",
    "    if index < 0:\n",
    "        return 1\n",
    "    return index / len(row[TEXT])"
   ]
  },
  {
   "cell_type": "code",
   "execution_count": 13,
   "metadata": {
    "collapsed": true
   },
   "outputs": [],
   "source": [
    "from sklearn.base import TransformerMixin,  BaseEstimator"
   ]
  },
  {
   "cell_type": "code",
   "execution_count": 14,
   "metadata": {
    "collapsed": true
   },
   "outputs": [],
   "source": [
    "class RatioPos(TransformerMixin,BaseEstimator):\n",
    "    def __init__(self, company):\n",
    "        self.company = company\n",
    "    def transform(self, X, **kwargs):\n",
    "        return X.apply((lambda x: add_company_pos_ratio(self.company, x)), axis=1)\n",
    "    def fit(self, X, y=None, **kwargs):\n",
    "        return self"
   ]
  },
  {
   "cell_type": "code",
   "execution_count": 15,
   "metadata": {
    "collapsed": true
   },
   "outputs": [],
   "source": [
    "train[\"company1_pos\"] = RatioPos(COMPANY1).fit_transform(train)\n",
    "train[\"company2_pos\"] = RatioPos(COMPANY2).fit_transform(train)"
   ]
  },
  {
   "cell_type": "code",
   "execution_count": 16,
   "metadata": {},
   "outputs": [
    {
     "data": {
      "text/plain": [
       "(0, 8)"
      ]
     },
     "execution_count": 16,
     "metadata": {},
     "output_type": "execute_result"
    }
   ],
   "source": [
    "train[train[\"company1_pos\"] < 0].shape"
   ]
  },
  {
   "cell_type": "code",
   "execution_count": 28,
   "metadata": {},
   "outputs": [
    {
     "data": {
      "text/plain": [
       "(0, 8)"
      ]
     },
     "execution_count": 28,
     "metadata": {},
     "output_type": "execute_result"
    }
   ],
   "source": [
    "train[train[\"company2_pos\"] < 0].shape"
   ]
  },
  {
   "cell_type": "code",
   "execution_count": 18,
   "metadata": {},
   "outputs": [
    {
     "data": {
      "text/html": [
       "<div>\n",
       "<style>\n",
       "    .dataframe thead tr:only-child th {\n",
       "        text-align: right;\n",
       "    }\n",
       "\n",
       "    .dataframe thead th {\n",
       "        text-align: left;\n",
       "    }\n",
       "\n",
       "    .dataframe tbody tr th {\n",
       "        vertical-align: top;\n",
       "    }\n",
       "</style>\n",
       "<table border=\"1\" class=\"dataframe\">\n",
       "  <thead>\n",
       "    <tr style=\"text-align: right;\">\n",
       "      <th></th>\n",
       "      <th>Unnamed: 0</th>\n",
       "      <th>company1</th>\n",
       "      <th>company2</th>\n",
       "      <th>is_parent</th>\n",
       "      <th>snippet</th>\n",
       "      <th>aliased_snippet</th>\n",
       "      <th>company1_pos</th>\n",
       "      <th>company2_pos</th>\n",
       "    </tr>\n",
       "  </thead>\n",
       "  <tbody>\n",
       "    <tr>\n",
       "      <th>0</th>\n",
       "      <td>51579</td>\n",
       "      <td>Pfizer</td>\n",
       "      <td>Medivation</td>\n",
       "      <td>True</td>\n",
       "      <td>What Will Pfizer Gain FromMedivationn Inc  Win...</td>\n",
       "      <td>what will  company1  gain from company2 n inc ...</td>\n",
       "      <td>0.087302</td>\n",
       "      <td>0.246032</td>\n",
       "    </tr>\n",
       "    <tr>\n",
       "      <th>1</th>\n",
       "      <td>40891</td>\n",
       "      <td>The_Walt_Disney_Company</td>\n",
       "      <td>NBCUniversal</td>\n",
       "      <td>False</td>\n",
       "      <td>One media executive said it may be difficult ...</td>\n",
       "      <td>one media executive said it may be difficult ...</td>\n",
       "      <td>0.654545</td>\n",
       "      <td>0.386364</td>\n",
       "    </tr>\n",
       "    <tr>\n",
       "      <th>2</th>\n",
       "      <td>30797</td>\n",
       "      <td>AT&amp;T</td>\n",
       "      <td>DirecTV</td>\n",
       "      <td>True</td>\n",
       "      <td>\\r\\nFailure of Comcast?s merger could also pre...</td>\n",
       "      <td>\\r\\nfailure of comcast?s merger could also pre...</td>\n",
       "      <td>0.294798</td>\n",
       "      <td>0.838150</td>\n",
       "    </tr>\n",
       "    <tr>\n",
       "      <th>3</th>\n",
       "      <td>70215</td>\n",
       "      <td>DStv</td>\n",
       "      <td>MultiChoice</td>\n",
       "      <td>False</td>\n",
       "      <td>MultiChoicee Ghana adds more local channels on...</td>\n",
       "      <td>company2 e ghana adds more local channels on ...</td>\n",
       "      <td>0.259887</td>\n",
       "      <td>0.005650</td>\n",
       "    </tr>\n",
       "    <tr>\n",
       "      <th>4</th>\n",
       "      <td>39242</td>\n",
       "      <td>Google</td>\n",
       "      <td>AT&amp;T</td>\n",
       "      <td>False</td>\n",
       "      <td>While Google won that battle, AT&amp;T filed a la...</td>\n",
       "      <td>while  company1  won that battle,  company2  ...</td>\n",
       "      <td>0.071429</td>\n",
       "      <td>0.321429</td>\n",
       "    </tr>\n",
       "  </tbody>\n",
       "</table>\n",
       "</div>"
      ],
      "text/plain": [
       "   Unnamed: 0                 company1      company2  is_parent  \\\n",
       "0       51579                   Pfizer    Medivation       True   \n",
       "1       40891  The_Walt_Disney_Company  NBCUniversal      False   \n",
       "2       30797                     AT&T       DirecTV       True   \n",
       "3       70215                     DStv   MultiChoice      False   \n",
       "4       39242                   Google          AT&T      False   \n",
       "\n",
       "                                             snippet  \\\n",
       "0  What Will Pfizer Gain FromMedivationn Inc  Win...   \n",
       "1   One media executive said it may be difficult ...   \n",
       "2  \\r\\nFailure of Comcast?s merger could also pre...   \n",
       "3  MultiChoicee Ghana adds more local channels on...   \n",
       "4   While Google won that battle, AT&T filed a la...   \n",
       "\n",
       "                                     aliased_snippet  company1_pos  \\\n",
       "0  what will  company1  gain from company2 n inc ...      0.087302   \n",
       "1   one media executive said it may be difficult ...      0.654545   \n",
       "2  \\r\\nfailure of comcast?s merger could also pre...      0.294798   \n",
       "3   company2 e ghana adds more local channels on ...      0.259887   \n",
       "4   while  company1  won that battle,  company2  ...      0.071429   \n",
       "\n",
       "   company2_pos  \n",
       "0      0.246032  \n",
       "1      0.386364  \n",
       "2      0.838150  \n",
       "3      0.005650  \n",
       "4      0.321429  "
      ]
     },
     "execution_count": 18,
     "metadata": {},
     "output_type": "execute_result"
    }
   ],
   "source": [
    "train[:5]"
   ]
  },
  {
   "cell_type": "code",
   "execution_count": 19,
   "metadata": {},
   "outputs": [
    {
     "data": {
      "text/html": [
       "<div>\n",
       "<style>\n",
       "    .dataframe thead tr:only-child th {\n",
       "        text-align: right;\n",
       "    }\n",
       "\n",
       "    .dataframe thead th {\n",
       "        text-align: left;\n",
       "    }\n",
       "\n",
       "    .dataframe tbody tr th {\n",
       "        vertical-align: top;\n",
       "    }\n",
       "</style>\n",
       "<table border=\"1\" class=\"dataframe\">\n",
       "  <thead>\n",
       "    <tr style=\"text-align: right;\">\n",
       "      <th></th>\n",
       "      <th>Unnamed: 0</th>\n",
       "      <th>company1</th>\n",
       "      <th>company2</th>\n",
       "      <th>is_parent</th>\n",
       "      <th>snippet</th>\n",
       "      <th>aliased_snippet</th>\n",
       "      <th>company1_pos</th>\n",
       "      <th>company2_pos</th>\n",
       "    </tr>\n",
       "  </thead>\n",
       "  <tbody>\n",
       "  </tbody>\n",
       "</table>\n",
       "</div>"
      ],
      "text/plain": [
       "Empty DataFrame\n",
       "Columns: [Unnamed: 0, company1, company2, is_parent, snippet, aliased_snippet, company1_pos, company2_pos]\n",
       "Index: []"
      ]
     },
     "execution_count": 19,
     "metadata": {},
     "output_type": "execute_result"
    }
   ],
   "source": [
    "train[train[\"company1_pos\"] < 0][:5]"
   ]
  },
  {
   "cell_type": "code",
   "execution_count": 20,
   "metadata": {},
   "outputs": [
    {
     "data": {
      "text/plain": [
       "\"\\r\\njob security arose as an issue earlier this year when  company2  said it would shift production of the equinox's  company2 c twin, the terrain, to mexico, leading to the elimination of 600 jobs. ###end###\""
      ]
     },
     "execution_count": 20,
     "metadata": {},
     "output_type": "execute_result"
    }
   ],
   "source": [
    "train.iloc[1696][TEXT]"
   ]
  },
  {
   "cell_type": "code",
   "execution_count": 21,
   "metadata": {},
   "outputs": [
    {
     "data": {
      "text/plain": [
       "\"\\r\\nJob security arose as an issue earlier this year when General_Motors said it would shift production of the Equinox's General_MotorsC twin, the Terrain, to Mexico, leading to the elimination of 600 jobs. ###END###\""
      ]
     },
     "execution_count": 21,
     "metadata": {},
     "output_type": "execute_result"
    }
   ],
   "source": [
    "train.iloc[1696][\"snippet\"]"
   ]
  },
  {
   "cell_type": "code",
   "execution_count": 22,
   "metadata": {},
   "outputs": [
    {
     "data": {
      "text/html": [
       "<div>\n",
       "<style>\n",
       "    .dataframe thead tr:only-child th {\n",
       "        text-align: right;\n",
       "    }\n",
       "\n",
       "    .dataframe thead th {\n",
       "        text-align: left;\n",
       "    }\n",
       "\n",
       "    .dataframe tbody tr th {\n",
       "        vertical-align: top;\n",
       "    }\n",
       "</style>\n",
       "<table border=\"1\" class=\"dataframe\">\n",
       "  <thead>\n",
       "    <tr style=\"text-align: right;\">\n",
       "      <th></th>\n",
       "      <th>Unnamed: 0</th>\n",
       "      <th>company1</th>\n",
       "      <th>company2</th>\n",
       "      <th>is_parent</th>\n",
       "      <th>snippet</th>\n",
       "      <th>aliased_snippet</th>\n",
       "      <th>company1_pos</th>\n",
       "      <th>company2_pos</th>\n",
       "    </tr>\n",
       "  </thead>\n",
       "  <tbody>\n",
       "  </tbody>\n",
       "</table>\n",
       "</div>"
      ],
      "text/plain": [
       "Empty DataFrame\n",
       "Columns: [Unnamed: 0, company1, company2, is_parent, snippet, aliased_snippet, company1_pos, company2_pos]\n",
       "Index: []"
      ]
     },
     "execution_count": 22,
     "metadata": {},
     "output_type": "execute_result"
    }
   ],
   "source": [
    "filtered = train[train[\"company1_pos\"] < 0]\n",
    "filtered[filtered[RESULT] == True]"
   ]
  },
  {
   "cell_type": "code",
   "execution_count": 23,
   "metadata": {},
   "outputs": [
    {
     "data": {
      "text/plain": [
       "' company2 y revenue gets lift from theme parks, tv networks the main gate of entertainment giant walt  company2 y co. is pictured in burbank, california may 5, 2009. ###end###'"
      ]
     },
     "execution_count": 23,
     "metadata": {},
     "output_type": "execute_result"
    }
   ],
   "source": [
    "train.iloc[49656][TEXT]"
   ]
  },
  {
   "cell_type": "code",
   "execution_count": 24,
   "metadata": {},
   "outputs": [
    {
     "data": {
      "text/plain": [
       "'Disney_Channely revenue gets lift from theme parks, TV networks The main gate of entertainment giant Walt Disney_Channely Co. is pictured in Burbank, California May 5, 2009. ###END###'"
      ]
     },
     "execution_count": 24,
     "metadata": {},
     "output_type": "execute_result"
    }
   ],
   "source": [
    "train.iloc[49656][\"snippet\"]"
   ]
  },
  {
   "cell_type": "code",
   "execution_count": 25,
   "metadata": {},
   "outputs": [
    {
     "data": {
      "text/plain": [
       "(0, 8)"
      ]
     },
     "execution_count": 25,
     "metadata": {},
     "output_type": "execute_result"
    }
   ],
   "source": [
    "filtered[filtered[RESULT] == True].shape"
   ]
  },
  {
   "cell_type": "code",
   "execution_count": 26,
   "metadata": {},
   "outputs": [
    {
     "data": {
      "text/plain": [
       "(0, 8)"
      ]
     },
     "execution_count": 26,
     "metadata": {},
     "output_type": "execute_result"
    }
   ],
   "source": [
    "filtered = train[train[\"company1_pos\"] < 0]\n",
    "filtered[filtered[RESULT] == False].shape"
   ]
  },
  {
   "cell_type": "code",
   "execution_count": 27,
   "metadata": {},
   "outputs": [
    {
     "data": {
      "text/html": [
       "<div>\n",
       "<style>\n",
       "    .dataframe thead tr:only-child th {\n",
       "        text-align: right;\n",
       "    }\n",
       "\n",
       "    .dataframe thead th {\n",
       "        text-align: left;\n",
       "    }\n",
       "\n",
       "    .dataframe tbody tr th {\n",
       "        vertical-align: top;\n",
       "    }\n",
       "</style>\n",
       "<table border=\"1\" class=\"dataframe\">\n",
       "  <thead>\n",
       "    <tr style=\"text-align: right;\">\n",
       "      <th></th>\n",
       "      <th>Unnamed: 0</th>\n",
       "      <th>company1</th>\n",
       "      <th>company2</th>\n",
       "      <th>is_parent</th>\n",
       "      <th>snippet</th>\n",
       "      <th>aliased_snippet</th>\n",
       "      <th>company1_pos</th>\n",
       "      <th>company2_pos</th>\n",
       "    </tr>\n",
       "  </thead>\n",
       "  <tbody>\n",
       "    <tr>\n",
       "      <th>0</th>\n",
       "      <td>51579</td>\n",
       "      <td>Pfizer</td>\n",
       "      <td>Medivation</td>\n",
       "      <td>True</td>\n",
       "      <td>What Will Pfizer Gain FromMedivationn Inc  Win...</td>\n",
       "      <td>what will  company1  gain from company2 n inc ...</td>\n",
       "      <td>0.087302</td>\n",
       "      <td>0.246032</td>\n",
       "    </tr>\n",
       "    <tr>\n",
       "      <th>2</th>\n",
       "      <td>30797</td>\n",
       "      <td>AT&amp;T</td>\n",
       "      <td>DirecTV</td>\n",
       "      <td>True</td>\n",
       "      <td>\\r\\nFailure of Comcast?s merger could also pre...</td>\n",
       "      <td>\\r\\nfailure of comcast?s merger could also pre...</td>\n",
       "      <td>0.294798</td>\n",
       "      <td>0.838150</td>\n",
       "    </tr>\n",
       "    <tr>\n",
       "      <th>13</th>\n",
       "      <td>46975</td>\n",
       "      <td>Khazanah_Nasional</td>\n",
       "      <td>Malaysia_Airlines</td>\n",
       "      <td>True</td>\n",
       "      <td>\\r\\nSUBANG JAYA: The National Union of Flight ...</td>\n",
       "      <td>\\r\\nsubang jaya: the national union of flight ...</td>\n",
       "      <td>0.421053</td>\n",
       "      <td>0.612440</td>\n",
       "    </tr>\n",
       "    <tr>\n",
       "      <th>16</th>\n",
       "      <td>9438</td>\n",
       "      <td>Google</td>\n",
       "      <td>YouTube</td>\n",
       "      <td>True</td>\n",
       "      <td>Since late 2016, viewers of Google's YouTube ...</td>\n",
       "      <td>since late 2016, viewers of  company1 's  com...</td>\n",
       "      <td>0.241935</td>\n",
       "      <td>0.346774</td>\n",
       "    </tr>\n",
       "    <tr>\n",
       "      <th>17</th>\n",
       "      <td>5185</td>\n",
       "      <td>Amazon.com</td>\n",
       "      <td>Alexa_Internet</td>\n",
       "      <td>True</td>\n",
       "      <td>First Alexa_Internet-enabled nonAmazon.comn de...</td>\n",
       "      <td>first  company2 -enabled non company1 n device...</td>\n",
       "      <td>0.290000</td>\n",
       "      <td>0.070000</td>\n",
       "    </tr>\n",
       "  </tbody>\n",
       "</table>\n",
       "</div>"
      ],
      "text/plain": [
       "    Unnamed: 0           company1           company2  is_parent  \\\n",
       "0        51579             Pfizer         Medivation       True   \n",
       "2        30797               AT&T            DirecTV       True   \n",
       "13       46975  Khazanah_Nasional  Malaysia_Airlines       True   \n",
       "16        9438             Google            YouTube       True   \n",
       "17        5185         Amazon.com     Alexa_Internet       True   \n",
       "\n",
       "                                              snippet  \\\n",
       "0   What Will Pfizer Gain FromMedivationn Inc  Win...   \n",
       "2   \\r\\nFailure of Comcast?s merger could also pre...   \n",
       "13  \\r\\nSUBANG JAYA: The National Union of Flight ...   \n",
       "16   Since late 2016, viewers of Google's YouTube ...   \n",
       "17  First Alexa_Internet-enabled nonAmazon.comn de...   \n",
       "\n",
       "                                      aliased_snippet  company1_pos  \\\n",
       "0   what will  company1  gain from company2 n inc ...      0.087302   \n",
       "2   \\r\\nfailure of comcast?s merger could also pre...      0.294798   \n",
       "13  \\r\\nsubang jaya: the national union of flight ...      0.421053   \n",
       "16   since late 2016, viewers of  company1 's  com...      0.241935   \n",
       "17  first  company2 -enabled non company1 n device...      0.290000   \n",
       "\n",
       "    company2_pos  \n",
       "0       0.246032  \n",
       "2       0.838150  \n",
       "13      0.612440  \n",
       "16      0.346774  \n",
       "17      0.070000  "
      ]
     },
     "execution_count": 27,
     "metadata": {},
     "output_type": "execute_result"
    }
   ],
   "source": [
    "train[train[RESULT]== True][:5]"
   ]
  },
  {
   "cell_type": "code",
   "execution_count": 29,
   "metadata": {},
   "outputs": [
    {
     "data": {
      "text/html": [
       "<div>\n",
       "<style>\n",
       "    .dataframe thead tr:only-child th {\n",
       "        text-align: right;\n",
       "    }\n",
       "\n",
       "    .dataframe thead th {\n",
       "        text-align: left;\n",
       "    }\n",
       "\n",
       "    .dataframe tbody tr th {\n",
       "        vertical-align: top;\n",
       "    }\n",
       "</style>\n",
       "<table border=\"1\" class=\"dataframe\">\n",
       "  <thead>\n",
       "    <tr style=\"text-align: right;\">\n",
       "      <th></th>\n",
       "      <th>Unnamed: 0</th>\n",
       "      <th>company1</th>\n",
       "      <th>company2</th>\n",
       "      <th>is_parent</th>\n",
       "      <th>snippet</th>\n",
       "      <th>aliased_snippet</th>\n",
       "      <th>company1_pos</th>\n",
       "      <th>company2_pos</th>\n",
       "    </tr>\n",
       "  </thead>\n",
       "  <tbody>\n",
       "    <tr>\n",
       "      <th>1</th>\n",
       "      <td>40891</td>\n",
       "      <td>The_Walt_Disney_Company</td>\n",
       "      <td>NBCUniversal</td>\n",
       "      <td>False</td>\n",
       "      <td>One media executive said it may be difficult ...</td>\n",
       "      <td>one media executive said it may be difficult ...</td>\n",
       "      <td>0.654545</td>\n",
       "      <td>0.386364</td>\n",
       "    </tr>\n",
       "    <tr>\n",
       "      <th>3</th>\n",
       "      <td>70215</td>\n",
       "      <td>DStv</td>\n",
       "      <td>MultiChoice</td>\n",
       "      <td>False</td>\n",
       "      <td>MultiChoicee Ghana adds more local channels on...</td>\n",
       "      <td>company2 e ghana adds more local channels on ...</td>\n",
       "      <td>0.259887</td>\n",
       "      <td>0.005650</td>\n",
       "    </tr>\n",
       "    <tr>\n",
       "      <th>4</th>\n",
       "      <td>39242</td>\n",
       "      <td>Google</td>\n",
       "      <td>AT&amp;T</td>\n",
       "      <td>False</td>\n",
       "      <td>While Google won that battle, AT&amp;T filed a la...</td>\n",
       "      <td>while  company1  won that battle,  company2  ...</td>\n",
       "      <td>0.071429</td>\n",
       "      <td>0.321429</td>\n",
       "    </tr>\n",
       "    <tr>\n",
       "      <th>5</th>\n",
       "      <td>80117</td>\n",
       "      <td>Google</td>\n",
       "      <td>SmartThings</td>\n",
       "      <td>False</td>\n",
       "      <td>When you try to add a new smart home device u...</td>\n",
       "      <td>when you try to add a new smart home device u...</td>\n",
       "      <td>0.878661</td>\n",
       "      <td>0.493724</td>\n",
       "    </tr>\n",
       "    <tr>\n",
       "      <th>6</th>\n",
       "      <td>70336</td>\n",
       "      <td>YouTube</td>\n",
       "      <td>Google</td>\n",
       "      <td>False</td>\n",
       "      <td>owns Unruly, which competes with Google's You...</td>\n",
       "      <td>owns unruly, which competes with  company2 's...</td>\n",
       "      <td>0.500000</td>\n",
       "      <td>0.364583</td>\n",
       "    </tr>\n",
       "  </tbody>\n",
       "</table>\n",
       "</div>"
      ],
      "text/plain": [
       "   Unnamed: 0                 company1      company2  is_parent  \\\n",
       "1       40891  The_Walt_Disney_Company  NBCUniversal      False   \n",
       "3       70215                     DStv   MultiChoice      False   \n",
       "4       39242                   Google          AT&T      False   \n",
       "5       80117                   Google   SmartThings      False   \n",
       "6       70336                  YouTube        Google      False   \n",
       "\n",
       "                                             snippet  \\\n",
       "1   One media executive said it may be difficult ...   \n",
       "3  MultiChoicee Ghana adds more local channels on...   \n",
       "4   While Google won that battle, AT&T filed a la...   \n",
       "5   When you try to add a new smart home device u...   \n",
       "6   owns Unruly, which competes with Google's You...   \n",
       "\n",
       "                                     aliased_snippet  company1_pos  \\\n",
       "1   one media executive said it may be difficult ...      0.654545   \n",
       "3   company2 e ghana adds more local channels on ...      0.259887   \n",
       "4   while  company1  won that battle,  company2  ...      0.071429   \n",
       "5   when you try to add a new smart home device u...      0.878661   \n",
       "6   owns unruly, which competes with  company2 's...      0.500000   \n",
       "\n",
       "   company2_pos  \n",
       "1      0.386364  \n",
       "3      0.005650  \n",
       "4      0.321429  \n",
       "5      0.493724  \n",
       "6      0.364583  "
      ]
     },
     "execution_count": 29,
     "metadata": {},
     "output_type": "execute_result"
    }
   ],
   "source": [
    "train[train[RESULT]== False][:5]"
   ]
  },
  {
   "cell_type": "code",
   "execution_count": 30,
   "metadata": {
    "collapsed": true
   },
   "outputs": [],
   "source": [
    "import itertools\n",
    "from sklearn.metrics import confusion_matrix\n",
    "\n",
    "def plot_confusion_matrix(y_true, y_pred, classes,\n",
    "                          normalize=False,\n",
    "                          title='Confusion matrix',\n",
    "                          cmap=plt.cm.Blues,\n",
    "                          figsize=(9, 7)):\n",
    "    matrix = confusion_matrix(y_true, y_pred)\n",
    "\n",
    "    if normalize:\n",
    "        matrix = matrix.astype('float') / matrix.sum(axis=1)[:, np.newaxis]\n",
    "\n",
    "    plt.figure(figsize=figsize)\n",
    "    plt.imshow(matrix, interpolation='nearest', cmap=cmap)\n",
    "    plt.title(title)\n",
    "    plt.colorbar()\n",
    "\n",
    "    tick_marks = np.arange(len(classes))\n",
    "    plt.xticks(tick_marks, classes, rotation=45)\n",
    "    plt.yticks(tick_marks, classes)\n",
    "\n",
    "    fmt = '.2f' if normalize else 'd'\n",
    "    thresh = matrix.max() / 2.\n",
    "    for i, j in itertools.product(range(matrix.shape[0]), range(matrix.shape[1])):\n",
    "        plt.text(j, i, format(matrix[i, j], fmt),\n",
    "                 horizontalalignment=\"center\",\n",
    "                 size=int((figsize[0] / 10) * 38),\n",
    "                 color=\"white\" if matrix[i, j] > thresh else \"black\")\n",
    "\n",
    "    plt.tight_layout()\n",
    "    plt.ylabel('True label')\n",
    "    plt.xlabel('Predicted label')\n",
    "    plt.show()"
   ]
  },
  {
   "cell_type": "code",
   "execution_count": 31,
   "metadata": {
    "collapsed": true
   },
   "outputs": [],
   "source": [
    "from sklearn.feature_extraction.text import TfidfVectorizer, CountVectorizer\n",
    "from sklearn.pipeline import Pipeline"
   ]
  },
  {
   "cell_type": "code",
   "execution_count": 32,
   "metadata": {
    "collapsed": true
   },
   "outputs": [],
   "source": [
    "from sklearn.linear_model import LogisticRegression\n",
    "from sklearn.svm import LinearSVC\n",
    "from sklearn.naive_bayes import MultinomialNB"
   ]
  },
  {
   "cell_type": "code",
   "execution_count": 33,
   "metadata": {
    "collapsed": true
   },
   "outputs": [],
   "source": [
    "from sklearn.metrics import f1_score"
   ]
  },
  {
   "cell_type": "code",
   "execution_count": 101,
   "metadata": {
    "collapsed": true
   },
   "outputs": [],
   "source": [
    "# work in progress The idea is to train on the whole corpus and transofrm what is passed\n",
    "class VectFeed(TransformerMixin,BaseEstimator):\n",
    "    def __init__(self, vectorizer):\n",
    "        self.vectorizer = vectorizer\n",
    "        self.fitted = False\n",
    "    def transform(self, X, **kwargs):\n",
    "        text = X[TEXT]\n",
    "        if not self.fitted:\n",
    "            self.vectorizer.fit(corpus)\n",
    "            self.fitted = True\n",
    "           \n",
    "        return self.vectorizer.transform(text)\n",
    "            \n",
    "        return vectorizer.transform(text)\n",
    "    def fit(self, X, y=None, **kwargs):\n",
    "        return self\n",
    "    def set_params(self, **kwargs):\n",
    "        self.vectorizer.set_params(kwargs)\n",
    "        return self"
   ]
  },
  {
   "cell_type": "code",
   "execution_count": 35,
   "metadata": {
    "collapsed": true
   },
   "outputs": [],
   "source": [
    "def try_pipeline(pipeline, X, y, X_test, y_test):\n",
    "    params = {\n",
    "        \"vect__input\": corpus\n",
    "    }\n",
    "    \n",
    "    pipeline.fit(X, y)\n",
    "    \n",
    "    predictions = pipeline.predict(X)\n",
    "    print(\"Score on train set is: {}\".format(pipeline.score(X,y)))\n",
    "    print(\"F1 on train set is: {}\".format(f1_score(y, predictions)))\n",
    "    plot_confusion_matrix(y, predictions, classes=[0,1], normalize=True)\n",
    "    predictions = pipeline.predict(X_test)\n",
    "    print(\"Score on dev set is: {}\".format(pipeline.score(X_test, y_test)))\n",
    "    print(\"F1 on dev set is: {}\".format(f1_score(y_test, predictions)))\n",
    "    plot_confusion_matrix(y_test, predictions, classes=[0,1],normalize=True)"
   ]
  },
  {
   "cell_type": "code",
   "execution_count": 36,
   "metadata": {
    "collapsed": true
   },
   "outputs": [],
   "source": [
    "from sklearn.pipeline import FeatureUnion"
   ]
  },
  {
   "cell_type": "code",
   "execution_count": 37,
   "metadata": {
    "collapsed": true
   },
   "outputs": [],
   "source": [
    "class ArrayCaster(BaseEstimator, TransformerMixin):\n",
    "    def __init__(self, transformer):\n",
    "        self.transformer = transformer\n",
    "        \n",
    "    def fit(self, x, y=None):\n",
    "        return self\n",
    "\n",
    "    def transform(self, data):\n",
    "        result = self.transformer.fit_transform(data)\n",
    "        return np.transpose(np.matrix(result))"
   ]
  },
  {
   "cell_type": "code",
   "execution_count": 38,
   "metadata": {
    "collapsed": true
   },
   "outputs": [],
   "source": [
    "features = FeatureUnion([\n",
    "        (\"pos_company1\", ArrayCaster(RatioPos(COMPANY1))),\n",
    "        (\"pos_company2\", ArrayCaster(RatioPos(COMPANY2))),\n",
    "        (\"vect\", VectFeed(TfidfVectorizer())),\n",
    "    ])"
   ]
  },
  {
   "cell_type": "code",
   "execution_count": 39,
   "metadata": {},
   "outputs": [
    {
     "data": {
      "text/plain": [
       "(5, 32800)"
      ]
     },
     "execution_count": 39,
     "metadata": {},
     "output_type": "execute_result"
    }
   ],
   "source": [
    "features.fit_transform(train[:5]).shape"
   ]
  },
  {
   "cell_type": "code",
   "execution_count": 40,
   "metadata": {},
   "outputs": [
    {
     "data": {
      "text/plain": [
       "matrix([[ 0.08730159,  0.24603175,  0.        , ...,  0.        ,\n",
       "          0.        ,  0.        ]])"
      ]
     },
     "execution_count": 40,
     "metadata": {},
     "output_type": "execute_result"
    }
   ],
   "source": [
    "features.fit_transform(train[:5])[0].todense()[0]"
   ]
  },
  {
   "cell_type": "markdown",
   "metadata": {},
   "source": [
    "After using TfidfVectorizer transform and testing Logistic Regression classifier using the default transformer and algorithm's parameter values, we scored a 0.22 f1_score."
   ]
  },
  {
   "cell_type": "code",
   "execution_count": 48,
   "metadata": {
    "scrolled": true
   },
   "outputs": [
    {
     "name": "stdout",
     "output_type": "stream",
     "text": [
      "Score on train set is: 0.7980852289087245\n",
      "F1 on train set is: 0.6284522153785019\n"
     ]
    },
    {
     "data": {
      "image/png": "[encoded data removed]",
      "text/plain": [
       "<matplotlib.figure.Figure at 0x1160add8>"
      ]
     },
     "metadata": {},
     "output_type": "display_data"
    },
    {
     "name": "stdout",
     "output_type": "stream",
     "text": [
      "Score on dev set is: 0.5660115898211137\n",
      "F1 on dev set is: 0.22809769213533498\n"
     ]
    },
    {
     "data": {
      "image/png": "[encoded data removed]",
      "text/plain": [
       "<matplotlib.figure.Figure at 0x108442e8>"
      ]
     },
     "metadata": {},
     "output_type": "display_data"
    }
   ],
   "source": [
    "pipeline = Pipeline([\n",
    "    (\"union\", features),\n",
    "    (\"classifier\", LogisticRegression())\n",
    "])\n",
    "\n",
    "\n",
    "try_pipeline(pipeline, train, train[RESULT], dev, dev[RESULT])"
   ]
  },
  {
   "cell_type": "code",
   "execution_count": 99,
   "metadata": {
    "collapsed": true
   },
   "outputs": [],
   "source": [
    "from sklearn.model_selection import GridSearchCV\n",
    "from sklearn.metrics import f1_score\n",
    "from sklearn.metrics import make_scorer\n",
    "\n",
    "f1_scorer = make_scorer(f1_score, pos_label=\"yes\")"
   ]
  },
  {
   "cell_type": "markdown",
   "metadata": {},
   "source": [
    "Trying to tune our hyperparameters. "
   ]
  },
  {
   "cell_type": "markdown",
   "metadata": {},
   "source": [
    "Because we were having problem passing our parameter values from GridSearch(param_grid=) to VectFeed(Tfidfvectorizer()), we achieved the same functionality with the below nested loops."
   ]
  },
  {
   "cell_type": "code",
   "execution_count": 123,
   "metadata": {},
   "outputs": [],
   "source": [
    "tfidf__ngram_range = [(1, 1), (1, 2), (1, 3)]\n",
    "tfidf__norm = ['l1', 'l2']\n",
    "tfidf__max_df = [0.80, 1]\n",
    "\n",
    "scores = []\n",
    "\n",
    "for ngram_range in tfidf__ngram_range:\n",
    "    for norm in tfidf__norm:\n",
    "        for max_df in tfidf__max_df:\n",
    "            features = FeatureUnion([\n",
    "                    (\"pos_company1\", ArrayCaster(RatioPos(COMPANY1))),\n",
    "                    (\"pos_company2\", ArrayCaster(RatioPos(COMPANY2))),\n",
    "                    (\"vect\", VectFeed(TfidfVectorizer(analyzer=analyzer, ngram_range=ngram_range, norm=norm, max_df=max_df))),\n",
    "                ])\n",
    "\n",
    "            pipeline = Pipeline([\n",
    "                (\"union\", features),\n",
    "                (\"classifier\", LogisticRegression())\n",
    "            ])\n",
    "\n",
    "            param_grid = {\n",
    "                    'classifier__C': [0.01, 0.1, 1, 10],\n",
    "                    'classifier__class_weight' : ['balanced'],\n",
    "            }\n",
    "\n",
    "            grid = GridSearchCV(pipeline, cv=3, param_grid=param_grid, error_score=f1_scorer)\n",
    "            grid.fit(train, train[RESULT])\n",
    "            mean_scores = np.array(grid.cv_results_['mean_test_score'])\n",
    "            scores.append([('mean_score', mean_scores), ('C', grid.best_params_['classifier__C']), ('norm', norm), ('ngram_range', ngram_range), ('max_df', max_df)])\n"
   ]
  },
  {
   "cell_type": "code",
   "execution_count": 126,
   "metadata": {
    "scrolled": true
   },
   "outputs": [
    {
     "data": {
      "text/plain": [
       "[[('mean_score', array([ 0.59159948])),\n",
       "  ('analyzer', 'word'),\n",
       "  ('norm', 'l1'),\n",
       "  ('ngram_range', (1, 1)),\n",
       "  ('max_df', 0.8)],\n",
       " [('mean_score', array([ 0.57441333])),\n",
       "  ('analyzer', 'word'),\n",
       "  ('norm', 'l1'),\n",
       "  ('ngram_range', (1, 1)),\n",
       "  ('max_df', 1)],\n",
       " [('mean_score', array([ 0.64207817])),\n",
       "  ('analyzer', 'word'),\n",
       "  ('norm', 'l2'),\n",
       "  ('ngram_range', (1, 1)),\n",
       "  ('max_df', 0.8)],\n",
       " [('mean_score', array([ 0.57434135])),\n",
       "  ('analyzer', 'word'),\n",
       "  ('norm', 'l2'),\n",
       "  ('ngram_range', (1, 1)),\n",
       "  ('max_df', 1)],\n",
       " [('mean_score', array([ 0.58010006])),\n",
       "  ('analyzer', 'word'),\n",
       "  ('norm', 'l1'),\n",
       "  ('ngram_range', (1, 2)),\n",
       "  ('max_df', 0.8)],\n",
       " [('mean_score', array([ 0.57534912])),\n",
       "  ('analyzer', 'word'),\n",
       "  ('norm', 'l1'),\n",
       "  ('ngram_range', (1, 2)),\n",
       "  ('max_df', 1)],\n",
       " [('mean_score', array([ 0.67691837])),\n",
       "  ('analyzer', 'word'),\n",
       "  ('norm', 'l2'),\n",
       "  ('ngram_range', (1, 2)),\n",
       "  ('max_df', 0.8)],\n",
       " [('mean_score', array([ 0.5741254])),\n",
       "  ('analyzer', 'word'),\n",
       "  ('norm', 'l2'),\n",
       "  ('ngram_range', (1, 2)),\n",
       "  ('max_df', 1)],\n",
       " [('mean_score', array([ 0.57644688])),\n",
       "  ('analyzer', 'word'),\n",
       "  ('norm', 'l1'),\n",
       "  ('ngram_range', (1, 3)),\n",
       "  ('max_df', 0.8)],\n",
       " [('mean_score', array([ 0.57783257])),\n",
       "  ('analyzer', 'word'),\n",
       "  ('norm', 'l1'),\n",
       "  ('ngram_range', (1, 3)),\n",
       "  ('max_df', 1)],\n",
       " [('mean_score', array([ 0.6593723])),\n",
       "  ('analyzer', 'word'),\n",
       "  ('norm', 'l2'),\n",
       "  ('ngram_range', (1, 3)),\n",
       "  ('max_df', 0.8)],\n",
       " [('mean_score', array([ 0.57979413])),\n",
       "  ('analyzer', 'word'),\n",
       "  ('norm', 'l2'),\n",
       "  ('ngram_range', (1, 3)),\n",
       "  ('max_df', 1)]]"
      ]
     },
     "execution_count": 126,
     "metadata": {},
     "output_type": "execute_result"
    }
   ],
   "source": [
    "scores"
   ]
  },
  {
   "cell_type": "markdown",
   "metadata": {},
   "source": [
    "Testing our model with the parameter values that gave the best mean score (of f1_scores), after NestedLoop_GridSearch, \n",
    "we managed to raise our f1_score: 0.56"
   ]
  },
  {
   "cell_type": "code",
   "execution_count": 140,
   "metadata": {},
   "outputs": [
    {
     "name": "stdout",
     "output_type": "stream",
     "text": [
      "Score on train set is: 0.7197667722430175\n",
      "F1 on train set is: 0.6097634322373697\n"
     ]
    },
    {
     "data": {
      "image/png": "[encoded data removed]",
      "text/plain": [
       "<matplotlib.figure.Figure at 0x18167ac8>"
      ]
     },
     "metadata": {},
     "output_type": "display_data"
    },
    {
     "name": "stdout",
     "output_type": "stream",
     "text": [
      "Score on dev set is: 0.6909171075837742\n",
      "F1 on dev set is: 0.5672457888702708\n"
     ]
    },
    {
     "data": {
      "image/png": "[encoded data removed]",
      "text/plain": [
       "<matplotlib.figure.Figure at 0x2139b470>"
      ]
     },
     "metadata": {},
     "output_type": "display_data"
    }
   ],
   "source": [
    "features = FeatureUnion([\n",
    "        (\"pos_company1\", ArrayCaster(RatioPos(COMPANY1))),\n",
    "        (\"pos_company2\", ArrayCaster(RatioPos(COMPANY2))),\n",
    "        (\"vect\", VectFeed(TfidfVectorizer(ngram_range=(1, 2), norm='l2', max_df=0.8))),\n",
    "    ])\n",
    "\n",
    "pipeline = Pipeline([\n",
    "    (\"union\", features),\n",
    "    (\"classifier\", LogisticRegression(C=0.1, class_weight='balanced'))\n",
    "])\n",
    "\n",
    "\n",
    "try_pipeline(pipeline, train, train[RESULT], dev, dev[RESULT])\n"
   ]
  },
  {
   "cell_type": "code",
   "execution_count": null,
   "metadata": {
    "collapsed": true
   },
   "outputs": [],
   "source": [
    "Testing LinearSVC with the default parameter values."
   ]
  },
  {
   "cell_type": "code",
   "execution_count": 42,
   "metadata": {
    "scrolled": true
   },
   "outputs": [
    {
     "name": "stdout",
     "output_type": "stream",
     "text": [
      "Score on train set is: 0.7764540742873597\n",
      "F1 on train set is: 0.5491761631705017\n"
     ]
    },
    {
     "data": {
      "image/png": "[encoded data removed]",
      "text/plain": [
       "<matplotlib.figure.Figure at 0x10a64080>"
      ]
     },
     "metadata": {},
     "output_type": "display_data"
    },
    {
     "name": "stdout",
     "output_type": "stream",
     "text": [
      "Score on dev set is: 0.6254724111866969\n",
      "F1 on dev set is: 0.25804841527327177\n"
     ]
    },
    {
     "data": {
      "image/png": "[encoded data removed]",
      "text/plain": [
       "<matplotlib.figure.Figure at 0x10c73438>"
      ]
     },
     "metadata": {},
     "output_type": "display_data"
    }
   ],
   "source": [
    "pipeline = Pipeline([\n",
    "    (\"union\", features),\n",
    "    (\"classifier\", LinearSVC())\n",
    "])\n",
    "\n",
    "try_pipeline(pipeline, train, train[RESULT], dev, dev[RESULT])"
   ]
  },
  {
   "cell_type": "markdown",
   "metadata": {},
   "source": [
    "f1_score: 0.25\n",
    "So we are trying to tune our hyperparameters with our NestedLoop_GridSearch method."
   ]
  },
  {
   "cell_type": "code",
   "execution_count": 135,
   "metadata": {},
   "outputs": [],
   "source": [
    "tfidf__ngram_range = [(1, 1), (1, 2), (1, 3)]\n",
    "tfidf__norm = ['l1', 'l2']\n",
    "tfidf__max_df = [0.80, 1]\n",
    "\n",
    "scores = []\n",
    "\n",
    "for ngram_range in tfidf__ngram_range:\n",
    "    for norm in tfidf__norm:\n",
    "        for max_df in tfidf__max_df:\n",
    "            features = FeatureUnion([\n",
    "                    (\"pos_company1\", ArrayCaster(RatioPos(COMPANY1))),\n",
    "                    (\"pos_company2\", ArrayCaster(RatioPos(COMPANY2))),\n",
    "                    (\"vect\", VectFeed(TfidfVectorizer(analyzer=analyzer, ngram_range=ngram_range, norm=norm, max_df=max_df))),\n",
    "                ])\n",
    "\n",
    "            pipeline = Pipeline([\n",
    "                (\"union\", features),\n",
    "                (\"classifier\", LinearSVC())\n",
    "            ])\n",
    "\n",
    "            param_grid = {\n",
    "                    'classifier__C': [0.01, 0.1, 1]\n",
    "            }\n",
    "\n",
    "            grid = GridSearchCV(pipeline, cv=3, param_grid=param_grid, error_score=f1_scorer)\n",
    "            grid.fit(train, train[RESULT])\n",
    "            mean_scores = np.array(grid.cv_results_['mean_test_score'])\n",
    "            scores.append([('mean_score', mean_scores),('C', grid.best_params_['classifier__C']), ('norm', norm), ('ngram_range', ngram_range), ('max_df', max_df)])\n"
   ]
  },
  {
   "cell_type": "code",
   "execution_count": 137,
   "metadata": {
    "scrolled": true
   },
   "outputs": [
    {
     "data": {
      "text/plain": [
       "[[('mean_score', array([ 0.70247265,  0.70531601,  0.70243665])),\n",
       "  ('C', 0.1),\n",
       "  ('norm', 'l1'),\n",
       "  ('ngram_range', (1, 1)),\n",
       "  ('max_df', 0.8)],\n",
       " [('mean_score', array([ 0.70252663,  0.70252663,  0.70247265])),\n",
       "  ('C', 0.01),\n",
       "  ('norm', 'l1'),\n",
       "  ('ngram_range', (1, 1)),\n",
       "  ('max_df', 1)],\n",
       " [('mean_score', array([ 0.70634178,  0.69559819,  0.63853297])),\n",
       "  ('C', 0.01),\n",
       "  ('norm', 'l2'),\n",
       "  ('ngram_range', (1, 1)),\n",
       "  ('max_df', 0.8)],\n",
       " [('mean_score', array([ 0.70252663,  0.70252663,  0.70249064])),\n",
       "  ('C', 0.01),\n",
       "  ('norm', 'l2'),\n",
       "  ('ngram_range', (1, 1)),\n",
       "  ('max_df', 1)],\n",
       " [('mean_score', array([ 0.70252663,  0.70351641,  0.72550749])),\n",
       "  ('C', 1),\n",
       "  ('norm', 'l1'),\n",
       "  ('ngram_range', (1, 2)),\n",
       "  ('max_df', 0.8)],\n",
       " [('mean_score', array([ 0.70252663,  0.70252663,  0.70252663])),\n",
       "  ('C', 0.01),\n",
       "  ('norm', 'l1'),\n",
       "  ('ngram_range', (1, 2)),\n",
       "  ('max_df', 1)],\n",
       " [('mean_score', array([ 0.70754751,  0.75665851,  0.74409732])),\n",
       "  ('C', 0.1),\n",
       "  ('norm', 'l2'),\n",
       "  ('ngram_range', (1, 2)),\n",
       "  ('max_df', 0.8)],\n",
       " [('mean_score', array([ 0.70252663,  0.70252663,  0.69932335])),\n",
       "  ('C', 0.01),\n",
       "  ('norm', 'l2'),\n",
       "  ('ngram_range', (1, 2)),\n",
       "  ('max_df', 1)],\n",
       " [('mean_score', array([ 0.70252663,  0.70274259,  0.71048085])),\n",
       "  ('C', 1),\n",
       "  ('norm', 'l1'),\n",
       "  ('ngram_range', (1, 3)),\n",
       "  ('max_df', 0.8)],\n",
       " [('mean_score', array([ 0.70252663,  0.70252663,  0.70252663])),\n",
       "  ('C', 0.01),\n",
       "  ('norm', 'l1'),\n",
       "  ('ngram_range', (1, 3)),\n",
       "  ('max_df', 1)],\n",
       " [('mean_score', array([ 0.70405629,  0.75129571,  0.76146343])),\n",
       "  ('C', 1),\n",
       "  ('norm', 'l2'),\n",
       "  ('ngram_range', (1, 3)),\n",
       "  ('max_df', 0.8)],\n",
       " [('mean_score', array([ 0.70252663,  0.70247265,  0.7022207 ])),\n",
       "  ('C', 0.01),\n",
       "  ('norm', 'l2'),\n",
       "  ('ngram_range', (1, 3)),\n",
       "  ('max_df', 1)]]"
      ]
     },
     "execution_count": 137,
     "metadata": {},
     "output_type": "execute_result"
    }
   ],
   "source": [
    "scores"
   ]
  },
  {
   "cell_type": "markdown",
   "metadata": {},
   "source": [
    "After tuning our parameters, we managed to achieve a f1_score of: 0.60. This score seems to be the highiest within our \n",
    "classical machine learning approach."
   ]
  },
  {
   "cell_type": "code",
   "execution_count": 148,
   "metadata": {
    "scrolled": true
   },
   "outputs": [
    {
     "name": "stdout",
     "output_type": "stream",
     "text": [
      "Score on train set is: 0.8396739130434783\n",
      "F1 on train set is: 0.7658914728682171\n"
     ]
    },
    {
     "data": {
      "image/png": "[encoded data removed]",
      "text/plain": [
       "<matplotlib.figure.Figure at 0x17d80780>"
      ]
     },
     "metadata": {},
     "output_type": "display_data"
    },
    {
     "name": "stdout",
     "output_type": "stream",
     "text": [
      "Score on dev set is: 0.732615268329554\n",
      "F1 on dev set is: 0.6041219807889583\n"
     ]
    },
    {
     "data": {
      "image/png": "[encoded data removed]",
      "text/plain": [
       "<matplotlib.figure.Figure at 0x1cc9b6d8>"
      ]
     },
     "metadata": {},
     "output_type": "display_data"
    }
   ],
   "source": [
    "features = FeatureUnion([\n",
    "        (\"pos_company1\", ArrayCaster(RatioPos(COMPANY1))),\n",
    "        (\"pos_company2\", ArrayCaster(RatioPos(COMPANY2))),\n",
    "        (\"vect\", VectFeed(TfidfVectorizer(ngram_range=(1, 2), norm='l2', max_df=0.8))),\n",
    "    ])\n",
    "\n",
    "pipeline = Pipeline([\n",
    "    (\"union\", features),\n",
    "    (\"classifier\", LinearSVC(C=0.1, class_weight='balanced'))\n",
    "])\n",
    "\n",
    "\n",
    "try_pipeline(pipeline, train, train[RESULT], dev, dev[RESULT])"
   ]
  },
  {
   "cell_type": "markdown",
   "metadata": {},
   "source": [
    "Testing MultinomialNB with poor results"
   ]
  },
  {
   "cell_type": "code",
   "execution_count": 43,
   "metadata": {
    "scrolled": true
   },
   "outputs": [
    {
     "name": "stdout",
     "output_type": "stream",
     "text": [
      "Score on train set is: 0.7086992513676936\n",
      "F1 on train set is: 0.09625369884428564\n"
     ]
    },
    {
     "data": {
      "image/png": "[encoded data removed]",
      "text/plain": [
       "<matplotlib.figure.Figure at 0x109e0828>"
      ]
     },
     "metadata": {},
     "output_type": "display_data"
    },
    {
     "name": "stdout",
     "output_type": "stream",
     "text": [
      "Score on dev set is: 0.688145628621819\n",
      "F1 on dev set is: 0.0331966412809998\n"
     ]
    },
    {
     "data": {
      "image/png": "[encoded data removed]",
      "text/plain": [
       "<matplotlib.figure.Figure at 0x10fdaa58>"
      ]
     },
     "metadata": {},
     "output_type": "display_data"
    }
   ],
   "source": [
    "pipeline = Pipeline([\n",
    "    (\"union\", features),\n",
    "    (\"classifier\", MultinomialNB())\n",
    "])\n",
    "\n",
    "try_pipeline(pipeline, train, train[RESULT], dev, dev[RESULT])"
   ]
  },
  {
   "cell_type": "markdown",
   "metadata": {},
   "source": [
    "Lastly I will check what goes on when using linear naive b"
   ]
  },
  {
   "cell_type": "code",
   "execution_count": null,
   "metadata": {
    "collapsed": true
   },
   "outputs": [],
   "source": [
    "def pr(y_i, y):\n",
    "    p = x[y==y_i].sum(0)\n",
    "    return (p+1) / ((y==y_i).sum()+1)"
   ]
  },
  {
   "cell_type": "code",
   "execution_count": null,
   "metadata": {
    "collapsed": true
   },
   "outputs": [],
   "source": [
    "def get_mdl(train, y):\n",
    "    y = y.values\n",
    "    r = np.log(pr(1,y) / pr(0,y))\n",
    "    m = LogisticRegression(C=4, dual=True)\n",
    "    x_nb = train.multiply(r)\n",
    "    return m.fit(x_nb, y), r"
   ]
  },
  {
   "cell_type": "code",
   "execution_count": null,
   "metadata": {
    "collapsed": true
   },
   "outputs": [],
   "source": [
    "# corpus = pd.read_csv(\"../data/train.csv\")\n",
    "# vec = TfidfVectorizer(ngram_range=(1,2),\n",
    "#                min_df=3, max_df=0.9, strip_accents='unicode', use_idf=1,\n",
    "#                smooth_idf=1, sublinear_tf=1 )\n",
    "# vec.fit(corpus)"
   ]
  }
 ],
 "metadata": {
  "kernelspec": {
   "display_name": "Python 3",
   "language": "python",
   "name": "python3"
  },
  "language_info": {
   "codemirror_mode": {
    "name": "ipython",
    "version": 3
   },
   "file_extension": ".py",
   "mimetype": "text/x-python",
   "name": "python",
   "nbconvert_exporter": "python",
   "pygments_lexer": "ipython3",
   "version": "3.6.3"
  }
 },
 "nbformat": 4,
 "nbformat_minor": 2
}
