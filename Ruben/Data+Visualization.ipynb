{
 "cells": [
  {
   "cell_type": "markdown",
   "metadata": {},
   "source": [
    "### Visualizing Companies Relationships\n",
    "#### By Ruben Seoane\n",
    "\n",
    "We studied a few visualization kibraries like Seaborn, Bokeh and Plotlib for representing the training dataset visually (columns [:3]), "
   ]
  },
  {
   "cell_type": "markdown",
   "metadata": {},
   "source": [
    "#### *First Attempt*<br>\n",
    "We decided to create a \"word cloud\" visualization to show the frequency of entities and words appearing on the trainning set. <br>We found this library: https://github.com/amueller/word_cloud to be a great resource, our intention was to follow this tutorial: http://minimaxir.com/2016/05/wordclouds/.<br>However, both @radpet and I run into problems while installing the library. In my case it seemed that after installation through pip or the original zip file, Python will not recognize the module as installed. <br>In the case of @radpet, using Ubuntu allowed him to correctly import the library, but couldn't implement the word cloud as a layer over the .png image. <br>*_Tutorial Code Follows_*"
   ]
  },
  {
   "cell_type": "code",
   "execution_count": null,
   "metadata": {
    "collapsed": true
   },
   "outputs": [],
   "source": [
    "import numpy as np\n",
    "from PIL import Image\n",
    "from os import path\n",
    "import matplotlib.pyplot as plt\n",
    "import random\n",
    "\n",
    "from wordcloud import WordCloud, STOPWORDS\n",
    "\n",
    "\n",
    "def grey_color_func(word, font_size, position, orientation, random_state=None,\n",
    "                    **kwargs):\n",
    "    return \"hsl(0, 0%%, %d%%)\" % random.randint(60, 100)\n",
    "\n",
    "d = path.dirname(__file__)\n",
    "\n",
    "# read the mask image\n",
    "# taken from\n",
    "# http://www.stencilry.org/stencils/movies/star%20wars/storm-trooper.gif\n",
    "mask = np.array(Image.open(path.join(d, \"stormtrooper_mask.png\")))\n",
    "\n",
    "# movie script of \"a new hope\"\n",
    "# http://www.imsdb.com/scripts/Star-Wars-A-New-Hope.html\n",
    "# May the lawyers deem this fair use.\n",
    "text = open(\"a_new_hope.txt\").read()\n",
    "\n",
    "# preprocessing the text a little bit\n",
    "text = text.replace(\"HAN\", \"Han\")\n",
    "text = text.replace(\"LUKE'S\", \"Luke\")\n",
    "\n",
    "# adding movie script specific stopwords\n",
    "stopwords = set(STOPWORDS)\n",
    "stopwords.add(\"int\")\n",
    "stopwords.add(\"ext\")\n",
    "\n",
    "wc = WordCloud(max_words=1000, mask=mask, stopwords=stopwords, margin=10,\n",
    "               random_state=1).generate(text)\n",
    "# store default colored image\n",
    "default_colors = wc.to_array()\n",
    "plt.title(\"Custom colors\")\n",
    "plt.imshow(wc.recolor(color_func=grey_color_func, random_state=3),\n",
    "           interpolation=\"bilinear\")\n",
    "wc.to_file(\"a_new_hope.png\")\n",
    "plt.axis(\"off\")\n",
    "plt.figure()\n",
    "plt.title(\"Default colors\")\n",
    "plt.imshow(default_colors, interpolation=\"bilinear\")\n",
    "plt.axis(\"off\")\n",
    "plt.show()"
   ]
  },
  {
   "cell_type": "markdown",
   "metadata": {},
   "source": [
    "The result should look like this (our idea was to take the image of Darth Vader as it fits the title of the case):"
   ]
  },
  {
   "cell_type": "code",
   "execution_count": 2,
   "metadata": {},
   "outputs": [
    {
     "data": {
      "text/html": [
       "<img src=\"http://minimaxir.com/img/wordclouds/a_new_hope_1.png\"/>"
      ],
      "text/plain": [
       "<IPython.core.display.Image object>"
      ]
     },
     "execution_count": 2,
     "metadata": {},
     "output_type": "execute_result"
    }
   ],
   "source": [
    "from IPython.display import Image\n",
    "from IPython.core.display import HTML \n",
    "Image(url= \"http://minimaxir.com/img/wordclouds/a_new_hope_1.png\")"
   ]
  },
  {
   "cell_type": "markdown",
   "metadata": {},
   "source": [
    "#### *Second Attempt*<br>\n",
    "Reviewing D3.js visualizations I found the \"Chord Diagram\" to be a very interesting way to visualize the number of cases where 2 companies appear together, as well as if they are related by ownership or not.<br> Bokeh and Plotlib are good candidates: https://python-graph-gallery.com/231-chord-diagram-with-bokeh/ and https://plot.ly/python/filled-chord-diagram/ \n",
    "<br>In the chord diagram, the perimeter of the wheel will be composed by the companies mentioned in the training set and the radius will correlate with the number of times they appear in the data. Two colors for the lines connecting entities could be used to show TRUE/FALSE is_parent relationships. In this case, we had to generate a new table of data to show this relationships which meant a distraction from the main goal, but for a similar case where time is more flexible, it could be a good way to conceptualize the data and entities distribution before building the models.<br><br>As can be seen from the Plotly tutorial, implementing the visualization can be a tedious process, the best alternative was the Bokeh implementation,whose code follows:"
   ]
  },
  {
   "cell_type": "code",
   "execution_count": null,
   "metadata": {
    "collapsed": true
   },
   "outputs": [],
   "source": [
    "import pandas as pd\n",
    "from bokeh.charts import output_file, Chord\n",
    "from bokeh.io import show\n",
    "from bokeh.sampledata.les_mis import data\n",
    "\n",
    "nodes = data['nodes']\n",
    "links = data['links']\n",
    "\n",
    "nodes_df = pd.DataFrame(nodes)\n",
    "links_df = pd.DataFrame(links)\n",
    "\n",
    "source_data = links_df.merge(nodes_df, how='left', left_on='source', right_index=True)\n",
    "source_data = source_data.merge(nodes_df, how='left', left_on='target', right_index=True)\n",
    "source_data = source_data[source_data[\"value\"] > 5]\n",
    "\n",
    "chord_from_df = Chord(source_data, source=\"name_x\", target=\"name_y\", value=\"value\")\n",
    "output_file('chord_from_df.html', mode=\"inline\")\n",
    "show(chord_from_df)\n"
   ]
  },
  {
   "cell_type": "code",
   "execution_count": 7,
   "metadata": {},
   "outputs": [
    {
     "data": {
      "text/html": [
       "<img src=\"https://python-graph-gallery.com/wp-content/uploads/231_Chord_Bokeh.png\"/>"
      ],
      "text/plain": [
       "<IPython.core.display.Image object>"
      ]
     },
     "execution_count": 7,
     "metadata": {},
     "output_type": "execute_result"
    }
   ],
   "source": [
    "from IPython.display import Image\n",
    "from IPython.core.display import HTML \n",
    "Image(url= \"https://python-graph-gallery.com/wp-content/uploads/231_Chord_Bokeh.png\")"
   ]
  },
  {
   "cell_type": "code",
   "execution_count": null,
   "metadata": {
    "collapsed": true
   },
   "outputs": [],
   "source": []
  }
 ],
 "metadata": {
  "kernelspec": {
   "display_name": "Python 3",
   "language": "python",
   "name": "python3"
  },
  "language_info": {
   "codemirror_mode": {
    "name": "ipython",
    "version": 3
   },
   "file_extension": ".py",
   "mimetype": "text/x-python",
   "name": "python",
   "nbconvert_exporter": "python",
   "pygments_lexer": "ipython3",
   "version": "3.6.2"
  }
 },
 "nbformat": 4,
 "nbformat_minor": 2
}
